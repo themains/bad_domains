{
 "cells": [
  {
   "cell_type": "markdown",
   "id": "53cbacb4-50e5-4c69-838b-5c3dec9dd4db",
   "metadata": {},
   "source": [
    "### Exposure to Risky Websites\n",
    "\n",
    "1. What % of users went to a malicious website?\n",
    "2. Distribution of number of malicious websites a user goes to\n",
    "3. Distribution of time spent/visits by users on malicious websites\n",
    "\n",
    "And then by age, gender, ethnicity, education"
   ]
  },
  {
   "cell_type": "code",
   "execution_count": 1,
   "id": "8118432f-824c-488e-bffc-cafe56c92506",
   "metadata": {},
   "outputs": [],
   "source": [
    "import pandas as pd\n",
    "import numpy as np"
   ]
  },
  {
   "cell_type": "code",
   "execution_count": 2,
   "id": "bc4e2ead-0ff0-4eae-928a-b15ac5a6a32a",
   "metadata": {},
   "outputs": [
    {
     "data": {
      "text/html": [
       "<div>\n",
       "<style scoped>\n",
       "    .dataframe tbody tr th:only-of-type {\n",
       "        vertical-align: middle;\n",
       "    }\n",
       "\n",
       "    .dataframe tbody tr th {\n",
       "        vertical-align: top;\n",
       "    }\n",
       "\n",
       "    .dataframe thead th {\n",
       "        text-align: right;\n",
       "    }\n",
       "</style>\n",
       "<table border=\"1\" class=\"dataframe\">\n",
       "  <thead>\n",
       "    <tr style=\"text-align: right;\">\n",
       "      <th></th>\n",
       "      <th>caseid</th>\n",
       "      <th>private_domain</th>\n",
       "      <th>duration</th>\n",
       "      <th>visits</th>\n",
       "    </tr>\n",
       "  </thead>\n",
       "  <tbody>\n",
       "    <tr>\n",
       "      <th>0</th>\n",
       "      <td>47541</td>\n",
       "      <td>10best.com</td>\n",
       "      <td>34</td>\n",
       "      <td>4</td>\n",
       "    </tr>\n",
       "    <tr>\n",
       "      <th>1</th>\n",
       "      <td>47541</td>\n",
       "      <td>1800petmeds.com</td>\n",
       "      <td>136</td>\n",
       "      <td>16</td>\n",
       "    </tr>\n",
       "    <tr>\n",
       "      <th>2</th>\n",
       "      <td>47541</td>\n",
       "      <td>2uf4ta.net</td>\n",
       "      <td>8</td>\n",
       "      <td>6</td>\n",
       "    </tr>\n",
       "    <tr>\n",
       "      <th>3</th>\n",
       "      <td>47541</td>\n",
       "      <td>3m.com</td>\n",
       "      <td>2</td>\n",
       "      <td>2</td>\n",
       "    </tr>\n",
       "    <tr>\n",
       "      <th>4</th>\n",
       "      <td>47541</td>\n",
       "      <td>8x8.com</td>\n",
       "      <td>404</td>\n",
       "      <td>20</td>\n",
       "    </tr>\n",
       "  </tbody>\n",
       "</table>\n",
       "</div>"
      ],
      "text/plain": [
       "   caseid   private_domain  duration  visits\n",
       "0   47541       10best.com        34       4\n",
       "1   47541  1800petmeds.com       136      16\n",
       "2   47541       2uf4ta.net         8       6\n",
       "3   47541           3m.com         2       2\n",
       "4   47541          8x8.com       404      20"
      ]
     },
     "execution_count": 2,
     "metadata": {},
     "output_type": "execute_result"
    }
   ],
   "source": [
    "yg = pd.read_csv(\"yg_ind_domain.csv.gz\")\n",
    "yg.head()"
   ]
  },
  {
   "cell_type": "code",
   "execution_count": 3,
   "id": "39ee73e5-86a4-4f68-be67-a37d92a00af2",
   "metadata": {},
   "outputs": [],
   "source": [
    "yg['duration_min'] = yg['duration']/60"
   ]
  },
  {
   "cell_type": "code",
   "execution_count": 4,
   "id": "052dc87f-5b0f-488b-95b0-4a45a01150a0",
   "metadata": {},
   "outputs": [
    {
     "data": {
      "text/html": [
       "<div>\n",
       "<style scoped>\n",
       "    .dataframe tbody tr th:only-of-type {\n",
       "        vertical-align: middle;\n",
       "    }\n",
       "\n",
       "    .dataframe tbody tr th {\n",
       "        vertical-align: top;\n",
       "    }\n",
       "\n",
       "    .dataframe thead th {\n",
       "        text-align: right;\n",
       "    }\n",
       "</style>\n",
       "<table border=\"1\" class=\"dataframe\">\n",
       "  <thead>\n",
       "    <tr style=\"text-align: right;\">\n",
       "      <th></th>\n",
       "      <th>caseid</th>\n",
       "      <th>birthyr</th>\n",
       "      <th>gender</th>\n",
       "      <th>race</th>\n",
       "      <th>educ</th>\n",
       "      <th>pid3</th>\n",
       "      <th>pid7</th>\n",
       "      <th>presvote20post</th>\n",
       "      <th>inputstate</th>\n",
       "      <th>region</th>\n",
       "    </tr>\n",
       "  </thead>\n",
       "  <tbody>\n",
       "    <tr>\n",
       "      <th>0</th>\n",
       "      <td>200661421.0</td>\n",
       "      <td>1963.0</td>\n",
       "      <td>2</td>\n",
       "      <td>1</td>\n",
       "      <td>4</td>\n",
       "      <td>3</td>\n",
       "      <td>3</td>\n",
       "      <td>1</td>\n",
       "      <td>39</td>\n",
       "      <td>2</td>\n",
       "    </tr>\n",
       "    <tr>\n",
       "      <th>1</th>\n",
       "      <td>200686597.0</td>\n",
       "      <td>1992.0</td>\n",
       "      <td>2</td>\n",
       "      <td>6</td>\n",
       "      <td>5</td>\n",
       "      <td>5</td>\n",
       "      <td>8</td>\n",
       "      <td>-1</td>\n",
       "      <td>48</td>\n",
       "      <td>3</td>\n",
       "    </tr>\n",
       "    <tr>\n",
       "      <th>2</th>\n",
       "      <td>200953869.0</td>\n",
       "      <td>1959.0</td>\n",
       "      <td>2</td>\n",
       "      <td>1</td>\n",
       "      <td>5</td>\n",
       "      <td>2</td>\n",
       "      <td>7</td>\n",
       "      <td>2</td>\n",
       "      <td>42</td>\n",
       "      <td>1</td>\n",
       "    </tr>\n",
       "    <tr>\n",
       "      <th>3</th>\n",
       "      <td>201302005.0</td>\n",
       "      <td>1966.0</td>\n",
       "      <td>2</td>\n",
       "      <td>2</td>\n",
       "      <td>3</td>\n",
       "      <td>5</td>\n",
       "      <td>8</td>\n",
       "      <td>1</td>\n",
       "      <td>12</td>\n",
       "      <td>3</td>\n",
       "    </tr>\n",
       "    <tr>\n",
       "      <th>4</th>\n",
       "      <td>201590505.0</td>\n",
       "      <td>1977.0</td>\n",
       "      <td>1</td>\n",
       "      <td>4</td>\n",
       "      <td>5</td>\n",
       "      <td>3</td>\n",
       "      <td>3</td>\n",
       "      <td>1</td>\n",
       "      <td>6</td>\n",
       "      <td>4</td>\n",
       "    </tr>\n",
       "  </tbody>\n",
       "</table>\n",
       "</div>"
      ],
      "text/plain": [
       "        caseid  birthyr  gender  race  educ  pid3  pid7  presvote20post  \\\n",
       "0  200661421.0   1963.0       2     1     4     3     3               1   \n",
       "1  200686597.0   1992.0       2     6     5     5     8              -1   \n",
       "2  200953869.0   1959.0       2     1     5     2     7               2   \n",
       "3  201302005.0   1966.0       2     2     3     5     8               1   \n",
       "4  201590505.0   1977.0       1     4     5     3     3               1   \n",
       "\n",
       "   inputstate  region  \n",
       "0          39       2  \n",
       "1          48       3  \n",
       "2          42       1  \n",
       "3          12       3  \n",
       "4           6       4  "
      ]
     },
     "execution_count": 4,
     "metadata": {},
     "output_type": "execute_result"
    }
   ],
   "source": [
    "profile = pd.read_csv(\"profile.csv\")\n",
    "profile.head()"
   ]
  },
  {
   "cell_type": "code",
   "execution_count": 5,
   "id": "fda1fecb-6bf0-4549-a959-647c7ffb2beb",
   "metadata": {},
   "outputs": [],
   "source": [
    "profile['gender_lab'] = profile['gender'].replace({1: 'Male', \n",
    "                                               2: 'Female'})\n",
    "profile['race_lab'] = profile['race'].replace({1: 'White', \n",
    "                                           2: 'Black', \n",
    "                                           3: 'Hispanic', \n",
    "                                           4: 'Asian', \n",
    "                                           5: 'Other', \n",
    "                                           6: 'Other',\n",
    "                                           7: 'Other', \n",
    "                                           8: 'Other'})\n",
    "profile['educ_lab'] = profile['educ'].replace({1: 'HS or Below',\n",
    "                                           2: 'HS or Below',\n",
    "                                           3: 'Some college', \n",
    "                                           4: 'Some college',\n",
    "                                           5: 'College',\n",
    "                                           6: 'Postgrad'})\n",
    "\n",
    "year_buckets = [1900, 1957, 1972, 1997, 2022]\n",
    "labels = ['65+', '50--65', '25--50', '<25'] \n",
    "\n",
    "profile['birthyr_lab'] = pd.cut(profile['birthyr'], bins = year_buckets, labels = labels)"
   ]
  },
  {
   "cell_type": "code",
   "execution_count": 6,
   "id": "9e733ba7-279d-4630-aee5-1cc174a658c6",
   "metadata": {},
   "outputs": [
    {
     "data": {
      "text/plain": [
       "birthyr_lab\n",
       "25--50    525\n",
       "50--65    293\n",
       "65+       271\n",
       "<25       111\n",
       "Name: count, dtype: int64"
      ]
     },
     "execution_count": 6,
     "metadata": {},
     "output_type": "execute_result"
    }
   ],
   "source": [
    "profile['birthyr_lab'].value_counts()"
   ]
  },
  {
   "cell_type": "code",
   "execution_count": 7,
   "id": "d7ff9196-2f73-4e66-bb59-6c370a6d2df2",
   "metadata": {},
   "outputs": [
    {
     "data": {
      "text/html": [
       "<div>\n",
       "<style scoped>\n",
       "    .dataframe tbody tr th:only-of-type {\n",
       "        vertical-align: middle;\n",
       "    }\n",
       "\n",
       "    .dataframe tbody tr th {\n",
       "        vertical-align: top;\n",
       "    }\n",
       "\n",
       "    .dataframe thead th {\n",
       "        text-align: right;\n",
       "    }\n",
       "</style>\n",
       "<table border=\"1\" class=\"dataframe\">\n",
       "  <thead>\n",
       "    <tr style=\"text-align: right;\">\n",
       "      <th></th>\n",
       "      <th>filename</th>\n",
       "      <th>harmless</th>\n",
       "      <th>malicious</th>\n",
       "      <th>suspicious</th>\n",
       "      <th>undetected</th>\n",
       "      <th>timeout</th>\n",
       "      <th>forcepoint</th>\n",
       "      <th>sophos</th>\n",
       "      <th>bitdefender</th>\n",
       "      <th>comodo</th>\n",
       "      <th>alphamnt</th>\n",
       "    </tr>\n",
       "  </thead>\n",
       "  <tbody>\n",
       "    <tr>\n",
       "      <th>0</th>\n",
       "      <td>taxfoundation.org</td>\n",
       "      <td>69</td>\n",
       "      <td>0</td>\n",
       "      <td>0</td>\n",
       "      <td>18</td>\n",
       "      <td>0</td>\n",
       "      <td>financial data and services</td>\n",
       "      <td>general business</td>\n",
       "      <td>financial</td>\n",
       "      <td>NaN</td>\n",
       "      <td>NaN</td>\n",
       "    </tr>\n",
       "    <tr>\n",
       "      <th>1</th>\n",
       "      <td>simfil.es</td>\n",
       "      <td>67</td>\n",
       "      <td>1</td>\n",
       "      <td>0</td>\n",
       "      <td>20</td>\n",
       "      <td>0</td>\n",
       "      <td>information technology</td>\n",
       "      <td>NaN</td>\n",
       "      <td>misc</td>\n",
       "      <td>NaN</td>\n",
       "      <td>File Sharing/Storage</td>\n",
       "    </tr>\n",
       "    <tr>\n",
       "      <th>2</th>\n",
       "      <td>freespincasinogo.com</td>\n",
       "      <td>65</td>\n",
       "      <td>0</td>\n",
       "      <td>0</td>\n",
       "      <td>22</td>\n",
       "      <td>0</td>\n",
       "      <td>NaN</td>\n",
       "      <td>NaN</td>\n",
       "      <td>gambling</td>\n",
       "      <td>media sharing</td>\n",
       "      <td>NaN</td>\n",
       "    </tr>\n",
       "    <tr>\n",
       "      <th>3</th>\n",
       "      <td>nascar.com</td>\n",
       "      <td>68</td>\n",
       "      <td>0</td>\n",
       "      <td>0</td>\n",
       "      <td>19</td>\n",
       "      <td>0</td>\n",
       "      <td>sports</td>\n",
       "      <td>sports</td>\n",
       "      <td>sports</td>\n",
       "      <td>unknown</td>\n",
       "      <td>Hobbies/Recreation, Sports</td>\n",
       "    </tr>\n",
       "    <tr>\n",
       "      <th>4</th>\n",
       "      <td>hugregregy.pro</td>\n",
       "      <td>65</td>\n",
       "      <td>1</td>\n",
       "      <td>0</td>\n",
       "      <td>21</td>\n",
       "      <td>0</td>\n",
       "      <td>NaN</td>\n",
       "      <td>NaN</td>\n",
       "      <td>NaN</td>\n",
       "      <td>media sharing</td>\n",
       "      <td>NaN</td>\n",
       "    </tr>\n",
       "  </tbody>\n",
       "</table>\n",
       "</div>"
      ],
      "text/plain": [
       "               filename  harmless  malicious  suspicious  undetected  timeout  \\\n",
       "0     taxfoundation.org        69          0           0          18        0   \n",
       "1             simfil.es        67          1           0          20        0   \n",
       "2  freespincasinogo.com        65          0           0          22        0   \n",
       "3            nascar.com        68          0           0          19        0   \n",
       "4        hugregregy.pro        65          1           0          21        0   \n",
       "\n",
       "                    forcepoint            sophos bitdefender         comodo  \\\n",
       "0  financial data and services  general business   financial            NaN   \n",
       "1       information technology               NaN        misc            NaN   \n",
       "2                          NaN               NaN    gambling  media sharing   \n",
       "3                       sports            sports      sports        unknown   \n",
       "4                          NaN               NaN         NaN  media sharing   \n",
       "\n",
       "                     alphamnt  \n",
       "0                         NaN  \n",
       "1        File Sharing/Storage  \n",
       "2                         NaN  \n",
       "3  Hobbies/Recreation, Sports  \n",
       "4                         NaN  "
      ]
     },
     "execution_count": 7,
     "metadata": {},
     "output_type": "execute_result"
    }
   ],
   "source": [
    "vt = pd.read_csv(\"yg_virustotal_dat.csv\")\n",
    "vt.head()"
   ]
  },
  {
   "cell_type": "code",
   "execution_count": 8,
   "id": "d3b2d335-a3bc-45db-a67e-42c3c2f02de5",
   "metadata": {},
   "outputs": [
    {
     "data": {
      "text/html": [
       "<div>\n",
       "<style scoped>\n",
       "    .dataframe tbody tr th:only-of-type {\n",
       "        vertical-align: middle;\n",
       "    }\n",
       "\n",
       "    .dataframe tbody tr th {\n",
       "        vertical-align: top;\n",
       "    }\n",
       "\n",
       "    .dataframe thead th {\n",
       "        text-align: right;\n",
       "    }\n",
       "</style>\n",
       "<table border=\"1\" class=\"dataframe\">\n",
       "  <thead>\n",
       "    <tr style=\"text-align: right;\">\n",
       "      <th></th>\n",
       "      <th>caseid</th>\n",
       "      <th>private_domain</th>\n",
       "      <th>duration</th>\n",
       "      <th>visits</th>\n",
       "      <th>duration_min</th>\n",
       "      <th>filename</th>\n",
       "      <th>harmless</th>\n",
       "      <th>malicious</th>\n",
       "      <th>suspicious</th>\n",
       "      <th>undetected</th>\n",
       "      <th>timeout</th>\n",
       "      <th>forcepoint</th>\n",
       "      <th>sophos</th>\n",
       "      <th>bitdefender</th>\n",
       "      <th>comodo</th>\n",
       "      <th>alphamnt</th>\n",
       "    </tr>\n",
       "  </thead>\n",
       "  <tbody>\n",
       "    <tr>\n",
       "      <th>0</th>\n",
       "      <td>47541</td>\n",
       "      <td>10best.com</td>\n",
       "      <td>34</td>\n",
       "      <td>4</td>\n",
       "      <td>0.566667</td>\n",
       "      <td>10best.com</td>\n",
       "      <td>70</td>\n",
       "      <td>0</td>\n",
       "      <td>0</td>\n",
       "      <td>18</td>\n",
       "      <td>0</td>\n",
       "      <td>travel</td>\n",
       "      <td>travel</td>\n",
       "      <td>travel</td>\n",
       "      <td>NaN</td>\n",
       "      <td>Travel</td>\n",
       "    </tr>\n",
       "    <tr>\n",
       "      <th>1</th>\n",
       "      <td>93815793</td>\n",
       "      <td>10best.com</td>\n",
       "      <td>42</td>\n",
       "      <td>4</td>\n",
       "      <td>0.700000</td>\n",
       "      <td>10best.com</td>\n",
       "      <td>70</td>\n",
       "      <td>0</td>\n",
       "      <td>0</td>\n",
       "      <td>18</td>\n",
       "      <td>0</td>\n",
       "      <td>travel</td>\n",
       "      <td>travel</td>\n",
       "      <td>travel</td>\n",
       "      <td>NaN</td>\n",
       "      <td>Travel</td>\n",
       "    </tr>\n",
       "    <tr>\n",
       "      <th>2</th>\n",
       "      <td>47541</td>\n",
       "      <td>1800petmeds.com</td>\n",
       "      <td>136</td>\n",
       "      <td>16</td>\n",
       "      <td>2.266667</td>\n",
       "      <td>1800petmeds.com</td>\n",
       "      <td>69</td>\n",
       "      <td>0</td>\n",
       "      <td>0</td>\n",
       "      <td>18</td>\n",
       "      <td>0</td>\n",
       "      <td>prescribed medications</td>\n",
       "      <td>health and medicines</td>\n",
       "      <td>hobbies</td>\n",
       "      <td>NaN</td>\n",
       "      <td>NaN</td>\n",
       "    </tr>\n",
       "    <tr>\n",
       "      <th>3</th>\n",
       "      <td>257495</td>\n",
       "      <td>1800petmeds.com</td>\n",
       "      <td>2</td>\n",
       "      <td>2</td>\n",
       "      <td>0.033333</td>\n",
       "      <td>1800petmeds.com</td>\n",
       "      <td>69</td>\n",
       "      <td>0</td>\n",
       "      <td>0</td>\n",
       "      <td>18</td>\n",
       "      <td>0</td>\n",
       "      <td>prescribed medications</td>\n",
       "      <td>health and medicines</td>\n",
       "      <td>hobbies</td>\n",
       "      <td>NaN</td>\n",
       "      <td>NaN</td>\n",
       "    </tr>\n",
       "    <tr>\n",
       "      <th>4</th>\n",
       "      <td>438245</td>\n",
       "      <td>1800petmeds.com</td>\n",
       "      <td>16</td>\n",
       "      <td>6</td>\n",
       "      <td>0.266667</td>\n",
       "      <td>1800petmeds.com</td>\n",
       "      <td>69</td>\n",
       "      <td>0</td>\n",
       "      <td>0</td>\n",
       "      <td>18</td>\n",
       "      <td>0</td>\n",
       "      <td>prescribed medications</td>\n",
       "      <td>health and medicines</td>\n",
       "      <td>hobbies</td>\n",
       "      <td>NaN</td>\n",
       "      <td>NaN</td>\n",
       "    </tr>\n",
       "  </tbody>\n",
       "</table>\n",
       "</div>"
      ],
      "text/plain": [
       "     caseid   private_domain  duration  visits  duration_min         filename  \\\n",
       "0     47541       10best.com        34       4      0.566667       10best.com   \n",
       "1  93815793       10best.com        42       4      0.700000       10best.com   \n",
       "2     47541  1800petmeds.com       136      16      2.266667  1800petmeds.com   \n",
       "3    257495  1800petmeds.com         2       2      0.033333  1800petmeds.com   \n",
       "4    438245  1800petmeds.com        16       6      0.266667  1800petmeds.com   \n",
       "\n",
       "   harmless  malicious  suspicious  undetected  timeout  \\\n",
       "0        70          0           0          18        0   \n",
       "1        70          0           0          18        0   \n",
       "2        69          0           0          18        0   \n",
       "3        69          0           0          18        0   \n",
       "4        69          0           0          18        0   \n",
       "\n",
       "               forcepoint                sophos bitdefender comodo alphamnt  \n",
       "0                  travel                travel      travel    NaN   Travel  \n",
       "1                  travel                travel      travel    NaN   Travel  \n",
       "2  prescribed medications  health and medicines     hobbies    NaN      NaN  \n",
       "3  prescribed medications  health and medicines     hobbies    NaN      NaN  \n",
       "4  prescribed medications  health and medicines     hobbies    NaN      NaN  "
      ]
     },
     "execution_count": 8,
     "metadata": {},
     "output_type": "execute_result"
    }
   ],
   "source": [
    "# Let's assume that virustotal data is missing at random so only get domains for which we have virustotal data\n",
    "yg_vt = pd.merge(yg, vt, left_on='private_domain', right_on = 'filename', how = 'inner')\n",
    "yg_vt.head()"
   ]
  },
  {
   "cell_type": "code",
   "execution_count": 9,
   "id": "23fd9690-34cb-4a17-9ba7-fa0b9e9e4084",
   "metadata": {},
   "outputs": [
    {
     "data": {
      "text/plain": [
       "64067"
      ]
     },
     "execution_count": 9,
     "metadata": {},
     "output_type": "execute_result"
    }
   ],
   "source": [
    "yg_vt['private_domain'].nunique()"
   ]
  },
  {
   "cell_type": "code",
   "execution_count": 10,
   "id": "b6839398-be39-442a-a5f9-e3bb363d5983",
   "metadata": {},
   "outputs": [],
   "source": [
    "yg_vt['malicious_bool'] = yg_vt['malicious'].astype('bool')\n",
    "yg_vt['malicious_visits'] = yg_vt['malicious'] * yg_vt['visits']\n",
    "yg_vt['malicious_time'] = yg_vt['malicious'] * yg_vt['duration_min']\n",
    "\n",
    "yg_vt['suspicious_bool'] = yg_vt['suspicious'].astype('bool')"
   ]
  },
  {
   "cell_type": "code",
   "execution_count": 11,
   "id": "f25efcc1-02d2-4862-9bfc-bfced44d7cff",
   "metadata": {},
   "outputs": [
    {
     "data": {
      "text/html": [
       "<div>\n",
       "<style scoped>\n",
       "    .dataframe tbody tr th:only-of-type {\n",
       "        vertical-align: middle;\n",
       "    }\n",
       "\n",
       "    .dataframe tbody tr th {\n",
       "        vertical-align: top;\n",
       "    }\n",
       "\n",
       "    .dataframe thead th {\n",
       "        text-align: right;\n",
       "    }\n",
       "</style>\n",
       "<table border=\"1\" class=\"dataframe\">\n",
       "  <thead>\n",
       "    <tr style=\"text-align: right;\">\n",
       "      <th></th>\n",
       "      <th>caseid</th>\n",
       "      <th>malicious_bool</th>\n",
       "      <th>malicious_visits</th>\n",
       "      <th>malicious_time</th>\n",
       "      <th>suspicious_bool</th>\n",
       "    </tr>\n",
       "  </thead>\n",
       "  <tbody>\n",
       "    <tr>\n",
       "      <th>0</th>\n",
       "      <td>47541</td>\n",
       "      <td>14</td>\n",
       "      <td>740</td>\n",
       "      <td>97</td>\n",
       "      <td>5</td>\n",
       "    </tr>\n",
       "    <tr>\n",
       "      <th>1</th>\n",
       "      <td>56565</td>\n",
       "      <td>10</td>\n",
       "      <td>308</td>\n",
       "      <td>47</td>\n",
       "      <td>3</td>\n",
       "    </tr>\n",
       "    <tr>\n",
       "      <th>2</th>\n",
       "      <td>203271</td>\n",
       "      <td>8</td>\n",
       "      <td>117</td>\n",
       "      <td>15</td>\n",
       "      <td>2</td>\n",
       "    </tr>\n",
       "    <tr>\n",
       "      <th>3</th>\n",
       "      <td>216457</td>\n",
       "      <td>1</td>\n",
       "      <td>2</td>\n",
       "      <td>0</td>\n",
       "      <td>0</td>\n",
       "    </tr>\n",
       "    <tr>\n",
       "      <th>4</th>\n",
       "      <td>257495</td>\n",
       "      <td>24</td>\n",
       "      <td>353</td>\n",
       "      <td>59</td>\n",
       "      <td>6</td>\n",
       "    </tr>\n",
       "  </tbody>\n",
       "</table>\n",
       "</div>"
      ],
      "text/plain": [
       "   caseid  malicious_bool  malicious_visits  malicious_time  suspicious_bool\n",
       "0   47541              14               740              97                5\n",
       "1   56565              10               308              47                3\n",
       "2  203271               8               117              15                2\n",
       "3  216457               1                 2               0                0\n",
       "4  257495              24               353              59                6"
      ]
     },
     "execution_count": 11,
     "metadata": {},
     "output_type": "execute_result"
    }
   ],
   "source": [
    "yg_vt_resp = yg_vt[['caseid', 'malicious_bool', 'malicious_visits', 'malicious_time', 'suspicious_bool']].groupby('caseid').sum().astype(int).reset_index()\n",
    "yg_vt_resp.head()"
   ]
  },
  {
   "cell_type": "code",
   "execution_count": 12,
   "id": "12984433-09c1-4701-a9b9-cfd7bc1b5523",
   "metadata": {},
   "outputs": [
    {
     "data": {
      "text/html": [
       "<div>\n",
       "<style scoped>\n",
       "    .dataframe tbody tr th:only-of-type {\n",
       "        vertical-align: middle;\n",
       "    }\n",
       "\n",
       "    .dataframe tbody tr th {\n",
       "        vertical-align: top;\n",
       "    }\n",
       "\n",
       "    .dataframe thead th {\n",
       "        text-align: right;\n",
       "    }\n",
       "</style>\n",
       "<table border=\"1\" class=\"dataframe\">\n",
       "  <thead>\n",
       "    <tr style=\"text-align: right;\">\n",
       "      <th></th>\n",
       "      <th>caseid</th>\n",
       "      <th>birthyr</th>\n",
       "      <th>gender</th>\n",
       "      <th>race</th>\n",
       "      <th>educ</th>\n",
       "      <th>pid3</th>\n",
       "      <th>pid7</th>\n",
       "      <th>presvote20post</th>\n",
       "      <th>inputstate</th>\n",
       "      <th>region</th>\n",
       "      <th>gender_lab</th>\n",
       "      <th>race_lab</th>\n",
       "      <th>educ_lab</th>\n",
       "      <th>birthyr_lab</th>\n",
       "      <th>malicious_bool</th>\n",
       "      <th>malicious_visits</th>\n",
       "      <th>malicious_time</th>\n",
       "      <th>suspicious_bool</th>\n",
       "    </tr>\n",
       "  </thead>\n",
       "  <tbody>\n",
       "    <tr>\n",
       "      <th>0</th>\n",
       "      <td>200661421.0</td>\n",
       "      <td>1963.0</td>\n",
       "      <td>2</td>\n",
       "      <td>1</td>\n",
       "      <td>4</td>\n",
       "      <td>3</td>\n",
       "      <td>3</td>\n",
       "      <td>1</td>\n",
       "      <td>39</td>\n",
       "      <td>2</td>\n",
       "      <td>Female</td>\n",
       "      <td>White</td>\n",
       "      <td>Some college</td>\n",
       "      <td>50--65</td>\n",
       "      <td>3.0</td>\n",
       "      <td>19.0</td>\n",
       "      <td>16.0</td>\n",
       "      <td>2.0</td>\n",
       "    </tr>\n",
       "    <tr>\n",
       "      <th>1</th>\n",
       "      <td>200686597.0</td>\n",
       "      <td>1992.0</td>\n",
       "      <td>2</td>\n",
       "      <td>6</td>\n",
       "      <td>5</td>\n",
       "      <td>5</td>\n",
       "      <td>8</td>\n",
       "      <td>-1</td>\n",
       "      <td>48</td>\n",
       "      <td>3</td>\n",
       "      <td>Female</td>\n",
       "      <td>Other</td>\n",
       "      <td>College</td>\n",
       "      <td>25--50</td>\n",
       "      <td>13.0</td>\n",
       "      <td>73.0</td>\n",
       "      <td>12.0</td>\n",
       "      <td>4.0</td>\n",
       "    </tr>\n",
       "    <tr>\n",
       "      <th>2</th>\n",
       "      <td>200953869.0</td>\n",
       "      <td>1959.0</td>\n",
       "      <td>2</td>\n",
       "      <td>1</td>\n",
       "      <td>5</td>\n",
       "      <td>2</td>\n",
       "      <td>7</td>\n",
       "      <td>2</td>\n",
       "      <td>42</td>\n",
       "      <td>1</td>\n",
       "      <td>Female</td>\n",
       "      <td>White</td>\n",
       "      <td>College</td>\n",
       "      <td>50--65</td>\n",
       "      <td>0.0</td>\n",
       "      <td>0.0</td>\n",
       "      <td>0.0</td>\n",
       "      <td>0.0</td>\n",
       "    </tr>\n",
       "    <tr>\n",
       "      <th>3</th>\n",
       "      <td>201302005.0</td>\n",
       "      <td>1966.0</td>\n",
       "      <td>2</td>\n",
       "      <td>2</td>\n",
       "      <td>3</td>\n",
       "      <td>5</td>\n",
       "      <td>8</td>\n",
       "      <td>1</td>\n",
       "      <td>12</td>\n",
       "      <td>3</td>\n",
       "      <td>Female</td>\n",
       "      <td>Black</td>\n",
       "      <td>Some college</td>\n",
       "      <td>50--65</td>\n",
       "      <td>7.0</td>\n",
       "      <td>31.0</td>\n",
       "      <td>4.0</td>\n",
       "      <td>3.0</td>\n",
       "    </tr>\n",
       "    <tr>\n",
       "      <th>4</th>\n",
       "      <td>201590505.0</td>\n",
       "      <td>1977.0</td>\n",
       "      <td>1</td>\n",
       "      <td>4</td>\n",
       "      <td>5</td>\n",
       "      <td>3</td>\n",
       "      <td>3</td>\n",
       "      <td>1</td>\n",
       "      <td>6</td>\n",
       "      <td>4</td>\n",
       "      <td>Male</td>\n",
       "      <td>Asian</td>\n",
       "      <td>College</td>\n",
       "      <td>25--50</td>\n",
       "      <td>5.0</td>\n",
       "      <td>38.0</td>\n",
       "      <td>22.0</td>\n",
       "      <td>3.0</td>\n",
       "    </tr>\n",
       "  </tbody>\n",
       "</table>\n",
       "</div>"
      ],
      "text/plain": [
       "        caseid  birthyr  gender  race  educ  pid3  pid7  presvote20post  \\\n",
       "0  200661421.0   1963.0       2     1     4     3     3               1   \n",
       "1  200686597.0   1992.0       2     6     5     5     8              -1   \n",
       "2  200953869.0   1959.0       2     1     5     2     7               2   \n",
       "3  201302005.0   1966.0       2     2     3     5     8               1   \n",
       "4  201590505.0   1977.0       1     4     5     3     3               1   \n",
       "\n",
       "   inputstate  region gender_lab race_lab      educ_lab birthyr_lab  \\\n",
       "0          39       2     Female    White  Some college      50--65   \n",
       "1          48       3     Female    Other       College      25--50   \n",
       "2          42       1     Female    White       College      50--65   \n",
       "3          12       3     Female    Black  Some college      50--65   \n",
       "4           6       4       Male    Asian       College      25--50   \n",
       "\n",
       "   malicious_bool  malicious_visits  malicious_time  suspicious_bool  \n",
       "0             3.0              19.0            16.0              2.0  \n",
       "1            13.0              73.0            12.0              4.0  \n",
       "2             0.0               0.0             0.0              0.0  \n",
       "3             7.0              31.0             4.0              3.0  \n",
       "4             5.0              38.0            22.0              3.0  "
      ]
     },
     "execution_count": 12,
     "metadata": {},
     "output_type": "execute_result"
    }
   ],
   "source": [
    "# Join to profile\n",
    "fin_dat = profile.merge(yg_vt_resp, on = \"caseid\", how = \"left\")\n",
    "fin_dat.head()"
   ]
  },
  {
   "cell_type": "code",
   "execution_count": 13,
   "id": "91eab039-98c1-4870-9852-6df19fc4c595",
   "metadata": {},
   "outputs": [
    {
     "data": {
      "text/html": [
       "<div>\n",
       "<style scoped>\n",
       "    .dataframe tbody tr th:only-of-type {\n",
       "        vertical-align: middle;\n",
       "    }\n",
       "\n",
       "    .dataframe tbody tr th {\n",
       "        vertical-align: top;\n",
       "    }\n",
       "\n",
       "    .dataframe thead th {\n",
       "        text-align: right;\n",
       "    }\n",
       "</style>\n",
       "<table border=\"1\" class=\"dataframe\">\n",
       "  <thead>\n",
       "    <tr style=\"text-align: right;\">\n",
       "      <th></th>\n",
       "      <th>malicious_bool</th>\n",
       "      <th>malicious_visits</th>\n",
       "      <th>malicious_time</th>\n",
       "      <th>suspicious_bool</th>\n",
       "    </tr>\n",
       "  </thead>\n",
       "  <tbody>\n",
       "    <tr>\n",
       "      <th>count</th>\n",
       "      <td>1134</td>\n",
       "      <td>1134</td>\n",
       "      <td>1134</td>\n",
       "      <td>1134</td>\n",
       "    </tr>\n",
       "    <tr>\n",
       "      <th>mean</th>\n",
       "      <td>7</td>\n",
       "      <td>190</td>\n",
       "      <td>171</td>\n",
       "      <td>2</td>\n",
       "    </tr>\n",
       "    <tr>\n",
       "      <th>std</th>\n",
       "      <td>13</td>\n",
       "      <td>704</td>\n",
       "      <td>1858</td>\n",
       "      <td>4</td>\n",
       "    </tr>\n",
       "    <tr>\n",
       "      <th>min</th>\n",
       "      <td>0</td>\n",
       "      <td>0</td>\n",
       "      <td>0</td>\n",
       "      <td>0</td>\n",
       "    </tr>\n",
       "    <tr>\n",
       "      <th>15%</th>\n",
       "      <td>0</td>\n",
       "      <td>0</td>\n",
       "      <td>0</td>\n",
       "      <td>0</td>\n",
       "    </tr>\n",
       "    <tr>\n",
       "      <th>16%</th>\n",
       "      <td>1</td>\n",
       "      <td>1</td>\n",
       "      <td>0</td>\n",
       "      <td>0</td>\n",
       "    </tr>\n",
       "    <tr>\n",
       "      <th>25%</th>\n",
       "      <td>1</td>\n",
       "      <td>4</td>\n",
       "      <td>0</td>\n",
       "      <td>0</td>\n",
       "    </tr>\n",
       "    <tr>\n",
       "      <th>26%</th>\n",
       "      <td>1</td>\n",
       "      <td>5</td>\n",
       "      <td>0</td>\n",
       "      <td>0</td>\n",
       "    </tr>\n",
       "    <tr>\n",
       "      <th>50%</th>\n",
       "      <td>4</td>\n",
       "      <td>29</td>\n",
       "      <td>11</td>\n",
       "      <td>2</td>\n",
       "    </tr>\n",
       "    <tr>\n",
       "      <th>75%</th>\n",
       "      <td>9</td>\n",
       "      <td>121</td>\n",
       "      <td>48</td>\n",
       "      <td>4</td>\n",
       "    </tr>\n",
       "    <tr>\n",
       "      <th>95%</th>\n",
       "      <td>27</td>\n",
       "      <td>783</td>\n",
       "      <td>339</td>\n",
       "      <td>10</td>\n",
       "    </tr>\n",
       "    <tr>\n",
       "      <th>99%</th>\n",
       "      <td>48</td>\n",
       "      <td>2229</td>\n",
       "      <td>1876</td>\n",
       "      <td>17</td>\n",
       "    </tr>\n",
       "    <tr>\n",
       "      <th>max</th>\n",
       "      <td>252</td>\n",
       "      <td>15136</td>\n",
       "      <td>51376</td>\n",
       "      <td>58</td>\n",
       "    </tr>\n",
       "  </tbody>\n",
       "</table>\n",
       "</div>"
      ],
      "text/plain": [
       "       malicious_bool  malicious_visits  malicious_time  suspicious_bool\n",
       "count            1134              1134            1134             1134\n",
       "mean                7               190             171                2\n",
       "std                13               704            1858                4\n",
       "min                 0                 0               0                0\n",
       "15%                 0                 0               0                0\n",
       "16%                 1                 1               0                0\n",
       "25%                 1                 4               0                0\n",
       "26%                 1                 5               0                0\n",
       "50%                 4                29              11                2\n",
       "75%                 9               121              48                4\n",
       "95%                27               783             339               10\n",
       "99%                48              2229            1876               17\n",
       "max               252             15136           51376               58"
      ]
     },
     "execution_count": 13,
     "metadata": {},
     "output_type": "execute_result"
    }
   ],
   "source": [
    "rel_cols = ['malicious_bool', 'malicious_visits', 'malicious_time', 'suspicious_bool']\n",
    "fin_dat[rel_cols].describe(percentiles = [.15, .16, .25, .26, .50, .75, .95, .99]).astype(int)"
   ]
  },
  {
   "cell_type": "code",
   "execution_count": 14,
   "id": "f0d28831-a2b2-48ae-9fad-aa1007a9231d",
   "metadata": {},
   "outputs": [
    {
     "data": {
      "text/plain": [
       "'|       |   malicious_bool |   malicious_visits |   malicious_time |   suspicious_bool |\\n|:------|-----------------:|-------------------:|-----------------:|------------------:|\\n| count |             1134 |               1134 |             1134 |              1134 |\\n| mean  |                7 |                190 |              171 |                 2 |\\n| std   |               13 |                704 |             1858 |                 4 |\\n| min   |                0 |                  0 |                0 |                 0 |\\n| 15%   |                0 |                  0 |                0 |                 0 |\\n| 16%   |                1 |                  1 |                0 |                 0 |\\n| 25%   |                1 |                  4 |                0 |                 0 |\\n| 26%   |                1 |                  5 |                0 |                 0 |\\n| 50%   |                4 |                 29 |               11 |                 2 |\\n| 75%   |                9 |                121 |               48 |                 4 |\\n| 95%   |               27 |                783 |              339 |                10 |\\n| 99%   |               48 |               2229 |             1876 |                17 |\\n| max   |              252 |              15136 |            51376 |                58 |'"
      ]
     },
     "execution_count": 14,
     "metadata": {},
     "output_type": "execute_result"
    }
   ],
   "source": [
    "fin_dat[rel_cols].describe(percentiles = [.15, .16, .25, .26, .50, .75, .95, .99]).astype(int).to_markdown()"
   ]
  },
  {
   "cell_type": "code",
   "execution_count": 15,
   "id": "f8aeba59-284f-427d-8ead-1eb67e953b65",
   "metadata": {},
   "outputs": [],
   "source": [
    "def calculate_summary_statistics(data_df, groupby_column, value_column, percentiles=None):\n",
    "    \"\"\"\n",
    "    Calculate summary statistics for a given DataFrame.\n",
    "\n",
    "    Parameters:\n",
    "        data_df (DataFrame): The DataFrame containing the data.\n",
    "        groupby_column (str): The column to group by.\n",
    "        value_column (str): The column for which to calculate statistics.\n",
    "        percentiles (list, optional): List of percentiles to calculate. Default is None.\n",
    "\n",
    "    Returns:\n",
    "        DataFrame: A DataFrame with the summary statistics.\n",
    "    \"\"\"\n",
    "    if percentiles is None:\n",
    "        percentiles = [25, 50, 75]\n",
    "\n",
    "    # Calculate summary statistics\n",
    "    summary_stats = data_df.groupby(groupby_column)[value_column].agg(['count', 'mean', 'std', 'min', 'max']).round(1)\n",
    "\n",
    "    # Calculate percentile values\n",
    "    percentile_values = data_df.groupby(groupby_column)[value_column].apply(lambda x: pd.Series(np.nanpercentile(x, percentiles), index=percentiles)).unstack().round(1)\n",
    "\n",
    "    # Merge summary statistics and percentile values\n",
    "    summary_with_percentiles = pd.merge(summary_stats, percentile_values, left_index=True, right_index=True)\n",
    "\n",
    "    # Reorder columns\n",
    "    desired_columns = ['count', 'mean', 'std', 'min'] + percentiles + ['max']\n",
    "    summary_with_percentiles = summary_with_percentiles.reindex(columns=desired_columns).reset_index()\n",
    "\n",
    "    return summary_with_percentiles"
   ]
  },
  {
   "cell_type": "code",
   "execution_count": 16,
   "id": "ab168ff8-68c2-4a32-9c5e-bed3f9512f35",
   "metadata": {},
   "outputs": [
    {
     "name": "stdout",
     "output_type": "stream",
     "text": [
      "  gender_lab  count  mean   std  min   25   50    75    max\n",
      "0     Female    595   6.8  11.4  0.0  1.0  4.0   8.0  136.0\n",
      "1       Male    539   8.8  15.6  0.0  1.0  5.0  11.0  252.0\n"
     ]
    }
   ],
   "source": [
    "gen_mal_bool_sum = calculate_summary_statistics(fin_dat, \n",
    "                                   groupby_column='gender_lab', \n",
    "                                   value_column='malicious_bool',\n",
    "                                   percentiles = [25, 50, 75])\n",
    "print(gen_mal_bool_sum)"
   ]
  },
  {
   "cell_type": "code",
   "execution_count": 17,
   "id": "bb05536e-d134-4a80-8d4f-84d2a194c298",
   "metadata": {},
   "outputs": [
    {
     "data": {
      "text/plain": [
       "'| gender_lab   |   count |   mean |   std |   min |   25 |   50 |   75 |   max |\\n|:-------------|--------:|-------:|------:|------:|-----:|-----:|-----:|------:|\\n| Female       |     595 |    6.8 |  11.4 |     0 |    1 |    4 |    8 |   136 |\\n| Male         |     539 |    8.8 |  15.6 |     0 |    1 |    5 |   11 |   252 |'"
      ]
     },
     "execution_count": 17,
     "metadata": {},
     "output_type": "execute_result"
    }
   ],
   "source": [
    "gen_mal_bool_sum.to_markdown(index = False)"
   ]
  },
  {
   "cell_type": "code",
   "execution_count": 18,
   "id": "908f7b8a-4290-4f88-af66-34ac8db10cf0",
   "metadata": {},
   "outputs": [
    {
     "name": "stdout",
     "output_type": "stream",
     "text": [
      "  gender_lab  count   mean     std  min   25    50    75      max\n",
      "0     Female    595  100.3   598.9  0.0  0.0  10.0  38.5  10394.0\n",
      "1       Male    539  250.8  2620.5  0.0  0.0  14.0  64.5  51376.0\n"
     ]
    }
   ],
   "source": [
    "gen_mal_time_sum = calculate_summary_statistics(fin_dat, \n",
    "                                   groupby_column='gender_lab', \n",
    "                                   value_column='malicious_time',\n",
    "                                   percentiles = [25, 50, 75])\n",
    "print(gen_mal_time_sum)"
   ]
  },
  {
   "cell_type": "code",
   "execution_count": 19,
   "id": "feef77d0-ddac-4d22-8433-64b2f2d4f51a",
   "metadata": {},
   "outputs": [
    {
     "data": {
      "text/plain": [
       "'|    | gender_lab   |   count |   mean |    std |   min |   25 |   50 |   75 |   max |\\n|---:|:-------------|--------:|-------:|-------:|------:|-----:|-----:|-----:|------:|\\n|  0 | Female       |     595 |  100.3 |  598.9 |     0 |    0 |   10 | 38.5 | 10394 |\\n|  1 | Male         |     539 |  250.8 | 2620.5 |     0 |    0 |   14 | 64.5 | 51376 |'"
      ]
     },
     "execution_count": 19,
     "metadata": {},
     "output_type": "execute_result"
    }
   ],
   "source": [
    "gen_mal_time_sum.to_markdown()"
   ]
  },
  {
   "cell_type": "code",
   "execution_count": 20,
   "id": "71de4710-38e7-4c61-bd15-9e5b2cac963d",
   "metadata": {},
   "outputs": [
    {
     "name": "stdout",
     "output_type": "stream",
     "text": [
      "   race_lab  count  mean   std  min   25   50    75    max\n",
      "4     White    720   7.6  11.1  0.0  1.0  4.0   9.0  133.0\n",
      "1     Black    144  10.7  25.9  0.0  1.0  4.0  10.0  252.0\n",
      "2  Hispanic    168   6.8   9.5  0.0  1.0  4.0   7.0   48.0\n",
      "0     Asian     46   6.8   9.1  0.0  1.0  4.5   8.8   43.0\n",
      "3     Other     56   6.7   8.3  0.0  1.0  4.0   8.0   39.0\n"
     ]
    }
   ],
   "source": [
    "race_mal_bool_sum = calculate_summary_statistics(fin_dat, \n",
    "                                   groupby_column='race_lab', \n",
    "                                   value_column='malicious_bool',\n",
    "                                   percentiles = [25, 50, 75])\n",
    "print(race_mal_bool_sum.loc[[4, 1, 2, 0, 3]])"
   ]
  },
  {
   "cell_type": "code",
   "execution_count": 21,
   "id": "cff318f9-e8ec-4cd8-975a-337b84f9c87d",
   "metadata": {},
   "outputs": [
    {
     "data": {
      "text/plain": [
       "'| race_lab   |   count |   mean |   std |   min |   25 |   50 |   75 |   max |\\n|:-----------|--------:|-------:|------:|------:|-----:|-----:|-----:|------:|\\n| White      |     720 |    7.6 |  11.1 |     0 |    1 |  4   |  9   |   133 |\\n| Black      |     144 |   10.7 |  25.9 |     0 |    1 |  4   | 10   |   252 |\\n| Hispanic   |     168 |    6.8 |   9.5 |     0 |    1 |  4   |  7   |    48 |\\n| Asian      |      46 |    6.8 |   9.1 |     0 |    1 |  4.5 |  8.8 |    43 |\\n| Other      |      56 |    6.7 |   8.3 |     0 |    1 |  4   |  8   |    39 |'"
      ]
     },
     "execution_count": 21,
     "metadata": {},
     "output_type": "execute_result"
    }
   ],
   "source": [
    "race_mal_bool_sum.loc[[4, 1, 2, 0, 3]].to_markdown(index = False)"
   ]
  },
  {
   "cell_type": "code",
   "execution_count": 22,
   "id": "1085c2ba-d855-428c-ab0a-ad688c89104c",
   "metadata": {},
   "outputs": [
    {
     "name": "stdout",
     "output_type": "stream",
     "text": [
      "   race_lab  count   mean     std  min   25    50    75      max\n",
      "4     White    720   92.4   543.0  0.0  0.0  11.0  46.0  10394.0\n",
      "1     Black    144  720.7  5023.2  0.0  0.8  14.0  72.2  51376.0\n",
      "2  Hispanic    168   85.0   432.0  0.0  0.0  10.5  44.5   5421.0\n",
      "0     Asian     46   89.3   316.4  0.0  0.0   8.5  28.5   2087.0\n",
      "3     Other     56  110.3   391.4  0.0  1.5  12.0  59.8   2533.0\n"
     ]
    }
   ],
   "source": [
    "race_mal_time_sum = calculate_summary_statistics(fin_dat, \n",
    "                                   groupby_column='race_lab', \n",
    "                                   value_column='malicious_time',\n",
    "                                   percentiles = [25, 50, 75])\n",
    "print(race_mal_time_sum.loc[[4, 1, 2, 0, 3]])"
   ]
  },
  {
   "cell_type": "code",
   "execution_count": 23,
   "id": "ba3e0605-4a9e-47bb-9034-a9cd67004e88",
   "metadata": {},
   "outputs": [
    {
     "name": "stdout",
     "output_type": "stream",
     "text": [
      "       educ_lab  count  mean   std  min   25   50    75    max\n",
      "1   HS or Below    411   8.1  13.9  0.0  1.0  4.0   9.0  136.0\n",
      "3  Some college    326   8.2  17.0  0.0  1.0  4.0   9.0  252.0\n",
      "0       College    255   7.5   9.8  0.0  1.0  4.0  10.0   64.0\n",
      "2      Postgrad    142   6.3   9.0  0.0  1.0  3.0   7.8   62.0\n"
     ]
    }
   ],
   "source": [
    "edu_mal_bool_sum = calculate_summary_statistics(fin_dat, \n",
    "                                   groupby_column='educ_lab', \n",
    "                                   value_column='malicious_bool',\n",
    "                                   percentiles = [25, 50, 75])\n",
    "print(edu_mal_bool_sum.loc[[1, 3, 0, 2]])"
   ]
  },
  {
   "cell_type": "code",
   "execution_count": 24,
   "id": "1ebe997f-5ea1-46ae-a91d-b94d71b5b7f3",
   "metadata": {},
   "outputs": [
    {
     "data": {
      "text/plain": [
       "'|    | educ_lab     |   count |   mean |   std |   min |   25 |   50 |   75 |   max |\\n|---:|:-------------|--------:|-------:|------:|------:|-----:|-----:|-----:|------:|\\n|  1 | HS or Below  |     411 |    8.1 |  13.9 |     0 |    1 |    4 |  9   |   136 |\\n|  3 | Some college |     326 |    8.2 |  17   |     0 |    1 |    4 |  9   |   252 |\\n|  0 | College      |     255 |    7.5 |   9.8 |     0 |    1 |    4 | 10   |    64 |\\n|  2 | Postgrad     |     142 |    6.3 |   9   |     0 |    1 |    3 |  7.8 |    62 |'"
      ]
     },
     "execution_count": 24,
     "metadata": {},
     "output_type": "execute_result"
    }
   ],
   "source": [
    "edu_mal_bool_sum.loc[[1, 3, 0, 2]].to_markdown()"
   ]
  },
  {
   "cell_type": "code",
   "execution_count": 25,
   "id": "6cf8e737-a25a-4a38-9bc7-39ba259bb26f",
   "metadata": {},
   "outputs": [
    {
     "name": "stdout",
     "output_type": "stream",
     "text": [
      "       educ_lab  count   mean     std  min   25    50    75      max\n",
      "1   HS or Below    411  127.2   703.9  0.0  0.0  12.0  46.5  10394.0\n",
      "3  Some college    326  250.6  2855.6  0.0  1.0  11.0  50.0  51376.0\n",
      "0       College    255  211.6  2035.1  0.0  0.0  13.0  52.0  31874.0\n",
      "2      Postgrad    142   49.0   153.9  0.0  0.0   7.0  36.8   1482.0\n"
     ]
    }
   ],
   "source": [
    "edu_mal_time_sum = calculate_summary_statistics(fin_dat, \n",
    "                                   groupby_column='educ_lab', \n",
    "                                   value_column='malicious_time',\n",
    "                                   percentiles = [25, 50, 75])\n",
    "print(edu_mal_time_sum.loc[[1, 3, 0, 2]])"
   ]
  },
  {
   "cell_type": "code",
   "execution_count": 26,
   "id": "7ad512a6-28a4-4108-987c-fd3a0e9acebf",
   "metadata": {},
   "outputs": [
    {
     "data": {
      "text/plain": [
       "'|    | educ_lab     |   count |   mean |    std |   min |   25 |   50 |   75 |   max |\\n|---:|:-------------|--------:|-------:|-------:|------:|-----:|-----:|-----:|------:|\\n|  1 | HS or Below  |     411 |  127.2 |  703.9 |     0 |    0 |   12 | 46.5 | 10394 |\\n|  3 | Some college |     326 |  250.6 | 2855.6 |     0 |    1 |   11 | 50   | 51376 |\\n|  0 | College      |     255 |  211.6 | 2035.1 |     0 |    0 |   13 | 52   | 31874 |\\n|  2 | Postgrad     |     142 |   49   |  153.9 |     0 |    0 |    7 | 36.8 |  1482 |'"
      ]
     },
     "execution_count": 26,
     "metadata": {},
     "output_type": "execute_result"
    }
   ],
   "source": [
    "edu_mal_time_sum.loc[[1, 3, 0, 2]].to_markdown()"
   ]
  },
  {
   "cell_type": "code",
   "execution_count": 27,
   "id": "50ea7842-3d0a-460a-8dc6-007bf9fdf638",
   "metadata": {},
   "outputs": [
    {
     "name": "stdout",
     "output_type": "stream",
     "text": [
      "  birthyr_lab  count  mean   std  min   25   50    75    max\n",
      "3         <25    106   8.7  25.4  0.0  1.0  3.5   8.0  252.0\n",
      "2      25--50    491   6.3   8.7  0.0  1.0  4.0   8.0   80.0\n",
      "1      50--65    280   8.6  15.6  0.0  1.0  4.0   9.0  136.0\n",
      "0         65+    257   9.3  11.6  0.0  2.0  5.0  12.0   71.0\n"
     ]
    }
   ],
   "source": [
    "age_mal_bool_sum = calculate_summary_statistics(fin_dat, \n",
    "                                   groupby_column='birthyr_lab', \n",
    "                                   value_column='malicious_bool',\n",
    "                                   percentiles = [25, 50, 75])\n",
    "print(age_mal_bool_sum.loc[[3, 2, 1, 0]])"
   ]
  },
  {
   "cell_type": "code",
   "execution_count": 28,
   "id": "50fa8a71-9ebc-4abe-bcfa-8abbde71baa4",
   "metadata": {},
   "outputs": [
    {
     "name": "stdout",
     "output_type": "stream",
     "text": [
      "  birthyr_lab  count   mean     std  min   25    50    75      max\n",
      "3         <25    106  130.3   661.8  0.0  0.0  10.5  40.8   6481.0\n",
      "2      25--50    491  265.5  2759.1  0.0  0.0   8.0  41.0  51376.0\n",
      "1      50--65    280  112.8   647.6  0.0  0.0  13.0  52.2  10394.0\n",
      "0         65+    257   74.4   225.7  0.0  1.0  16.0  61.0   2189.0\n"
     ]
    }
   ],
   "source": [
    "age_mal_time_sum = calculate_summary_statistics(fin_dat, \n",
    "                                   groupby_column='birthyr_lab', \n",
    "                                   value_column='malicious_time',\n",
    "                                   percentiles = [25, 50, 75])\n",
    "print(age_mal_time_sum.loc[[3, 2, 1, 0]])"
   ]
  },
  {
   "cell_type": "code",
   "execution_count": 29,
   "id": "e6ef9277-2793-462a-ac15-6875ae859c13",
   "metadata": {},
   "outputs": [
    {
     "data": {
      "text/plain": [
       "<Figure size 576x432 with 0 Axes>"
      ]
     },
     "metadata": {},
     "output_type": "display_data"
    },
    {
     "data": {
      "image/png": "[encoded data removed]",
      "text/plain": [
       "<Figure size 432x288 with 1 Axes>"
      ]
     },
     "metadata": {
      "needs_background": "light"
     },
     "output_type": "display_data"
    }
   ],
   "source": [
    "import matplotlib.pyplot as plt\n",
    "import seaborn as sns\n",
    "import pandas as pd\n",
    "\n",
    "sns.set_style(\"whitegrid\")  # Set the plot style\n",
    "plt.figure(figsize=(8, 6))\n",
    "\n",
    "fin_dat['gender_lab_enc'] = pd.factorize(fin_dat['gender_lab'])[0] + 1\n",
    "label_mapping = dict(zip(fin_dat['gender_lab_enc'], fin_dat['gender_lab']))\n",
    "\n",
    "ax = fin_dat.boxplot(column='malicious_bool', by='gender_lab_enc', vert=False)\n",
    "\n",
    "# Set x-axis ticks and labels\n",
    "ticks = list(label_mapping.keys())\n",
    "labels = list(label_mapping.values())\n",
    "ax.set_yticks(ticks)\n",
    "ax.set_yticklabels(labels)\n",
    "\n",
    "# Adjust tick label sizes\n",
    "plt.xticks(fontsize=12)\n",
    "plt.yticks(fontsize=12)\n",
    "\n",
    "# Add a light gray background to the plot\n",
    "plt.gca().set_facecolor('#f0f0f0')\n",
    "\n",
    "# Remove right and top spines\n",
    "plt.gca().spines['right'].set_visible(False)\n",
    "plt.gca().spines['top'].set_visible(False)\n",
    "\n",
    "plt.xlabel('Number of Unique Malicious Websites Visited by the User')\n",
    "plt.ylabel('Gender')\n",
    "plt.title('Distribution by Sex (Boxplot)')\n",
    "plt.suptitle('')\n",
    "plt.show()"
   ]
  },
  {
   "cell_type": "code",
   "execution_count": 30,
   "id": "a06d25cb-9919-42fb-8fa6-14d8bb693b45",
   "metadata": {},
   "outputs": [
    {
     "data": {
      "image/png": "[encoded data removed]",
      "text/plain": [
       "<Figure size 576x432 with 1 Axes>"
      ]
     },
     "metadata": {},
     "output_type": "display_data"
    }
   ],
   "source": [
    "import statsmodels.api as sm\n",
    "lowess = sm.nonparametric.lowess\n",
    "\n",
    "sns.set_style(\"whitegrid\")  # Set the plot style\n",
    "plt.figure(figsize=(8, 6))\n",
    "\n",
    "lowess_model = lowess(fin_dat['malicious_time'], fin_dat['birthyr'], frac=0.3)\n",
    "\n",
    "plt.plot(lowess_model[:, 0], lowess_model[:, 1], color='red', label='Lowess Smoothed')\n",
    "\n",
    "# Adjust tick label sizes\n",
    "plt.xticks(fontsize=12)\n",
    "plt.yticks(fontsize=12)\n",
    "\n",
    "# Add a light gray background to the plot\n",
    "plt.gca().set_facecolor('#f0f0f0')\n",
    "\n",
    "# Remove right and top spines\n",
    "plt.gca().spines['right'].set_visible(False)\n",
    "plt.gca().spines['top'].set_visible(False)\n",
    "\n",
    "plt.xlabel('Birth Year')\n",
    "plt.ylabel('Log of Malicious Time')\n",
    "plt.legend()\n",
    "\n",
    "plt.tight_layout()\n",
    "\n",
    "plt.savefig('age_time_malicious.png', dpi=300)\n",
    "plt.show()"
   ]
  },
  {
   "cell_type": "code",
   "execution_count": 31,
   "id": "82ebb1e5-a806-4b83-ba58-f36a83a575ea",
   "metadata": {},
   "outputs": [
    {
     "data": {
      "image/png": "[encoded data removed]",
      "text/plain": [
       "<Figure size 576x432 with 1 Axes>"
      ]
     },
     "metadata": {},
     "output_type": "display_data"
    }
   ],
   "source": [
    "from scipy.stats.mstats import winsorize\n",
    "winsorized_mal_time = winsorize(fin_dat['malicious_time'], limits=(0.0, 0.2))  # Adjust the limits as per your preference\n",
    "\n",
    "lowess = sm.nonparametric.lowess(winsorized_mal_time, fin_dat['birthyr'], frac=0.5)  \n",
    "\n",
    "sns.set_style(\"whitegrid\")  # Set the plot style\n",
    "plt.figure(figsize=(8, 6))\n",
    "\n",
    "plt.plot(lowess[:, 0], lowess[:, 1], color='red', label='Loess Curve')\n",
    "\n",
    "# Adjust tick label sizes\n",
    "plt.xticks(fontsize=12)\n",
    "plt.yticks(fontsize=12)\n",
    "\n",
    "# Add a light gray background to the plot\n",
    "plt.gca().set_facecolor('#f0f0f0')\n",
    "\n",
    "# Remove right and top spines\n",
    "plt.gca().spines['right'].set_visible(False)\n",
    "plt.gca().spines['top'].set_visible(False)\n",
    "\n",
    "plt.legend()\n",
    "plt.xlabel('Birth year')\n",
    "plt.ylabel('Time on Malicious Websites (Winsorized)')\n",
    "plt.title('Loess Curve')\n",
    "\n",
    "plt.tight_layout()\n",
    "\n",
    "plt.savefig('age_time_malicious_winsorized.png', dpi=300)\n",
    "plt.show()"
   ]
  },
  {
   "cell_type": "code",
   "execution_count": 32,
   "id": "8d7c947b-b48a-4653-b46d-2fdc43f406ff",
   "metadata": {},
   "outputs": [
    {
     "data": {
      "image/png": "[encoded data removed]",
      "text/plain": [
       "<Figure size 576x432 with 1 Axes>"
      ]
     },
     "metadata": {},
     "output_type": "display_data"
    }
   ],
   "source": [
    "from scipy.stats.mstats import winsorize\n",
    "winsorized_mal_bool = winsorize(fin_dat['malicious_bool'], limits=(0.0, 0.2))  # Adjust the limits as per your preference\n",
    "\n",
    "lowess = sm.nonparametric.lowess(winsorized_mal_bool, fin_dat['birthyr'], frac=0.5)  \n",
    "\n",
    "sns.set_style(\"whitegrid\")  # Set the plot style\n",
    "plt.figure(figsize=(8, 6))\n",
    "\n",
    "plt.plot(lowess[:, 0], lowess[:, 1], color='red', label='Loess Curve')\n",
    "\n",
    "# Adjust tick label sizes\n",
    "plt.xticks(fontsize=12)\n",
    "plt.yticks(fontsize=12)\n",
    "\n",
    "# Add a light gray background to the plot\n",
    "plt.gca().set_facecolor('#f0f0f0')\n",
    "\n",
    "# Remove right and top spines\n",
    "plt.gca().spines['right'].set_visible(False)\n",
    "plt.gca().spines['top'].set_visible(False)\n",
    "\n",
    "plt.legend()\n",
    "plt.xlabel('Birth year')\n",
    "plt.ylabel('Number of Unique Malicious Websites Visited (Winsorized)')\n",
    "plt.title('Loess Curve')\n",
    "\n",
    "plt.tight_layout()\n",
    "\n",
    "plt.savefig('age_n_malicious_winsorized.png', dpi=300)\n",
    "plt.show()"
   ]
  },
  {
   "cell_type": "code",
   "execution_count": null,
   "id": "e8cfcab7-fc16-475d-8b50-1fbca7c4b325",
   "metadata": {},
   "outputs": [],
   "source": []
  }
 ],
 "metadata": {
  "kernelspec": {
   "display_name": "Python 3 (ipykernel)",
   "language": "python",
   "name": "python3"
  },
  "language_info": {
   "codemirror_mode": {
    "name": "ipython",
    "version": 3
   },
   "file_extension": ".py",
   "mimetype": "text/x-python",
   "name": "python",
   "nbconvert_exporter": "python",
   "pygments_lexer": "ipython3",
   "version": "3.8.10"
  }
 },
 "nbformat": 4,
 "nbformat_minor": 5
}
