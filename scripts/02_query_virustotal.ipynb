{
 "cells": [
  {
   "cell_type": "code",
   "execution_count": 1,
   "id": "c80a16c5-6e2b-4e42-b911-bd20c93f66a2",
   "metadata": {
    "tags": []
   },
   "outputs": [],
   "source": [
    "import pandas as pd\n",
    "import requests\n",
    "import time\n",
    "from datetime import datetime\n",
    "import json\n",
    "import logging\n",
    "import os\n",
    "\n",
    "logging.basicConfig(filename='10_nbconvert.log', level=logging.INFO)\n",
    "\n",
    "# Request rate\t4 lookups / min\n",
    "# Daily quota\t500 lookups / day\n",
    "# Monthly quota\t15.5 K lookups / month\n",
    "\n",
    "sleep = 200  # sleep 200 seconds after each call\n",
    "\n",
    "headers = {\n",
    "    \"accept\": \"application/json\",\n",
    "    # https://www.virustotal.com/gui/user/lsys/apikey\n",
    "    \"x-apikey\": \"\"\n",
    "}"
   ]
  },
  {
   "cell_type": "code",
   "execution_count": null,
   "id": "c70f131e-74f1-47dc-9869-0d7d1f0eaaa2",
   "metadata": {
    "tags": []
   },
   "outputs": [
    {
     "name": "stdout",
     "output_type": "stream",
     "text": [
      "(1/8009, 28 Apr 2023 12:20:30): Return code: 200 - google.com\n",
      "(2/8009, 28 Apr 2023 12:20:30): Return code: 200 - facebook.com\n",
      "(3/8009, 28 Apr 2023 12:20:30): Return code: 200 - yahoo.com\n",
      "(4/8009, 28 Apr 2023 12:20:30): Return code: 200 - bing.com\n",
      "(5/8009, 28 Apr 2023 12:20:30): Return code: 200 - youtube.com\n",
      "(6/8009, 28 Apr 2023 12:20:30): Return code: 200 - amazon.com\n",
      "(7/8009, 28 Apr 2023 12:20:30): Return code: 200 - twitter.com\n",
      "(8/8009, 28 Apr 2023 12:20:30): Return code: 200 - decipherinc.com\n",
      "(9/8009, 28 Apr 2023 12:20:30): Return code: 200 - live.com\n",
      "(10/8009, 28 Apr 2023 12:20:30): Return code: 200 - reddit.com\n",
      "(11/8009, 28 Apr 2023 12:20:30): Return code: 200 - instagram.com\n",
      "(12/8009, 28 Apr 2023 12:20:30): Return code: 200 - aol.com\n",
      "(13/8009, 28 Apr 2023 12:23:51): Return code: 200 - msn.com\n",
      "(14/8009, 28 Apr 2023 12:27:11): Return code: 200 - clarity.ms\n",
      "(15/8009, 28 Apr 2023 12:30:32): Return code: 200 - microsoftonline.com\n",
      "(16/8009, 28 Apr 2023 12:33:53): Return code: 200 - yougov.com\n",
      "(17/8009, 28 Apr 2023 12:37:13): Return code: 200 - ebay.com\n",
      "(18/8009, 28 Apr 2023 12:40:34): Return code: 200 - paypal.com\n",
      "(19/8009, 28 Apr 2023 12:43:54): Return code: 200 - walmart.com\n",
      "(20/8009, 28 Apr 2023 12:47:14): Return code: 200 - wikipedia.org\n",
      "(21/8009, 28 Apr 2023 12:50:35): Return code: 200 - samplicio.us\n",
      "(22/8009, 28 Apr 2023 12:53:56): Return code: 200 - privatelink.de\n",
      "(23/8009, 28 Apr 2023 12:57:17): Return code: 200 - microsoft.com\n",
      "(24/8009, 28 Apr 2023 13:00:37): Return code: 200 - sentry.io\n",
      "(25/8009, 28 Apr 2023 13:03:58): Return code: 200 - pch.com\n",
      "(26/8009, 28 Apr 2023 13:07:19): Return code: 200 - capitaloneshopping.com\n",
      "(27/8009, 28 Apr 2023 13:10:39): Return code: 200 - discord.com\n",
      "(28/8009, 28 Apr 2023 13:14:00): Return code: 200 - dynata.com\n",
      "(29/8009, 28 Apr 2023 13:17:20): Return code: 200 - linkedin.com\n",
      "(30/8009, 28 Apr 2023 13:20:40): Return code: 200 - zillow.com\n",
      "(31/8009, 28 Apr 2023 13:24:01): Return code: 200 - mypoints.com\n",
      "(32/8009, 28 Apr 2023 13:27:21): Return code: 200 - google.co.uk\n",
      "(33/8009, 28 Apr 2023 13:30:42): Return code: 200 - office.com\n",
      "(34/8009, 28 Apr 2023 13:34:02): Return code: 200 - fbcdnx14.net\n",
      "(35/8009, 28 Apr 2023 13:37:23): Return code: 200 - msftstatic.com\n",
      "(36/8009, 28 Apr 2023 13:40:44): Return code: 200 - inboxdollars.com\n",
      "(37/8009, 28 Apr 2023 13:44:05): Return code: 200 - zoho.com\n",
      "(38/8009, 28 Apr 2023 13:47:26): Return code: 200 - chase.com\n",
      "(39/8009, 28 Apr 2023 13:50:47): Return code: 200 - democraticunderground.com\n",
      "(40/8009, 28 Apr 2023 13:54:07): Return code: 200 - etsy.com\n",
      "(41/8009, 28 Apr 2023 13:57:27): Return code: 200 - indeed.com\n",
      "(42/8009, 28 Apr 2023 14:00:48): Return code: 200 - rakuten.com\n",
      "(43/8009, 28 Apr 2023 14:04:09): Return code: 200 - surveyjunkie.com\n",
      "(44/8009, 28 Apr 2023 14:07:29): Return code: 200 - hulu.com\n",
      "(45/8009, 28 Apr 2023 14:10:50): Return code: 200 - hideout.co\n",
      "(46/8009, 28 Apr 2023 14:14:10): Return code: 200 - quora.com\n",
      "(47/8009, 28 Apr 2023 14:17:31): Return code: 200 - ebesucher.com\n",
      "(48/8009, 28 Apr 2023 14:20:51): Return code: 200 - smugmug.com\n",
      "(49/8009, 28 Apr 2023 14:24:12): Return code: 200 - xfinity.com\n",
      "(50/8009, 28 Apr 2023 14:27:32): Return code: 200 - tiktok.com\n",
      "(51/8009, 28 Apr 2023 14:30:53): Return code: 200 - capitalone.com\n",
      "(52/8009, 28 Apr 2023 14:34:14): Return code: 200 - usps.com\n",
      "(53/8009, 28 Apr 2023 14:37:34): Return code: 200 - researchresults.com\n",
      "(54/8009, 28 Apr 2023 14:40:55): Return code: 200 - nielseniq.com\n",
      "(55/8009, 28 Apr 2023 14:44:15): Return code: 200 - xvideos.com\n",
      "(56/8009, 28 Apr 2023 14:47:36): Return code: 200 - eggbuddies.com\n",
      "(57/8009, 28 Apr 2023 14:50:56): Return code: 200 - yieldlift.com\n",
      "(58/8009, 28 Apr 2023 14:54:17): Return code: 200 - duckduckgo.com\n",
      "(59/8009, 28 Apr 2023 14:57:38): Return code: 200 - vidazoo.com\n",
      "(60/8009, 28 Apr 2023 15:00:58): Return code: 200 - yahoo.net\n",
      "(61/8009, 28 Apr 2023 15:04:19): Return code: 200 - washingtonpost.com\n"
     ]
    }
   ],
   "source": [
    "chunk = \"data/chunk0.csv\"\n",
    "df = pd.read_csv(chunk)\n",
    "\n",
    "for ix, row in df.iterrows():\n",
    "    now = datetime.now().strftime(\"%d %b %Y %H:%M:%S\")\n",
    "    domain = row[\"private_domain\"]\n",
    "    return_code = row[\"return_code\"]\n",
    "    \n",
    "    ## Move on if already queried\n",
    "    if return_code == 200:\n",
    "        logging.info(f\"({1+ix}/{len(df)}, {now}): Return code: {int(return_code)} - {domain}\")\n",
    "        continue\n",
    "\n",
    "    if os.path.exists(f\"payloads_json/{domain}.json\"):\n",
    "        logging.info(f\"({1+ix}/{len(df)}, {now}): Return code: {return_code} - {domain}\")\n",
    "        continue\n",
    "\n",
    "    ## Query\n",
    "    # https://developers.virustotal.com/reference/domain-info\n",
    "    vt_url = f\"https://www.virustotal.com/api/v3/domains/{domain}\"\n",
    "    response = requests.get(vt_url, headers=headers)\n",
    "    \n",
    "    ## Save payload\n",
    "    return_code = response.status_code \n",
    "    if return_code == 200:\n",
    "        with open(f\"payloads_json/{domain}.json\", \"wb\") as f:\n",
    "            f.write(response.content)\n",
    "            \n",
    "    ## Update csv to indicate row is already queried\n",
    "    df.at[ix, \"return_code\"] = return_code\n",
    "    \n",
    "    logging.info(f\"({1+ix}/{len(df)}, {now}): Return code: {return_code} - {domain}\")\n",
    "    \n",
    "    time.sleep(sleep)\n",
    "\n",
    "df.to_csv(chunk, index=False)"
   ]
  },
  {
   "cell_type": "code",
   "execution_count": null,
   "id": "4eb96b08-e85a-4eed-b2c5-6b294dd30169",
   "metadata": {},
   "outputs": [],
   "source": [
    "df.to_csv(chunk, index=False)"
   ]
  },
  {
   "cell_type": "code",
   "execution_count": null,
   "id": "4b2acec6-7bee-480e-b126-bdfa9939766b",
   "metadata": {},
   "outputs": [],
   "source": [
    "df.query(\"return_code==200\")"
   ]
  },
  {
   "cell_type": "code",
   "execution_count": null,
   "id": "2dcb5cca-4fb4-4932-bf2e-f9d3029fbd48",
   "metadata": {},
   "outputs": [],
   "source": []
  }
 ],
 "metadata": {
  "kernelspec": {
   "display_name": "Python 3 (ipykernel)",
   "language": "python",
   "name": "python3"
  },
  "language_info": {
   "codemirror_mode": {
    "name": "ipython",
    "version": 3
   },
   "file_extension": ".py",
   "mimetype": "text/x-python",
   "name": "python",
   "nbconvert_exporter": "python",
   "pygments_lexer": "ipython3",
   "version": "3.8.10"
  }
 },
 "nbformat": 4,
 "nbformat_minor": 5
}
