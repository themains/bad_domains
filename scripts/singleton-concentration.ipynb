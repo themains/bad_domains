{
 "cells": [
  {
   "cell_type": "code",
   "execution_count": 1,
   "id": "1249021c",
   "metadata": {
    "ExecuteTime": {
     "end_time": "2024-11-18T10:58:34.954125Z",
     "start_time": "2024-11-18T10:58:33.295594Z"
    }
   },
   "outputs": [],
   "source": [
    "import pandas as pd\n",
    "import janitor\n",
    "from utilities import save_mpl_fig\n",
    "\n",
    "import warnings\n",
    "\n",
    "warnings.filterwarnings(\"ignore\")\n",
    "\n",
    "import matplotlib.pyplot as plt\n",
    "import seaborn as sns\n",
    "import numpy as np\n",
    "from IPython.display import display\n",
    "\n",
    "sns.set_theme(context=\"notebook\", font_scale=1.35, style=\"whitegrid\", palette=\"dark\")\n",
    "\n",
    "from inequality.gini import Gini"
   ]
  },
  {
   "cell_type": "markdown",
   "id": "af6db73d",
   "metadata": {},
   "source": [
    "## Prep"
   ]
  },
  {
   "cell_type": "code",
   "execution_count": 2,
   "id": "cba9f9ed",
   "metadata": {
    "ExecuteTime": {
     "end_time": "2024-11-18T10:58:44.193342Z",
     "start_time": "2024-11-18T10:58:34.957130Z"
    },
    "code_folding": [],
    "scrolled": true
   },
   "outputs": [
    {
     "data": {
      "text/html": [
       "<div>\n",
       "<style scoped>\n",
       "    .dataframe tbody tr th:only-of-type {\n",
       "        vertical-align: middle;\n",
       "    }\n",
       "\n",
       "    .dataframe tbody tr th {\n",
       "        vertical-align: top;\n",
       "    }\n",
       "\n",
       "    .dataframe thead th {\n",
       "        text-align: right;\n",
       "    }\n",
       "</style>\n",
       "<table border=\"1\" class=\"dataframe\">\n",
       "  <thead>\n",
       "    <tr style=\"text-align: right;\">\n",
       "      <th></th>\n",
       "      <th>caseid</th>\n",
       "      <th>private_domain</th>\n",
       "      <th>category</th>\n",
       "      <th>visit_time_local</th>\n",
       "      <th>duration</th>\n",
       "      <th>duration_min</th>\n",
       "      <th>duration_hr</th>\n",
       "      <th>filename</th>\n",
       "      <th>harmless</th>\n",
       "      <th>malicious</th>\n",
       "      <th>...</th>\n",
       "      <th>timeout</th>\n",
       "      <th>forcepoint</th>\n",
       "      <th>sophos</th>\n",
       "      <th>bitdefender</th>\n",
       "      <th>comodo</th>\n",
       "      <th>alphamnt</th>\n",
       "      <th>malicious_bool</th>\n",
       "      <th>malicious_min</th>\n",
       "      <th>malicious_hr</th>\n",
       "      <th>suspicious_bool</th>\n",
       "    </tr>\n",
       "  </thead>\n",
       "  <tbody>\n",
       "    <tr>\n",
       "      <th>0</th>\n",
       "      <td>205323077</td>\n",
       "      <td>google.com</td>\n",
       "      <td>Search Engines and Portals</td>\n",
       "      <td>2022-05-31 23:52:37</td>\n",
       "      <td>2</td>\n",
       "      <td>0.033333</td>\n",
       "      <td>0.000556</td>\n",
       "      <td>google.com</td>\n",
       "      <td>70.0</td>\n",
       "      <td>0.0</td>\n",
       "      <td>...</td>\n",
       "      <td>0.0</td>\n",
       "      <td>search engines and portals</td>\n",
       "      <td>search engines</td>\n",
       "      <td>searchengines</td>\n",
       "      <td>NaN</td>\n",
       "      <td>NaN</td>\n",
       "      <td>False</td>\n",
       "      <td>0.0</td>\n",
       "      <td>0.0</td>\n",
       "      <td>False</td>\n",
       "    </tr>\n",
       "    <tr>\n",
       "      <th>1</th>\n",
       "      <td>205323077</td>\n",
       "      <td>coupons.com</td>\n",
       "      <td>Business, Shopping</td>\n",
       "      <td>2022-06-01 01:07:35</td>\n",
       "      <td>457</td>\n",
       "      <td>7.616667</td>\n",
       "      <td>0.126944</td>\n",
       "      <td>coupons.com</td>\n",
       "      <td>68.0</td>\n",
       "      <td>0.0</td>\n",
       "      <td>...</td>\n",
       "      <td>0.0</td>\n",
       "      <td>shopping</td>\n",
       "      <td>online shopping</td>\n",
       "      <td>ads</td>\n",
       "      <td>NaN</td>\n",
       "      <td>Marketing/Merchandising, Shopping</td>\n",
       "      <td>False</td>\n",
       "      <td>0.0</td>\n",
       "      <td>0.0</td>\n",
       "      <td>False</td>\n",
       "    </tr>\n",
       "    <tr>\n",
       "      <th>2</th>\n",
       "      <td>205323077</td>\n",
       "      <td>google.com</td>\n",
       "      <td>Business</td>\n",
       "      <td>2022-06-01 01:15:12</td>\n",
       "      <td>55</td>\n",
       "      <td>0.916667</td>\n",
       "      <td>0.015278</td>\n",
       "      <td>google.com</td>\n",
       "      <td>70.0</td>\n",
       "      <td>0.0</td>\n",
       "      <td>...</td>\n",
       "      <td>0.0</td>\n",
       "      <td>search engines and portals</td>\n",
       "      <td>search engines</td>\n",
       "      <td>searchengines</td>\n",
       "      <td>NaN</td>\n",
       "      <td>NaN</td>\n",
       "      <td>False</td>\n",
       "      <td>0.0</td>\n",
       "      <td>0.0</td>\n",
       "      <td>False</td>\n",
       "    </tr>\n",
       "    <tr>\n",
       "      <th>3</th>\n",
       "      <td>205323077</td>\n",
       "      <td>coupons.com</td>\n",
       "      <td>Business, Shopping</td>\n",
       "      <td>2022-06-01 01:16:07</td>\n",
       "      <td>2225</td>\n",
       "      <td>37.083333</td>\n",
       "      <td>0.618056</td>\n",
       "      <td>coupons.com</td>\n",
       "      <td>68.0</td>\n",
       "      <td>0.0</td>\n",
       "      <td>...</td>\n",
       "      <td>0.0</td>\n",
       "      <td>shopping</td>\n",
       "      <td>online shopping</td>\n",
       "      <td>ads</td>\n",
       "      <td>NaN</td>\n",
       "      <td>Marketing/Merchandising, Shopping</td>\n",
       "      <td>False</td>\n",
       "      <td>0.0</td>\n",
       "      <td>0.0</td>\n",
       "      <td>False</td>\n",
       "    </tr>\n",
       "    <tr>\n",
       "      <th>4</th>\n",
       "      <td>205323077</td>\n",
       "      <td>google.com</td>\n",
       "      <td>Search Engines and Portals</td>\n",
       "      <td>2022-06-01 04:38:10</td>\n",
       "      <td>10</td>\n",
       "      <td>0.166667</td>\n",
       "      <td>0.002778</td>\n",
       "      <td>google.com</td>\n",
       "      <td>70.0</td>\n",
       "      <td>0.0</td>\n",
       "      <td>...</td>\n",
       "      <td>0.0</td>\n",
       "      <td>search engines and portals</td>\n",
       "      <td>search engines</td>\n",
       "      <td>searchengines</td>\n",
       "      <td>NaN</td>\n",
       "      <td>NaN</td>\n",
       "      <td>False</td>\n",
       "      <td>0.0</td>\n",
       "      <td>0.0</td>\n",
       "      <td>False</td>\n",
       "    </tr>\n",
       "  </tbody>\n",
       "</table>\n",
       "<p>5 rows × 22 columns</p>\n",
       "</div>"
      ],
      "text/plain": [
       "      caseid private_domain                    category     visit_time_local  \\\n",
       "0  205323077     google.com  Search Engines and Portals  2022-05-31 23:52:37   \n",
       "1  205323077    coupons.com          Business, Shopping  2022-06-01 01:07:35   \n",
       "2  205323077     google.com                    Business  2022-06-01 01:15:12   \n",
       "3  205323077    coupons.com          Business, Shopping  2022-06-01 01:16:07   \n",
       "4  205323077     google.com  Search Engines and Portals  2022-06-01 04:38:10   \n",
       "\n",
       "   duration  duration_min  duration_hr     filename  harmless  malicious  ...  \\\n",
       "0         2      0.033333     0.000556   google.com      70.0        0.0  ...   \n",
       "1       457      7.616667     0.126944  coupons.com      68.0        0.0  ...   \n",
       "2        55      0.916667     0.015278   google.com      70.0        0.0  ...   \n",
       "3      2225     37.083333     0.618056  coupons.com      68.0        0.0  ...   \n",
       "4        10      0.166667     0.002778   google.com      70.0        0.0  ...   \n",
       "\n",
       "   timeout                  forcepoint           sophos    bitdefender comodo  \\\n",
       "0      0.0  search engines and portals   search engines  searchengines    NaN   \n",
       "1      0.0                    shopping  online shopping            ads    NaN   \n",
       "2      0.0  search engines and portals   search engines  searchengines    NaN   \n",
       "3      0.0                    shopping  online shopping            ads    NaN   \n",
       "4      0.0  search engines and portals   search engines  searchengines    NaN   \n",
       "\n",
       "                            alphamnt malicious_bool malicious_min  \\\n",
       "0                                NaN          False           0.0   \n",
       "1  Marketing/Merchandising, Shopping          False           0.0   \n",
       "2                                NaN          False           0.0   \n",
       "3  Marketing/Merchandising, Shopping          False           0.0   \n",
       "4                                NaN          False           0.0   \n",
       "\n",
       "   malicious_hr  suspicious_bool  \n",
       "0           0.0            False  \n",
       "1           0.0            False  \n",
       "2           0.0            False  \n",
       "3           0.0            False  \n",
       "4           0.0            False  \n",
       "\n",
       "[5 rows x 22 columns]"
      ]
     },
     "metadata": {},
     "output_type": "display_data"
    },
    {
     "name": "stdout",
     "output_type": "stream",
     "text": [
      "<class 'pandas.core.frame.DataFrame'>\n",
      "RangeIndex: 6297382 entries, 0 to 6297381\n",
      "Data columns (total 22 columns):\n",
      " #   Column            Dtype  \n",
      "---  ------            -----  \n",
      " 0   caseid            int64  \n",
      " 1   private_domain    object \n",
      " 2   category          object \n",
      " 3   visit_time_local  object \n",
      " 4   duration          int64  \n",
      " 5   duration_min      float64\n",
      " 6   duration_hr       float64\n",
      " 7   filename          object \n",
      " 8   harmless          float64\n",
      " 9   malicious         float64\n",
      " 10  suspicious        float64\n",
      " 11  undetected        float64\n",
      " 12  timeout           float64\n",
      " 13  forcepoint        object \n",
      " 14  sophos            object \n",
      " 15  bitdefender       object \n",
      " 16  comodo            object \n",
      " 17  alphamnt          object \n",
      " 18  malicious_bool    bool   \n",
      " 19  malicious_min     float64\n",
      " 20  malicious_hr      float64\n",
      " 21  suspicious_bool   bool   \n",
      "dtypes: bool(2), float64(9), int64(2), object(9)\n",
      "memory usage: 972.9+ MB\n"
     ]
    }
   ],
   "source": [
    "df = (\n",
    "    pd.read_csv(\"../data/6.3m-ind-domain-data.csv.gz\")\n",
    "    .rename_column(\"visit_duration\", \"duration\")\n",
    "    .assign(\n",
    "        duration_min=lambda df_: df_[\"duration\"] / 60,\n",
    "        duration_hr=lambda df_: df_[\"duration\"] / 3600,\n",
    "    )\n",
    "    # ==================================================\n",
    "    # Merge to VT\n",
    "    .merge(\n",
    "        (pd.read_csv(\"../data/yg_virustotal_dat.csv\")),\n",
    "        how=\"left\",\n",
    "        left_on=\"private_domain\",\n",
    "        right_on=\"filename\",\n",
    "        validate=\"m:1\",\n",
    "    )\n",
    "    .assign(\n",
    "        malicious_bool=lambda df_: np.where(df_[\"malicious\"] >= 2, True, False),\n",
    "        malicious_min=lambda df_: df_[\"malicious_bool\"] * df_[\"duration_min\"],\n",
    "        malicious_hr=lambda df_: df_[\"malicious_bool\"] * df_[\"duration_hr\"],\n",
    "        suspicious_bool=lambda df_: df_[\"suspicious\"].astype(\"bool\"),\n",
    "    )\n",
    "    # ==================================================\n",
    ")\n",
    "display(df.head())\n",
    "df.info()"
   ]
  },
  {
   "cell_type": "markdown",
   "id": "0e1caa71",
   "metadata": {
    "ExecuteTime": {
     "end_time": "2024-11-18T05:30:50.409517Z",
     "start_time": "2024-11-18T05:30:50.406706Z"
    }
   },
   "source": [
    "## Singletons"
   ]
  },
  {
   "cell_type": "code",
   "execution_count": 3,
   "id": "83108fcd",
   "metadata": {
    "ExecuteTime": {
     "end_time": "2024-11-18T10:58:44.249635Z",
     "start_time": "2024-11-18T10:58:44.195359Z"
    }
   },
   "outputs": [
    {
     "data": {
      "text/plain": [
       "caseid\n",
       "47541         4\n",
       "257495       19\n",
       "296069       99\n",
       "345485       29\n",
       "359503        9\n",
       "             ..\n",
       "342368009     2\n",
       "342376013     7\n",
       "343144813     3\n",
       "343195461     2\n",
       "343466645    63\n",
       "Name: private_domain, Length: 582, dtype: int64"
      ]
     },
     "execution_count": 3,
     "metadata": {},
     "output_type": "execute_result"
    }
   ],
   "source": [
    "(\n",
    "    df.query(\"malicious_bool\")\n",
    "    .groupby(\"caseid\")[\"private_domain\"]\n",
    "    .size()\n",
    "    #     .groupby([\"caseid\", \"private_domain\", \"malicious\"])\n",
    "    #     .size()\n",
    "    #     .reset_index()\n",
    "    #     .rename_column(0, \"visits\")\n",
    "    #     .assign(singleton=lambda df_: np.where(df_[\"visits\"]==1, 1, 0))\n",
    "    #     .groupby(\"caseid\")[\"singleton\"].mean()\n",
    "    #     .reset_index()\n",
    ")"
   ]
  },
  {
   "cell_type": "markdown",
   "id": "a12fd825",
   "metadata": {},
   "source": [
    "### Malicious"
   ]
  },
  {
   "cell_type": "code",
   "execution_count": 4,
   "id": "fc0c7ab5",
   "metadata": {
    "ExecuteTime": {
     "end_time": "2024-11-18T10:58:44.311573Z",
     "start_time": "2024-11-18T10:58:44.255862Z"
    }
   },
   "outputs": [
    {
     "data": {
      "text/html": [
       "<div>\n",
       "<style scoped>\n",
       "    .dataframe tbody tr th:only-of-type {\n",
       "        vertical-align: middle;\n",
       "    }\n",
       "\n",
       "    .dataframe tbody tr th {\n",
       "        vertical-align: top;\n",
       "    }\n",
       "\n",
       "    .dataframe thead th {\n",
       "        text-align: right;\n",
       "    }\n",
       "</style>\n",
       "<table border=\"1\" class=\"dataframe\">\n",
       "  <thead>\n",
       "    <tr style=\"text-align: right;\">\n",
       "      <th></th>\n",
       "      <th>caseid</th>\n",
       "      <th>singleton</th>\n",
       "    </tr>\n",
       "  </thead>\n",
       "  <tbody>\n",
       "    <tr>\n",
       "      <th>0</th>\n",
       "      <td>47541</td>\n",
       "      <td>0.00</td>\n",
       "    </tr>\n",
       "    <tr>\n",
       "      <th>1</th>\n",
       "      <td>257495</td>\n",
       "      <td>0.00</td>\n",
       "    </tr>\n",
       "    <tr>\n",
       "      <th>2</th>\n",
       "      <td>296069</td>\n",
       "      <td>0.05</td>\n",
       "    </tr>\n",
       "    <tr>\n",
       "      <th>3</th>\n",
       "      <td>345485</td>\n",
       "      <td>0.00</td>\n",
       "    </tr>\n",
       "    <tr>\n",
       "      <th>4</th>\n",
       "      <td>359503</td>\n",
       "      <td>0.20</td>\n",
       "    </tr>\n",
       "    <tr>\n",
       "      <th>...</th>\n",
       "      <td>...</td>\n",
       "      <td>...</td>\n",
       "    </tr>\n",
       "    <tr>\n",
       "      <th>577</th>\n",
       "      <td>342368009</td>\n",
       "      <td>0.00</td>\n",
       "    </tr>\n",
       "    <tr>\n",
       "      <th>578</th>\n",
       "      <td>342376013</td>\n",
       "      <td>0.00</td>\n",
       "    </tr>\n",
       "    <tr>\n",
       "      <th>579</th>\n",
       "      <td>343144813</td>\n",
       "      <td>0.00</td>\n",
       "    </tr>\n",
       "    <tr>\n",
       "      <th>580</th>\n",
       "      <td>343195461</td>\n",
       "      <td>0.00</td>\n",
       "    </tr>\n",
       "    <tr>\n",
       "      <th>581</th>\n",
       "      <td>343466645</td>\n",
       "      <td>0.00</td>\n",
       "    </tr>\n",
       "  </tbody>\n",
       "</table>\n",
       "<p>582 rows × 2 columns</p>\n",
       "</div>"
      ],
      "text/plain": [
       "        caseid  singleton\n",
       "0        47541       0.00\n",
       "1       257495       0.00\n",
       "2       296069       0.05\n",
       "3       345485       0.00\n",
       "4       359503       0.20\n",
       "..         ...        ...\n",
       "577  342368009       0.00\n",
       "578  342376013       0.00\n",
       "579  343144813       0.00\n",
       "580  343195461       0.00\n",
       "581  343466645       0.00\n",
       "\n",
       "[582 rows x 2 columns]"
      ]
     },
     "execution_count": 4,
     "metadata": {},
     "output_type": "execute_result"
    }
   ],
   "source": [
    "df_ind_mal = (\n",
    "    df.query(\"malicious_bool\")\n",
    "    .groupby([\"caseid\", \"private_domain\"])\n",
    "    .size()\n",
    "    .reset_index()\n",
    "    .rename_column(0, \"visits\")\n",
    "    .assign(singleton=lambda df_: np.where(df_[\"visits\"] == 1, 1, 0))\n",
    "    .groupby(\"caseid\")[\"singleton\"]\n",
    "    .mean()\n",
    "    .reset_index()\n",
    ")\n",
    "df_ind_mal"
   ]
  },
  {
   "cell_type": "code",
   "execution_count": 5,
   "id": "5ac81757",
   "metadata": {
    "ExecuteTime": {
     "end_time": "2024-11-18T10:58:44.674930Z",
     "start_time": "2024-11-18T10:58:44.315354Z"
    }
   },
   "outputs": [
    {
     "data": {
      "text/plain": [
       "<Axes: xlabel='singleton', ylabel='Count'>"
      ]
     },
     "execution_count": 5,
     "metadata": {},
     "output_type": "execute_result"
    },
    {
     "data": {
      "image/png": "[encoded data removed]",
      "text/plain": [
       "<Figure size 432x288 with 1 Axes>"
      ]
     },
     "metadata": {
      "needs_background": "light"
     },
     "output_type": "display_data"
    }
   ],
   "source": [
    "sns.histplot(df_ind_mal[\"singleton\"])"
   ]
  },
  {
   "cell_type": "code",
   "execution_count": 6,
   "id": "e1a79424",
   "metadata": {
    "ExecuteTime": {
     "end_time": "2024-11-18T10:58:44.686974Z",
     "start_time": "2024-11-18T10:58:44.677315Z"
    }
   },
   "outputs": [
    {
     "data": {
      "text/html": [
       "<div>\n",
       "<style scoped>\n",
       "    .dataframe tbody tr th:only-of-type {\n",
       "        vertical-align: middle;\n",
       "    }\n",
       "\n",
       "    .dataframe tbody tr th {\n",
       "        vertical-align: top;\n",
       "    }\n",
       "\n",
       "    .dataframe thead th {\n",
       "        text-align: right;\n",
       "    }\n",
       "</style>\n",
       "<table border=\"1\" class=\"dataframe\">\n",
       "  <thead>\n",
       "    <tr style=\"text-align: right;\">\n",
       "      <th></th>\n",
       "      <th>caseid</th>\n",
       "      <th>singleton</th>\n",
       "    </tr>\n",
       "  </thead>\n",
       "  <tbody>\n",
       "    <tr>\n",
       "      <th>0</th>\n",
       "      <td>1356687</td>\n",
       "      <td>1.0</td>\n",
       "    </tr>\n",
       "    <tr>\n",
       "      <th>1</th>\n",
       "      <td>2786281</td>\n",
       "      <td>1.0</td>\n",
       "    </tr>\n",
       "    <tr>\n",
       "      <th>2</th>\n",
       "      <td>8559845</td>\n",
       "      <td>1.0</td>\n",
       "    </tr>\n",
       "    <tr>\n",
       "      <th>3</th>\n",
       "      <td>51376843</td>\n",
       "      <td>1.0</td>\n",
       "    </tr>\n",
       "    <tr>\n",
       "      <th>4</th>\n",
       "      <td>54220201</td>\n",
       "      <td>1.0</td>\n",
       "    </tr>\n",
       "    <tr>\n",
       "      <th>5</th>\n",
       "      <td>56463825</td>\n",
       "      <td>1.0</td>\n",
       "    </tr>\n",
       "    <tr>\n",
       "      <th>6</th>\n",
       "      <td>68422217</td>\n",
       "      <td>1.0</td>\n",
       "    </tr>\n",
       "    <tr>\n",
       "      <th>7</th>\n",
       "      <td>85140081</td>\n",
       "      <td>1.0</td>\n",
       "    </tr>\n",
       "    <tr>\n",
       "      <th>8</th>\n",
       "      <td>210158485</td>\n",
       "      <td>1.0</td>\n",
       "    </tr>\n",
       "    <tr>\n",
       "      <th>9</th>\n",
       "      <td>247699957</td>\n",
       "      <td>1.0</td>\n",
       "    </tr>\n",
       "    <tr>\n",
       "      <th>10</th>\n",
       "      <td>276177417</td>\n",
       "      <td>1.0</td>\n",
       "    </tr>\n",
       "    <tr>\n",
       "      <th>11</th>\n",
       "      <td>312834641</td>\n",
       "      <td>1.0</td>\n",
       "    </tr>\n",
       "    <tr>\n",
       "      <th>12</th>\n",
       "      <td>320827593</td>\n",
       "      <td>1.0</td>\n",
       "    </tr>\n",
       "    <tr>\n",
       "      <th>13</th>\n",
       "      <td>326643189</td>\n",
       "      <td>1.0</td>\n",
       "    </tr>\n",
       "    <tr>\n",
       "      <th>14</th>\n",
       "      <td>336061389</td>\n",
       "      <td>1.0</td>\n",
       "    </tr>\n",
       "    <tr>\n",
       "      <th>15</th>\n",
       "      <td>337577529</td>\n",
       "      <td>1.0</td>\n",
       "    </tr>\n",
       "    <tr>\n",
       "      <th>16</th>\n",
       "      <td>339942741</td>\n",
       "      <td>1.0</td>\n",
       "    </tr>\n",
       "  </tbody>\n",
       "</table>\n",
       "</div>"
      ],
      "text/plain": [
       "       caseid  singleton\n",
       "0     1356687        1.0\n",
       "1     2786281        1.0\n",
       "2     8559845        1.0\n",
       "3    51376843        1.0\n",
       "4    54220201        1.0\n",
       "5    56463825        1.0\n",
       "6    68422217        1.0\n",
       "7    85140081        1.0\n",
       "8   210158485        1.0\n",
       "9   247699957        1.0\n",
       "10  276177417        1.0\n",
       "11  312834641        1.0\n",
       "12  320827593        1.0\n",
       "13  326643189        1.0\n",
       "14  336061389        1.0\n",
       "15  337577529        1.0\n",
       "16  339942741        1.0"
      ]
     },
     "execution_count": 6,
     "metadata": {},
     "output_type": "execute_result"
    }
   ],
   "source": [
    "df_ind_mal.query(\"singleton==1\").reset_index(drop=True)"
   ]
  },
  {
   "cell_type": "markdown",
   "id": "d03fd868",
   "metadata": {},
   "source": [
    "### Non-malicious"
   ]
  },
  {
   "cell_type": "code",
   "execution_count": 7,
   "id": "2527ac8b",
   "metadata": {
    "ExecuteTime": {
     "end_time": "2024-11-18T10:58:46.860622Z",
     "start_time": "2024-11-18T10:58:44.689160Z"
    }
   },
   "outputs": [
    {
     "data": {
      "text/html": [
       "<div>\n",
       "<style scoped>\n",
       "    .dataframe tbody tr th:only-of-type {\n",
       "        vertical-align: middle;\n",
       "    }\n",
       "\n",
       "    .dataframe tbody tr th {\n",
       "        vertical-align: top;\n",
       "    }\n",
       "\n",
       "    .dataframe thead th {\n",
       "        text-align: right;\n",
       "    }\n",
       "</style>\n",
       "<table border=\"1\" class=\"dataframe\">\n",
       "  <thead>\n",
       "    <tr style=\"text-align: right;\">\n",
       "      <th></th>\n",
       "      <th>caseid</th>\n",
       "      <th>singleton</th>\n",
       "    </tr>\n",
       "  </thead>\n",
       "  <tbody>\n",
       "    <tr>\n",
       "      <th>0</th>\n",
       "      <td>47541</td>\n",
       "      <td>0.031776</td>\n",
       "    </tr>\n",
       "    <tr>\n",
       "      <th>1</th>\n",
       "      <td>56565</td>\n",
       "      <td>0.015576</td>\n",
       "    </tr>\n",
       "    <tr>\n",
       "      <th>2</th>\n",
       "      <td>203271</td>\n",
       "      <td>0.035211</td>\n",
       "    </tr>\n",
       "    <tr>\n",
       "      <th>3</th>\n",
       "      <td>216457</td>\n",
       "      <td>0.020833</td>\n",
       "    </tr>\n",
       "    <tr>\n",
       "      <th>4</th>\n",
       "      <td>257495</td>\n",
       "      <td>0.003906</td>\n",
       "    </tr>\n",
       "    <tr>\n",
       "      <th>...</th>\n",
       "      <td>...</td>\n",
       "      <td>...</td>\n",
       "    </tr>\n",
       "    <tr>\n",
       "      <th>1129</th>\n",
       "      <td>342376013</td>\n",
       "      <td>0.018868</td>\n",
       "    </tr>\n",
       "    <tr>\n",
       "      <th>1130</th>\n",
       "      <td>342383477</td>\n",
       "      <td>0.078947</td>\n",
       "    </tr>\n",
       "    <tr>\n",
       "      <th>1131</th>\n",
       "      <td>343144813</td>\n",
       "      <td>0.105263</td>\n",
       "    </tr>\n",
       "    <tr>\n",
       "      <th>1132</th>\n",
       "      <td>343195461</td>\n",
       "      <td>0.125000</td>\n",
       "    </tr>\n",
       "    <tr>\n",
       "      <th>1133</th>\n",
       "      <td>343466645</td>\n",
       "      <td>0.071429</td>\n",
       "    </tr>\n",
       "  </tbody>\n",
       "</table>\n",
       "<p>1134 rows × 2 columns</p>\n",
       "</div>"
      ],
      "text/plain": [
       "         caseid  singleton\n",
       "0         47541   0.031776\n",
       "1         56565   0.015576\n",
       "2        203271   0.035211\n",
       "3        216457   0.020833\n",
       "4        257495   0.003906\n",
       "...         ...        ...\n",
       "1129  342376013   0.018868\n",
       "1130  342383477   0.078947\n",
       "1131  343144813   0.105263\n",
       "1132  343195461   0.125000\n",
       "1133  343466645   0.071429\n",
       "\n",
       "[1134 rows x 2 columns]"
      ]
     },
     "execution_count": 7,
     "metadata": {},
     "output_type": "execute_result"
    }
   ],
   "source": [
    "df_ind_nonmal = (\n",
    "    df.query(\"malicious==0\")\n",
    "    .query(\"suspicious==0\")\n",
    "    .groupby([\"caseid\", \"private_domain\"])\n",
    "    .size()\n",
    "    .reset_index()\n",
    "    .rename_column(0, \"visits\")\n",
    "    .assign(singleton=lambda df_: np.where(df_[\"visits\"] == 1, 1, 0))\n",
    "    .groupby(\"caseid\")[\"singleton\"]\n",
    "    .mean()\n",
    "    .reset_index()\n",
    ")\n",
    "df_ind_nonmal"
   ]
  },
  {
   "cell_type": "code",
   "execution_count": 8,
   "id": "dd202983",
   "metadata": {
    "ExecuteTime": {
     "end_time": "2024-11-18T10:58:47.026225Z",
     "start_time": "2024-11-18T10:58:46.862585Z"
    }
   },
   "outputs": [
    {
     "data": {
      "text/plain": [
       "<Axes: xlabel='singleton', ylabel='Count'>"
      ]
     },
     "execution_count": 8,
     "metadata": {},
     "output_type": "execute_result"
    },
    {
     "data": {
      "image/png": "[encoded data removed]",
      "text/plain": [
       "<Figure size 432x288 with 1 Axes>"
      ]
     },
     "metadata": {
      "needs_background": "light"
     },
     "output_type": "display_data"
    }
   ],
   "source": [
    "sns.histplot(df_ind_nonmal[\"singleton\"])"
   ]
  },
  {
   "cell_type": "markdown",
   "id": "e3626990",
   "metadata": {},
   "source": [
    "### Plot"
   ]
  },
  {
   "cell_type": "code",
   "execution_count": 9,
   "id": "5b0d126d",
   "metadata": {
    "ExecuteTime": {
     "end_time": "2024-11-18T10:58:47.504335Z",
     "start_time": "2024-11-18T10:58:47.028407Z"
    },
    "scrolled": false
   },
   "outputs": [
    {
     "data": {
      "image/png": "[encoded data removed]",
      "text/plain": [
       "<Figure size 691.2x460.8 with 1 Axes>"
      ]
     },
     "metadata": {
      "needs_background": "light"
     },
     "output_type": "display_data"
    }
   ],
   "source": [
    "_scale = 0.8\n",
    "_aspect_ratio = (12, 8)\n",
    "figsize = tuple(k * _scale for k in _aspect_ratio)\n",
    "_, ax = plt.subplots(figsize=figsize)\n",
    "\n",
    "ax.hist(\n",
    "    df_ind_mal[\"singleton\"],\n",
    "    bins=20,\n",
    "    alpha=0.4,\n",
    "    label=\"Malicious\",\n",
    "    color=\"#032f30\",\n",
    "    edgecolor=\"black\",\n",
    "    density=True,\n",
    ")\n",
    "\n",
    "ax.hist(\n",
    "    df_ind_nonmal[\"singleton\"],\n",
    "    bins=12,\n",
    "    alpha=0.4,\n",
    "    label=\"Non-Malicious\",\n",
    "    color=\".7\",\n",
    "    edgecolor=\".2\",\n",
    "    hatch=\"xx\",\n",
    "    density=True,\n",
    ")\n",
    "\n",
    "ax.set_ylabel(\"Density\", fontsize=19)\n",
    "ax.set_xlabel(\"Proportion of visited websites with singleton visit\", fontsize=19)\n",
    "ax.set_yticklabels([])\n",
    "\n",
    "plt.legend(\n",
    "    title=\"Legend\",\n",
    "    loc=\"upper right\",\n",
    "    fontsize=20,\n",
    "    title_fontproperties={\"weight\": \"bold\", \"size\": 22},\n",
    "    frameon=False,\n",
    "    handlelength=0.8,\n",
    "    handleheight=1.8,\n",
    "    handletextpad=0.3,\n",
    "    labelspacing=0.5,\n",
    ")\n",
    "plt.grid(True, linestyle=\"--\", alpha=0.2)\n",
    "plt.tight_layout()\n",
    "save_mpl_fig(\"../figs/hist-mal-nonmal-prop-singleton-visit-websites\")"
   ]
  },
  {
   "cell_type": "markdown",
   "id": "75fcb230",
   "metadata": {},
   "source": [
    "## Concentration"
   ]
  },
  {
   "cell_type": "markdown",
   "id": "df47bd95",
   "metadata": {},
   "source": [
    "### Malicious"
   ]
  },
  {
   "cell_type": "code",
   "execution_count": 11,
   "id": "5e69a9c8",
   "metadata": {
    "ExecuteTime": {
     "end_time": "2024-11-18T10:58:51.728158Z",
     "start_time": "2024-11-18T10:58:51.608334Z"
    }
   },
   "outputs": [
    {
     "data": {
      "text/html": [
       "<div>\n",
       "<style scoped>\n",
       "    .dataframe tbody tr th:only-of-type {\n",
       "        vertical-align: middle;\n",
       "    }\n",
       "\n",
       "    .dataframe tbody tr th {\n",
       "        vertical-align: top;\n",
       "    }\n",
       "\n",
       "    .dataframe thead th {\n",
       "        text-align: right;\n",
       "    }\n",
       "</style>\n",
       "<table border=\"1\" class=\"dataframe\">\n",
       "  <thead>\n",
       "    <tr style=\"text-align: right;\">\n",
       "      <th></th>\n",
       "      <th>caseid</th>\n",
       "      <th>gini</th>\n",
       "      <th>uniques</th>\n",
       "    </tr>\n",
       "  </thead>\n",
       "  <tbody>\n",
       "    <tr>\n",
       "      <th>0</th>\n",
       "      <td>47541</td>\n",
       "      <td>0.000000</td>\n",
       "      <td>4</td>\n",
       "    </tr>\n",
       "    <tr>\n",
       "      <th>1</th>\n",
       "      <td>257495</td>\n",
       "      <td>0.302632</td>\n",
       "      <td>19</td>\n",
       "    </tr>\n",
       "    <tr>\n",
       "      <th>2</th>\n",
       "      <td>296069</td>\n",
       "      <td>0.455051</td>\n",
       "      <td>99</td>\n",
       "    </tr>\n",
       "    <tr>\n",
       "      <th>3</th>\n",
       "      <td>345485</td>\n",
       "      <td>0.390805</td>\n",
       "      <td>29</td>\n",
       "    </tr>\n",
       "    <tr>\n",
       "      <th>4</th>\n",
       "      <td>359503</td>\n",
       "      <td>0.088889</td>\n",
       "      <td>9</td>\n",
       "    </tr>\n",
       "    <tr>\n",
       "      <th>...</th>\n",
       "      <td>...</td>\n",
       "      <td>...</td>\n",
       "      <td>...</td>\n",
       "    </tr>\n",
       "    <tr>\n",
       "      <th>577</th>\n",
       "      <td>342368009</td>\n",
       "      <td>0.000000</td>\n",
       "      <td>2</td>\n",
       "    </tr>\n",
       "    <tr>\n",
       "      <th>578</th>\n",
       "      <td>342376013</td>\n",
       "      <td>0.000000</td>\n",
       "      <td>7</td>\n",
       "    </tr>\n",
       "    <tr>\n",
       "      <th>579</th>\n",
       "      <td>343144813</td>\n",
       "      <td>0.000000</td>\n",
       "      <td>3</td>\n",
       "    </tr>\n",
       "    <tr>\n",
       "      <th>580</th>\n",
       "      <td>343195461</td>\n",
       "      <td>0.000000</td>\n",
       "      <td>2</td>\n",
       "    </tr>\n",
       "    <tr>\n",
       "      <th>581</th>\n",
       "      <td>343466645</td>\n",
       "      <td>0.373626</td>\n",
       "      <td>63</td>\n",
       "    </tr>\n",
       "  </tbody>\n",
       "</table>\n",
       "<p>582 rows × 3 columns</p>\n",
       "</div>"
      ],
      "text/plain": [
       "        caseid      gini  uniques\n",
       "0        47541  0.000000        4\n",
       "1       257495  0.302632       19\n",
       "2       296069  0.455051       99\n",
       "3       345485  0.390805       29\n",
       "4       359503  0.088889        9\n",
       "..         ...       ...      ...\n",
       "577  342368009  0.000000        2\n",
       "578  342376013  0.000000        7\n",
       "579  343144813  0.000000        3\n",
       "580  343195461  0.000000        2\n",
       "581  343466645  0.373626       63\n",
       "\n",
       "[582 rows x 3 columns]"
      ]
     },
     "execution_count": 11,
     "metadata": {},
     "output_type": "execute_result"
    }
   ],
   "source": [
    "df_mal_ginis = (\n",
    "    df.query(\"malicious_bool==1\")\n",
    "    .reset_index(drop=True)\n",
    "    .groupby([\"caseid\", \"private_domain\"])\n",
    "    .size()\n",
    "    .reset_index()\n",
    "    .rename_column(0, \"visits\")\n",
    "    .groupby(\"caseid\")[\"visits\"]\n",
    "    .apply(lambda x: Gini(x.values).g)\n",
    "    .reset_index(name=\"gini\")\n",
    "    # ------------------------------\n",
    "    # Get number of unique mal. sizes\n",
    "    .merge(\n",
    "        (\n",
    "            df.query(\"malicious_bool\")\n",
    "            .groupby(\"caseid\")[\"private_domain\"]\n",
    "            .size()\n",
    "            .reset_index(name=\"uniques\")\n",
    "        ),\n",
    "        how=\"left\",\n",
    "        on=\"caseid\",\n",
    "        validate=\"1:1\",\n",
    "    )\n",
    ")\n",
    "df_mal_ginis"
   ]
  },
  {
   "cell_type": "code",
   "execution_count": 23,
   "id": "66aaf514",
   "metadata": {
    "ExecuteTime": {
     "end_time": "2024-11-18T11:29:14.061291Z",
     "start_time": "2024-11-18T11:29:14.055243Z"
    }
   },
   "outputs": [
    {
     "data": {
      "text/plain": [
       "47.766323024054984"
      ]
     },
     "execution_count": 23,
     "metadata": {},
     "output_type": "execute_result"
    }
   ],
   "source": [
    "100 * len(df_mal_ginis.query(\"gini<0.1\")) / len(df_mal_ginis)"
   ]
  },
  {
   "cell_type": "code",
   "execution_count": 24,
   "id": "ed171325",
   "metadata": {
    "ExecuteTime": {
     "end_time": "2024-11-18T11:29:19.453848Z",
     "start_time": "2024-11-18T11:29:19.447942Z"
    }
   },
   "outputs": [
    {
     "data": {
      "text/plain": [
       "60.99656357388316"
      ]
     },
     "execution_count": 24,
     "metadata": {},
     "output_type": "execute_result"
    }
   ],
   "source": [
    "100 * len(df_mal_ginis.query(\"gini<0.2\")) / len(df_mal_ginis)"
   ]
  },
  {
   "cell_type": "code",
   "execution_count": 28,
   "id": "1bf9b195",
   "metadata": {
    "ExecuteTime": {
     "end_time": "2024-11-18T11:32:57.783301Z",
     "start_time": "2024-11-18T11:32:57.776819Z"
    }
   },
   "outputs": [
    {
     "data": {
      "text/plain": [
       "0.8591065292096219"
      ]
     },
     "execution_count": 28,
     "metadata": {},
     "output_type": "execute_result"
    }
   ],
   "source": [
    "100 * len(df_mal_ginis.query(\"gini>0.8\")) / len(df_mal_ginis)"
   ]
  },
  {
   "cell_type": "code",
   "execution_count": 12,
   "id": "94090e80",
   "metadata": {
    "ExecuteTime": {
     "end_time": "2024-11-18T10:58:52.297937Z",
     "start_time": "2024-11-18T10:58:52.176236Z"
    }
   },
   "outputs": [
    {
     "data": {
      "text/plain": [
       "<Axes: xlabel='gini', ylabel='Count'>"
      ]
     },
     "execution_count": 12,
     "metadata": {},
     "output_type": "execute_result"
    },
    {
     "data": {
      "image/png": "[encoded data removed]",
      "text/plain": [
       "<Figure size 432x288 with 1 Axes>"
      ]
     },
     "metadata": {
      "needs_background": "light"
     },
     "output_type": "display_data"
    }
   ],
   "source": [
    "sns.histplot(df_mal_ginis[\"gini\"])"
   ]
  },
  {
   "cell_type": "code",
   "execution_count": 13,
   "id": "0f2c114e",
   "metadata": {
    "ExecuteTime": {
     "end_time": "2024-11-18T10:58:55.720575Z",
     "start_time": "2024-11-18T10:58:55.599964Z"
    }
   },
   "outputs": [
    {
     "data": {
      "text/plain": [
       "<Axes: xlabel='gini', ylabel='Count'>"
      ]
     },
     "execution_count": 13,
     "metadata": {},
     "output_type": "execute_result"
    },
    {
     "data": {
      "image/png": "[encoded data removed]",
      "text/plain": [
       "<Figure size 432x288 with 1 Axes>"
      ]
     },
     "metadata": {
      "needs_background": "light"
     },
     "output_type": "display_data"
    }
   ],
   "source": [
    "sns.histplot(df_mal_ginis.query(\"uniques>=3\")[\"gini\"])"
   ]
  },
  {
   "cell_type": "code",
   "execution_count": 14,
   "id": "f7bd2970",
   "metadata": {
    "ExecuteTime": {
     "end_time": "2024-11-18T10:58:55.955564Z",
     "start_time": "2024-11-18T10:58:55.832412Z"
    }
   },
   "outputs": [
    {
     "data": {
      "text/plain": [
       "<Axes: xlabel='gini', ylabel='Count'>"
      ]
     },
     "execution_count": 14,
     "metadata": {},
     "output_type": "execute_result"
    },
    {
     "data": {
      "image/png": "[encoded data removed]",
      "text/plain": [
       "<Figure size 432x288 with 1 Axes>"
      ]
     },
     "metadata": {
      "needs_background": "light"
     },
     "output_type": "display_data"
    }
   ],
   "source": [
    "sns.histplot(df_mal_ginis.query(\"uniques>=5\")[\"gini\"])"
   ]
  },
  {
   "cell_type": "code",
   "execution_count": 21,
   "id": "6cbbb2bf",
   "metadata": {
    "ExecuteTime": {
     "end_time": "2024-11-18T11:25:46.124649Z",
     "start_time": "2024-11-18T11:25:46.118130Z"
    }
   },
   "outputs": [
    {
     "data": {
      "text/plain": [
       "385"
      ]
     },
     "execution_count": 21,
     "metadata": {},
     "output_type": "execute_result"
    }
   ],
   "source": [
    "len(df_mal_ginis.query(\"uniques>=5\"))"
   ]
  },
  {
   "cell_type": "markdown",
   "id": "1a939cd0",
   "metadata": {},
   "source": [
    "### Non-malicious"
   ]
  },
  {
   "cell_type": "code",
   "execution_count": 15,
   "id": "331dc260",
   "metadata": {
    "ExecuteTime": {
     "end_time": "2024-11-18T10:59:07.685780Z",
     "start_time": "2024-11-18T10:58:58.080565Z"
    }
   },
   "outputs": [
    {
     "data": {
      "text/html": [
       "<div>\n",
       "<style scoped>\n",
       "    .dataframe tbody tr th:only-of-type {\n",
       "        vertical-align: middle;\n",
       "    }\n",
       "\n",
       "    .dataframe tbody tr th {\n",
       "        vertical-align: top;\n",
       "    }\n",
       "\n",
       "    .dataframe thead th {\n",
       "        text-align: right;\n",
       "    }\n",
       "</style>\n",
       "<table border=\"1\" class=\"dataframe\">\n",
       "  <thead>\n",
       "    <tr style=\"text-align: right;\">\n",
       "      <th></th>\n",
       "      <th>caseid</th>\n",
       "      <th>gini</th>\n",
       "      <th>uniques</th>\n",
       "    </tr>\n",
       "  </thead>\n",
       "  <tbody>\n",
       "    <tr>\n",
       "      <th>0</th>\n",
       "      <td>47541</td>\n",
       "      <td>0.847685</td>\n",
       "      <td>16383</td>\n",
       "    </tr>\n",
       "    <tr>\n",
       "      <th>1</th>\n",
       "      <td>56565</td>\n",
       "      <td>0.841131</td>\n",
       "      <td>11146</td>\n",
       "    </tr>\n",
       "    <tr>\n",
       "      <th>2</th>\n",
       "      <td>203271</td>\n",
       "      <td>0.867751</td>\n",
       "      <td>6146</td>\n",
       "    </tr>\n",
       "    <tr>\n",
       "      <th>3</th>\n",
       "      <td>216457</td>\n",
       "      <td>0.825226</td>\n",
       "      <td>1768</td>\n",
       "    </tr>\n",
       "    <tr>\n",
       "      <th>4</th>\n",
       "      <td>257495</td>\n",
       "      <td>0.858746</td>\n",
       "      <td>9677</td>\n",
       "    </tr>\n",
       "    <tr>\n",
       "      <th>...</th>\n",
       "      <td>...</td>\n",
       "      <td>...</td>\n",
       "      <td>...</td>\n",
       "    </tr>\n",
       "    <tr>\n",
       "      <th>1129</th>\n",
       "      <td>342376013</td>\n",
       "      <td>0.890564</td>\n",
       "      <td>5561</td>\n",
       "    </tr>\n",
       "    <tr>\n",
       "      <th>1130</th>\n",
       "      <td>342383477</td>\n",
       "      <td>0.771171</td>\n",
       "      <td>867</td>\n",
       "    </tr>\n",
       "    <tr>\n",
       "      <th>1131</th>\n",
       "      <td>343144813</td>\n",
       "      <td>0.834694</td>\n",
       "      <td>767</td>\n",
       "    </tr>\n",
       "    <tr>\n",
       "      <th>1132</th>\n",
       "      <td>343195461</td>\n",
       "      <td>0.655418</td>\n",
       "      <td>526</td>\n",
       "    </tr>\n",
       "    <tr>\n",
       "      <th>1133</th>\n",
       "      <td>343466645</td>\n",
       "      <td>0.735205</td>\n",
       "      <td>883</td>\n",
       "    </tr>\n",
       "  </tbody>\n",
       "</table>\n",
       "<p>1134 rows × 3 columns</p>\n",
       "</div>"
      ],
      "text/plain": [
       "         caseid      gini  uniques\n",
       "0         47541  0.847685    16383\n",
       "1         56565  0.841131    11146\n",
       "2        203271  0.867751     6146\n",
       "3        216457  0.825226     1768\n",
       "4        257495  0.858746     9677\n",
       "...         ...       ...      ...\n",
       "1129  342376013  0.890564     5561\n",
       "1130  342383477  0.771171      867\n",
       "1131  343144813  0.834694      767\n",
       "1132  343195461  0.655418      526\n",
       "1133  343466645  0.735205      883\n",
       "\n",
       "[1134 rows x 3 columns]"
      ]
     },
     "execution_count": 15,
     "metadata": {},
     "output_type": "execute_result"
    }
   ],
   "source": [
    "df_nonmal_ginis = (\n",
    "    df.query(\"malicious==0\")\n",
    "    .query(\"suspicious==0\")\n",
    "    .reset_index(drop=True)\n",
    "    .groupby([\"caseid\", \"private_domain\"])\n",
    "    .size()\n",
    "    .reset_index()\n",
    "    .rename_column(0, \"visits\")\n",
    "    .groupby(\"caseid\")[\"visits\"]\n",
    "    .apply(lambda x: Gini(x.values).g)\n",
    "    .reset_index(name=\"gini\")\n",
    "    # ------------------------------\n",
    "    # Get number of unique non-mal. sizes\n",
    "    .merge(\n",
    "        (\n",
    "            df.query(\"malicious==0\")\n",
    "            .query(\"suspicious==0\")\n",
    "            .groupby(\"caseid\")[\"private_domain\"]\n",
    "            .size()\n",
    "            .reset_index(name=\"uniques\")\n",
    "        ),\n",
    "        how=\"left\",\n",
    "        on=\"caseid\",\n",
    "        validate=\"1:1\",\n",
    "    )\n",
    ")\n",
    "df_nonmal_ginis"
   ]
  },
  {
   "cell_type": "code",
   "execution_count": 16,
   "id": "6ce28aff",
   "metadata": {
    "ExecuteTime": {
     "end_time": "2024-11-18T10:59:07.841803Z",
     "start_time": "2024-11-18T10:59:07.688591Z"
    }
   },
   "outputs": [
    {
     "data": {
      "text/plain": [
       "<Axes: xlabel='gini', ylabel='Count'>"
      ]
     },
     "execution_count": 16,
     "metadata": {},
     "output_type": "execute_result"
    },
    {
     "data": {
      "image/png": "[encoded data removed]",
      "text/plain": [
       "<Figure size 432x288 with 1 Axes>"
      ]
     },
     "metadata": {
      "needs_background": "light"
     },
     "output_type": "display_data"
    }
   ],
   "source": [
    "sns.histplot(df_nonmal_ginis[\"gini\"])"
   ]
  },
  {
   "cell_type": "code",
   "execution_count": 17,
   "id": "dbd7fc6a",
   "metadata": {
    "ExecuteTime": {
     "end_time": "2024-11-18T10:59:08.099304Z",
     "start_time": "2024-11-18T10:59:07.844218Z"
    }
   },
   "outputs": [
    {
     "data": {
      "text/plain": [
       "<Axes: xlabel='gini', ylabel='Count'>"
      ]
     },
     "execution_count": 17,
     "metadata": {},
     "output_type": "execute_result"
    },
    {
     "data": {
      "image/png": "[encoded data removed]",
      "text/plain": [
       "<Figure size 432x288 with 1 Axes>"
      ]
     },
     "metadata": {
      "needs_background": "light"
     },
     "output_type": "display_data"
    }
   ],
   "source": [
    "sns.histplot(df_nonmal_ginis.query(\"uniques>=5\")[\"gini\"])"
   ]
  },
  {
   "cell_type": "code",
   "execution_count": 29,
   "id": "c437dd5f",
   "metadata": {
    "ExecuteTime": {
     "end_time": "2024-11-18T11:33:05.519023Z",
     "start_time": "2024-11-18T11:33:05.512483Z"
    }
   },
   "outputs": [
    {
     "data": {
      "text/plain": [
       "0.8818342151675485"
      ]
     },
     "execution_count": 29,
     "metadata": {},
     "output_type": "execute_result"
    }
   ],
   "source": [
    "100 * len(df_nonmal_ginis.query(\"gini<0.1\")) / len(df_nonmal_ginis)"
   ]
  },
  {
   "cell_type": "code",
   "execution_count": 30,
   "id": "1e65dd1a",
   "metadata": {
    "ExecuteTime": {
     "end_time": "2024-11-18T11:33:05.821741Z",
     "start_time": "2024-11-18T11:33:05.816119Z"
    }
   },
   "outputs": [
    {
     "data": {
      "text/plain": [
       "1.3227513227513228"
      ]
     },
     "execution_count": 30,
     "metadata": {},
     "output_type": "execute_result"
    }
   ],
   "source": [
    "100 * len(df_nonmal_ginis.query(\"gini<0.2\")) / len(df_nonmal_ginis)"
   ]
  },
  {
   "cell_type": "code",
   "execution_count": 32,
   "id": "b8c5853d",
   "metadata": {
    "ExecuteTime": {
     "end_time": "2024-11-18T11:33:18.680639Z",
     "start_time": "2024-11-18T11:33:18.673536Z"
    }
   },
   "outputs": [
    {
     "data": {
      "text/plain": [
       "44.79717813051146"
      ]
     },
     "execution_count": 32,
     "metadata": {},
     "output_type": "execute_result"
    }
   ],
   "source": [
    "100 * len(df_nonmal_ginis.query(\"gini>0.8\")) / len(df_nonmal_ginis)"
   ]
  },
  {
   "cell_type": "markdown",
   "id": "91421d25",
   "metadata": {},
   "source": [
    "### Plot"
   ]
  },
  {
   "cell_type": "code",
   "execution_count": 18,
   "id": "e3b39690",
   "metadata": {
    "ExecuteTime": {
     "end_time": "2024-11-18T10:59:08.610398Z",
     "start_time": "2024-11-18T10:59:08.102049Z"
    },
    "scrolled": false
   },
   "outputs": [
    {
     "data": {
      "image/png": "[encoded data removed]",
      "text/plain": [
       "<Figure size 691.2x460.8 with 1 Axes>"
      ]
     },
     "metadata": {
      "needs_background": "light"
     },
     "output_type": "display_data"
    }
   ],
   "source": [
    "_scale = 0.8\n",
    "_aspect_ratio = (12, 8)\n",
    "figsize = tuple(k * _scale for k in _aspect_ratio)\n",
    "_, ax = plt.subplots(figsize=figsize)\n",
    "\n",
    "ax.hist(\n",
    "    df_mal_ginis.query(\"uniques>=5\")[\"gini\"],\n",
    "    bins=25,\n",
    "    alpha=0.4,\n",
    "    label=\"Malicious\",\n",
    "    color=\"#032f30\",\n",
    "    edgecolor=\"black\",\n",
    "    density=True,\n",
    ")\n",
    "\n",
    "ax.hist(\n",
    "    df_nonmal_ginis.query(\"uniques>=5\")[\"gini\"],\n",
    "    bins=30,\n",
    "    alpha=0.4,\n",
    "    label=\"Non-Malicious\",\n",
    "    color=\".7\",\n",
    "    edgecolor=\".2\",\n",
    "    hatch=\"xx\",\n",
    "    density=True,\n",
    ")\n",
    "\n",
    "ax.set_ylabel(\"Density\", fontsize=19)\n",
    "ax.set_xlabel(\"Website visit concentration (Gini coefficient)\", fontsize=19)\n",
    "ax.set_yticklabels([])\n",
    "ax.set_xticks(\n",
    "    [\n",
    "        0,\n",
    "        0.1,\n",
    "        0.2,\n",
    "        0.3,\n",
    "        0.4,\n",
    "        0.5,\n",
    "        0.6,\n",
    "        0.7,\n",
    "        0.8,\n",
    "        0.9,\n",
    "    ]\n",
    ")\n",
    "# ax.set_xticklabels([0,.1,.2,.3,.4,.5,.6,.7,.8,.9])\n",
    "plt.legend(\n",
    "    title=\"Legend\",\n",
    "    loc=\"upper right\",\n",
    "    fontsize=20,\n",
    "    title_fontproperties={\"weight\": \"bold\", \"size\": 22},\n",
    "    frameon=False,\n",
    "    handlelength=0.8,\n",
    "    handleheight=1.8,\n",
    "    handletextpad=0.3,\n",
    "    labelspacing=0.5,\n",
    ")\n",
    "plt.grid(True, linestyle=\"--\", alpha=0.2)\n",
    "plt.tight_layout()\n",
    "save_mpl_fig(\"../figs/hist-mal-nonmal-gini\")"
   ]
  },
  {
   "cell_type": "code",
   "execution_count": 22,
   "id": "0aca1283",
   "metadata": {
    "ExecuteTime": {
     "end_time": "2024-11-18T11:26:41.756627Z",
     "start_time": "2024-11-18T11:26:41.534554Z"
    },
    "scrolled": false
   },
   "outputs": [
    {
     "data": {
      "image/png": "[encoded data removed]",
      "text/plain": [
       "<Figure size 691.2x460.8 with 1 Axes>"
      ]
     },
     "metadata": {
      "needs_background": "light"
     },
     "output_type": "display_data"
    }
   ],
   "source": [
    "# No restriction on mal\n",
    "_scale = 0.8\n",
    "_aspect_ratio = (12, 8)\n",
    "figsize = tuple(k * _scale for k in _aspect_ratio)\n",
    "_, ax = plt.subplots(figsize=figsize)\n",
    "\n",
    "ax.hist(\n",
    "    df_mal_ginis.query(\"uniques>=0\")[\"gini\"],\n",
    "    bins=25,\n",
    "    alpha=0.4,\n",
    "    label=\"Malicious\",\n",
    "    color=\"#032f30\",\n",
    "    edgecolor=\"black\",\n",
    "    density=True,\n",
    ")\n",
    "\n",
    "ax.hist(\n",
    "    df_nonmal_ginis.query(\"uniques>=0\")[\"gini\"],\n",
    "    bins=30,\n",
    "    alpha=0.4,\n",
    "    label=\"Non-Malicious\",\n",
    "    color=\".7\",\n",
    "    edgecolor=\".2\",\n",
    "    hatch=\"xx\",\n",
    "    density=True,\n",
    ")\n",
    "\n",
    "ax.set_ylabel(\"Density\", fontsize=19)\n",
    "ax.set_xlabel(\"Website visit concentration (Gini coefficient)\", fontsize=19)\n",
    "ax.set_yticklabels([])\n",
    "ax.set_xticks(\n",
    "    [\n",
    "        0,\n",
    "        0.1,\n",
    "        0.2,\n",
    "        0.3,\n",
    "        0.4,\n",
    "        0.5,\n",
    "        0.6,\n",
    "        0.7,\n",
    "        0.8,\n",
    "        0.9,\n",
    "    ]\n",
    ")\n",
    "# ax.set_xticklabels([0,.1,.2,.3,.4,.5,.6,.7,.8,.9])\n",
    "plt.legend(\n",
    "    title=\"Legend\",\n",
    "    loc=\"upper right\",\n",
    "    fontsize=20,\n",
    "    title_fontproperties={\"weight\": \"bold\", \"size\": 22},\n",
    "    frameon=False,\n",
    "    handlelength=0.8,\n",
    "    handleheight=1.8,\n",
    "    handletextpad=0.3,\n",
    "    labelspacing=0.5,\n",
    ")\n",
    "plt.grid(True, linestyle=\"--\", alpha=0.2)\n",
    "plt.tight_layout()\n",
    "# save_mpl_fig(\"../figs/hist-mal-nonmal-gini\")"
   ]
  },
  {
   "cell_type": "code",
   "execution_count": null,
   "id": "818845e6",
   "metadata": {},
   "outputs": [],
   "source": []
  }
 ],
 "metadata": {
  "kernelspec": {
   "display_name": "Python (venv)",
   "language": "python",
   "name": "venv"
  },
  "language_info": {
   "codemirror_mode": {
    "name": "ipython",
    "version": 3
   },
   "file_extension": ".py",
   "mimetype": "text/x-python",
   "name": "python",
   "nbconvert_exporter": "python",
   "pygments_lexer": "ipython3",
   "version": "3.10.11"
  },
  "toc": {
   "base_numbering": 1,
   "nav_menu": {},
   "number_sections": true,
   "sideBar": true,
   "skip_h1_title": false,
   "title_cell": "Table of Contents",
   "title_sidebar": "Contents",
   "toc_cell": false,
   "toc_position": {
    "height": "calc(100% - 180px)",
    "left": "10px",
    "top": "150px",
    "width": "255.844px"
   },
   "toc_section_display": true,
   "toc_window_display": true
  }
 },
 "nbformat": 4,
 "nbformat_minor": 5
}
