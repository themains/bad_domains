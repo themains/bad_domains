{
 "cells": [
  {
   "cell_type": "code",
   "execution_count": 1,
   "id": "61a46fb1",
   "metadata": {
    "ExecuteTime": {
     "end_time": "2023-04-28T08:44:07.716228Z",
     "start_time": "2023-04-28T08:44:07.409746Z"
    }
   },
   "outputs": [],
   "source": [
    "import os\n",
    "import pandas as pd\n",
    "import janitor\n",
    "import numpy as np\n",
    "pd.set_option('display.max_columns', 100)\n",
    "\n",
    "DATAPATH = \"../../adult-data\"        "
   ]
  },
  {
   "cell_type": "code",
   "execution_count": 2,
   "id": "28f71f13",
   "metadata": {
    "ExecuteTime": {
     "end_time": "2023-04-28T08:44:13.716960Z",
     "start_time": "2023-04-28T08:44:07.725255Z"
    },
    "scrolled": true
   },
   "outputs": [
    {
     "name": "stdout",
     "output_type": "stream",
     "text": [
      "output = df with web browses\n",
      "len(df)=6,297,382\n"
     ]
    },
    {
     "data": {
      "text/html": [
       "<div>\n",
       "<style scoped>\n",
       "    .dataframe tbody tr th:only-of-type {\n",
       "        vertical-align: middle;\n",
       "    }\n",
       "\n",
       "    .dataframe tbody tr th {\n",
       "        vertical-align: top;\n",
       "    }\n",
       "\n",
       "    .dataframe thead th {\n",
       "        text-align: right;\n",
       "    }\n",
       "</style>\n",
       "<table border=\"1\" class=\"dataframe\">\n",
       "  <thead>\n",
       "    <tr style=\"text-align: right;\">\n",
       "      <th></th>\n",
       "      <th>private_domain</th>\n",
       "    </tr>\n",
       "  </thead>\n",
       "  <tbody>\n",
       "    <tr>\n",
       "      <th>0</th>\n",
       "      <td>google.com</td>\n",
       "    </tr>\n",
       "    <tr>\n",
       "      <th>1</th>\n",
       "      <td>coupons.com</td>\n",
       "    </tr>\n",
       "    <tr>\n",
       "      <th>2</th>\n",
       "      <td>google.com</td>\n",
       "    </tr>\n",
       "    <tr>\n",
       "      <th>3</th>\n",
       "      <td>coupons.com</td>\n",
       "    </tr>\n",
       "    <tr>\n",
       "      <th>4</th>\n",
       "      <td>google.com</td>\n",
       "    </tr>\n",
       "  </tbody>\n",
       "</table>\n",
       "</div>"
      ],
      "text/plain": [
       "  private_domain\n",
       "0     google.com\n",
       "1    coupons.com\n",
       "2     google.com\n",
       "3    coupons.com\n",
       "4     google.com"
      ]
     },
     "execution_count": 2,
     "metadata": {},
     "output_type": "execute_result"
    }
   ],
   "source": [
    "# (fold cell) Load and prep web browsing data\n",
    "# output = df with visits to adult sites\n",
    "# usecols_web_desktop = [\"caseid\", \"category\", \"private_domain\", \"visit_duration\", \"visit_time_local\"]\n",
    "usecols_web_desktop = [\"private_domain\"]\n",
    "usecols = [\"private_domain\"]\n",
    "\n",
    "df = (pd.concat([\n",
    "        # Get web_mobile\n",
    "        pd.read_csv(\n",
    "            os.path.join(DATAPATH, \"output/realityMine_web_mobile_2022-06-01_2022-06-30.csv\"),\n",
    "            usecols=usecols_web_desktop,\n",
    "            low_memory=False,\n",
    "        ), \n",
    "        # Get web_desktop\n",
    "        pd.read_csv(\n",
    "            os.path.join(DATAPATH, \"output/realityMine_web_desktop_2022-06-01_2022-06-30.csv\"),\n",
    "            usecols=usecols_web_desktop,\n",
    "            low_memory=False,\n",
    "        ),\n",
    "        # Get web\n",
    "        (pd.read_csv(\n",
    "            os.path.join(DATAPATH, \"output/realityMine_web_2022-06-01_2022-06-30.csv\"),\n",
    "            usecols=usecols,\n",
    "            low_memory=False,\n",
    "        )\n",
    "        )\n",
    "    ])\n",
    "     )\n",
    "print(\"output = df with web browses\")\n",
    "print(f\"{len(df)=:,}\")\n",
    "df.head()"
   ]
  },
  {
   "cell_type": "code",
   "execution_count": 3,
   "id": "0d111198",
   "metadata": {
    "ExecuteTime": {
     "end_time": "2023-04-28T08:44:14.316765Z",
     "start_time": "2023-04-28T08:44:13.722110Z"
    }
   },
   "outputs": [
    {
     "data": {
      "text/html": [
       "<div>\n",
       "<style scoped>\n",
       "    .dataframe tbody tr th:only-of-type {\n",
       "        vertical-align: middle;\n",
       "    }\n",
       "\n",
       "    .dataframe tbody tr th {\n",
       "        vertical-align: top;\n",
       "    }\n",
       "\n",
       "    .dataframe thead th {\n",
       "        text-align: right;\n",
       "    }\n",
       "</style>\n",
       "<table border=\"1\" class=\"dataframe\">\n",
       "  <thead>\n",
       "    <tr style=\"text-align: right;\">\n",
       "      <th></th>\n",
       "      <th>private_domain</th>\n",
       "      <th>tt_visits</th>\n",
       "    </tr>\n",
       "  </thead>\n",
       "  <tbody>\n",
       "    <tr>\n",
       "      <th>0</th>\n",
       "      <td>google.com</td>\n",
       "      <td>986722</td>\n",
       "    </tr>\n",
       "    <tr>\n",
       "      <th>1</th>\n",
       "      <td>facebook.com</td>\n",
       "      <td>449173</td>\n",
       "    </tr>\n",
       "    <tr>\n",
       "      <th>2</th>\n",
       "      <td>yahoo.com</td>\n",
       "      <td>245982</td>\n",
       "    </tr>\n",
       "    <tr>\n",
       "      <th>3</th>\n",
       "      <td>bing.com</td>\n",
       "      <td>235769</td>\n",
       "    </tr>\n",
       "    <tr>\n",
       "      <th>4</th>\n",
       "      <td>youtube.com</td>\n",
       "      <td>232829</td>\n",
       "    </tr>\n",
       "    <tr>\n",
       "      <th>...</th>\n",
       "      <td>...</td>\n",
       "      <td>...</td>\n",
       "    </tr>\n",
       "    <tr>\n",
       "      <th>64069</th>\n",
       "      <td>birdwatchingtips.com</td>\n",
       "      <td>1</td>\n",
       "    </tr>\n",
       "    <tr>\n",
       "      <th>64070</th>\n",
       "      <td>consultanthelpers.com</td>\n",
       "      <td>1</td>\n",
       "    </tr>\n",
       "    <tr>\n",
       "      <th>64071</th>\n",
       "      <td>optyruntchan.com</td>\n",
       "      <td>1</td>\n",
       "    </tr>\n",
       "    <tr>\n",
       "      <th>64072</th>\n",
       "      <td>oracionesmilagrosasypoderosas.com</td>\n",
       "      <td>1</td>\n",
       "    </tr>\n",
       "    <tr>\n",
       "      <th>64073</th>\n",
       "      <td>isaackingstyles.com</td>\n",
       "      <td>1</td>\n",
       "    </tr>\n",
       "  </tbody>\n",
       "</table>\n",
       "<p>64074 rows × 2 columns</p>\n",
       "</div>"
      ],
      "text/plain": [
       "                          private_domain  tt_visits\n",
       "0                             google.com     986722\n",
       "1                           facebook.com     449173\n",
       "2                              yahoo.com     245982\n",
       "3                               bing.com     235769\n",
       "4                            youtube.com     232829\n",
       "...                                  ...        ...\n",
       "64069               birdwatchingtips.com          1\n",
       "64070              consultanthelpers.com          1\n",
       "64071                   optyruntchan.com          1\n",
       "64072  oracionesmilagrosasypoderosas.com          1\n",
       "64073                isaackingstyles.com          1\n",
       "\n",
       "[64074 rows x 2 columns]"
      ]
     },
     "execution_count": 3,
     "metadata": {},
     "output_type": "execute_result"
    }
   ],
   "source": [
    "df_domains_ranked = (\n",
    "    df.reset_index()\n",
    "    .groupby(\"private_domain\").size().reset_index()\n",
    "    .sort_values(0, ascending=False, ignore_index=True)\n",
    "    .rename_column(0, \"tt_visits\")\n",
    ")\n",
    "df_domains_ranked"
   ]
  },
  {
   "cell_type": "code",
   "execution_count": 4,
   "id": "c6267368",
   "metadata": {
    "ExecuteTime": {
     "end_time": "2023-04-28T08:44:14.653553Z",
     "start_time": "2023-04-28T08:44:14.321700Z"
    }
   },
   "outputs": [],
   "source": [
    "def split_dataframe(dataframe: pd.DataFrame, n_chunks: int):\n",
    "    \"\"\"Split a dataframe into n chunks of approximately equal size.\"\"\"\n",
    "    \n",
    "    # calculate the approximate chunk size\n",
    "    chunk_size = len(dataframe) // n_chunks\n",
    "    \n",
    "    # split the dataframe into chunks\n",
    "    chunks = [dataframe[i:i+chunk_size] for i in range(0, len(dataframe), chunk_size)]\n",
    "    \n",
    "    if len(chunks) > n_chunks:  # More chunks than specified, b/c of remainder rows\n",
    "        # Concatenate the last two chunks\n",
    "        chunks = chunks[:-2] + [pd.concat([chunks[-2], chunks[-1]])]\n",
    "    return chunks"
   ]
  },
  {
   "cell_type": "code",
   "execution_count": 5,
   "id": "362e4566",
   "metadata": {
    "ExecuteTime": {
     "end_time": "2023-04-28T08:44:14.956617Z",
     "start_time": "2023-04-28T08:44:14.656582Z"
    }
   },
   "outputs": [],
   "source": [
    "for ix, chunk in enumerate(split_dataframe(df_domains_ranked.select_columns(\"private_domain\"), n_chunks=8)):\n",
    "    (chunk\n",
    "     .assign(return_code=np.nan)\n",
    "     .to_csv(f\"chunk{ix}.csv\", index=False)\n",
    "    )"
   ]
  },
  {
   "cell_type": "code",
   "execution_count": 6,
   "id": "dc48f136",
   "metadata": {
    "ExecuteTime": {
     "end_time": "2023-04-28T08:44:16.142479Z",
     "start_time": "2023-04-28T08:44:14.958799Z"
    }
   },
   "outputs": [
    {
     "name": "stdout",
     "output_type": "stream",
     "text": [
      "total 3.0M\n",
      "-rw-r--r-- 1 lsys lsys 124K Apr 28 16:44 chunk0.csv\n",
      "-rw-r--r-- 1 lsys lsys 130K Apr 28 16:44 chunk1.csv\n",
      "-rw-r--r-- 1 lsys lsys 133K Apr 28 16:44 chunk2.csv\n",
      "-rw-r--r-- 1 lsys lsys 138K Apr 28 16:44 chunk3.csv\n",
      "-rw-r--r-- 1 lsys lsys 137K Apr 28 16:44 chunk4.csv\n",
      "-rw-r--r-- 1 lsys lsys 138K Apr 28 16:44 chunk5.csv\n",
      "-rw-r--r-- 1 lsys lsys 139K Apr 28 16:44 chunk6.csv\n",
      "-rw-r--r-- 1 lsys lsys 137K Apr 28 16:44 chunk7.csv\n",
      "-rw-r--r-- 1 lsys lsys 1.8M Apr 27 19:43 domains_categories.csv\n",
      "-rw-r--r-- 1 lsys lsys  37K Apr 27 23:22 google.com.json\n",
      "-rw-r--r-- 1 lsys lsys  11K Apr 28 16:44 rank-chunk.ipynb\n",
      "-rw-r--r-- 1 lsys lsys  21K Apr 28 16:11 test-vt-query-google-domain.ipynb\n",
      "-rw-r--r-- 1 lsys lsys  20K Apr 27 19:43 yougov_domain_categories.ipynb\n"
     ]
    }
   ],
   "source": [
    "!ls -lh"
   ]
  },
  {
   "cell_type": "code",
   "execution_count": null,
   "id": "1cfc9ab2",
   "metadata": {},
   "outputs": [],
   "source": []
  }
 ],
 "metadata": {
  "kernelspec": {
   "display_name": "Python 3 (ipykernel)",
   "language": "python",
   "name": "python3"
  },
  "language_info": {
   "codemirror_mode": {
    "name": "ipython",
    "version": 3
   },
   "file_extension": ".py",
   "mimetype": "text/x-python",
   "name": "python",
   "nbconvert_exporter": "python",
   "pygments_lexer": "ipython3",
   "version": "3.8.10"
  },
  "toc": {
   "base_numbering": 1,
   "nav_menu": {},
   "number_sections": true,
   "sideBar": true,
   "skip_h1_title": false,
   "title_cell": "Table of Contents",
   "title_sidebar": "Contents",
   "toc_cell": false,
   "toc_position": {},
   "toc_section_display": true,
   "toc_window_display": false
  }
 },
 "nbformat": 4,
 "nbformat_minor": 5
}
