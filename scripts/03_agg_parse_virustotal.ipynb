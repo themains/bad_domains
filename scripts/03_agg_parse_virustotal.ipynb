{
 "cells": [
  {
   "cell_type": "markdown",
   "id": "e7ff5b7e-44e7-4009-a0b9-8aaa23540191",
   "metadata": {},
   "source": [
    "### Aggregate and Parse Virustotal Data"
   ]
  },
  {
   "cell_type": "code",
   "execution_count": 4,
   "id": "2d2719da-4ae1-4e0d-b142-7c6599a4185e",
   "metadata": {},
   "outputs": [],
   "source": [
    "import os\n",
    "import json\n",
    "import pandas as pd\n",
    "import logging\n",
    "\n",
    "# Set the path of the folder containing the JSON files\n",
    "folder_path = \"payloads_json\""
   ]
  },
  {
   "cell_type": "code",
   "execution_count": 5,
   "id": "894a88f1-5244-47a3-b505-4b1fe204fe9e",
   "metadata": {
    "tags": []
   },
   "outputs": [],
   "source": [
    "# Create an empty list to store the dictionaries from the JSON files\n",
    "json_dicts = []\n",
    "\n",
    "# Create an empty list to store the extracted data\n",
    "data = []\n",
    "\n",
    "# Log file\n",
    "logging.basicConfig(filename='json_parse_errors.log', level=logging.ERROR, format='%(asctime)s - %(levelname)s - %(message)s')\n",
    "\n",
    "# Loop over the files in the folder\n",
    "for filename in os.listdir(folder_path):\n",
    "    if filename.endswith('.json'):\n",
    "        # Load the JSON data from the file\n",
    "        with open(os.path.join(folder_path, filename), 'r') as f:\n",
    "            try:\n",
    "                json_data = json.load(f)\n",
    "        \n",
    "                # Extract the required data from the JSON data\n",
    "                last_analysis_stats = json_data['data']['attributes']['last_analysis_stats']\n",
    "                harmless = last_analysis_stats['harmless']\n",
    "                malicious = last_analysis_stats['malicious']\n",
    "                suspicious = last_analysis_stats['suspicious']\n",
    "                undetected = last_analysis_stats['undetected']\n",
    "                timeout = last_analysis_stats['timeout']\n",
    "\n",
    "                categories = json_data['data']['attributes']['categories']\n",
    "                forcepoint = categories.get('Forcepoint ThreatSeeker')\n",
    "                sophos = categories.get('Sophos')\n",
    "                bitdefender = categories.get('BitDefender')\n",
    "                comodo = categories.get(\"Comodo Valkyrie Verdict\")\n",
    "                alphamnt = categories.get('alphaMountain.ai')\n",
    "            except json.JSONDecodeError as e:\n",
    "                # Log the error\n",
    "                logging.error(f\"JSONDecodeError: {e} in file {filename}\")\n",
    "                    \n",
    "            except Exception as e:\n",
    "                # Log other unexpected errors\n",
    "                logging.error(f\"Error processing file {filename}: {e}\")\n",
    "\n",
    "        # Add the extracted data to the list\n",
    "        data.append([filename[:-5], harmless, malicious, suspicious, undetected, timeout, forcepoint, sophos, bitdefender, comodo, alphamnt])\n",
    "\n",
    "# Convert the list of data to a Pandas DataFrame\n",
    "df = pd.DataFrame(data, columns=['filename', 'harmless', 'malicious', 'suspicious', 'undetected', 'timeout', 'forcepoint', 'sophos', 'bitdefender', 'comodo', 'alphamnt'])"
   ]
  },
  {
   "cell_type": "code",
   "execution_count": 6,
   "id": "0a270097-5bfa-44de-b594-5b2ea95949bb",
   "metadata": {},
   "outputs": [
    {
     "data": {
      "text/html": [
       "<div>\n",
       "<style scoped>\n",
       "    .dataframe tbody tr th:only-of-type {\n",
       "        vertical-align: middle;\n",
       "    }\n",
       "\n",
       "    .dataframe tbody tr th {\n",
       "        vertical-align: top;\n",
       "    }\n",
       "\n",
       "    .dataframe thead th {\n",
       "        text-align: right;\n",
       "    }\n",
       "</style>\n",
       "<table border=\"1\" class=\"dataframe\">\n",
       "  <thead>\n",
       "    <tr style=\"text-align: right;\">\n",
       "      <th></th>\n",
       "      <th>filename</th>\n",
       "      <th>harmless</th>\n",
       "      <th>malicious</th>\n",
       "      <th>suspicious</th>\n",
       "      <th>undetected</th>\n",
       "      <th>timeout</th>\n",
       "      <th>forcepoint</th>\n",
       "      <th>sophos</th>\n",
       "      <th>bitdefender</th>\n",
       "      <th>comodo</th>\n",
       "      <th>alphamnt</th>\n",
       "    </tr>\n",
       "  </thead>\n",
       "  <tbody>\n",
       "    <tr>\n",
       "      <th>0</th>\n",
       "      <td>taxfoundation.org</td>\n",
       "      <td>69</td>\n",
       "      <td>0</td>\n",
       "      <td>0</td>\n",
       "      <td>18</td>\n",
       "      <td>0</td>\n",
       "      <td>financial data and services</td>\n",
       "      <td>general business</td>\n",
       "      <td>financial</td>\n",
       "      <td>None</td>\n",
       "      <td>None</td>\n",
       "    </tr>\n",
       "    <tr>\n",
       "      <th>1</th>\n",
       "      <td>simfil.es</td>\n",
       "      <td>67</td>\n",
       "      <td>1</td>\n",
       "      <td>0</td>\n",
       "      <td>20</td>\n",
       "      <td>0</td>\n",
       "      <td>information technology</td>\n",
       "      <td>None</td>\n",
       "      <td>misc</td>\n",
       "      <td>None</td>\n",
       "      <td>File Sharing/Storage</td>\n",
       "    </tr>\n",
       "    <tr>\n",
       "      <th>2</th>\n",
       "      <td>freespincasinogo.com</td>\n",
       "      <td>65</td>\n",
       "      <td>0</td>\n",
       "      <td>0</td>\n",
       "      <td>22</td>\n",
       "      <td>0</td>\n",
       "      <td>None</td>\n",
       "      <td>None</td>\n",
       "      <td>gambling</td>\n",
       "      <td>media sharing</td>\n",
       "      <td>None</td>\n",
       "    </tr>\n",
       "    <tr>\n",
       "      <th>3</th>\n",
       "      <td>nascar.com</td>\n",
       "      <td>68</td>\n",
       "      <td>0</td>\n",
       "      <td>0</td>\n",
       "      <td>19</td>\n",
       "      <td>0</td>\n",
       "      <td>sports</td>\n",
       "      <td>sports</td>\n",
       "      <td>sports</td>\n",
       "      <td>unknown</td>\n",
       "      <td>Hobbies/Recreation, Sports</td>\n",
       "    </tr>\n",
       "    <tr>\n",
       "      <th>4</th>\n",
       "      <td>hugregregy.pro</td>\n",
       "      <td>65</td>\n",
       "      <td>1</td>\n",
       "      <td>0</td>\n",
       "      <td>21</td>\n",
       "      <td>0</td>\n",
       "      <td>None</td>\n",
       "      <td>None</td>\n",
       "      <td>None</td>\n",
       "      <td>media sharing</td>\n",
       "      <td>None</td>\n",
       "    </tr>\n",
       "  </tbody>\n",
       "</table>\n",
       "</div>"
      ],
      "text/plain": [
       "               filename  harmless  malicious  suspicious  undetected  timeout  \\\n",
       "0     taxfoundation.org        69          0           0          18        0   \n",
       "1             simfil.es        67          1           0          20        0   \n",
       "2  freespincasinogo.com        65          0           0          22        0   \n",
       "3            nascar.com        68          0           0          19        0   \n",
       "4        hugregregy.pro        65          1           0          21        0   \n",
       "\n",
       "                    forcepoint            sophos bitdefender         comodo  \\\n",
       "0  financial data and services  general business   financial           None   \n",
       "1       information technology              None        misc           None   \n",
       "2                         None              None    gambling  media sharing   \n",
       "3                       sports            sports      sports        unknown   \n",
       "4                         None              None        None  media sharing   \n",
       "\n",
       "                     alphamnt  \n",
       "0                        None  \n",
       "1        File Sharing/Storage  \n",
       "2                        None  \n",
       "3  Hobbies/Recreation, Sports  \n",
       "4                        None  "
      ]
     },
     "execution_count": 6,
     "metadata": {},
     "output_type": "execute_result"
    }
   ],
   "source": [
    "df.head()"
   ]
  },
  {
   "cell_type": "code",
   "execution_count": 7,
   "id": "68d9a0f9-8a55-4f4b-ae94-95ee41c673cb",
   "metadata": {},
   "outputs": [
    {
     "data": {
      "text/plain": [
       "7555"
      ]
     },
     "execution_count": 7,
     "metadata": {},
     "output_type": "execute_result"
    }
   ],
   "source": [
    "df['malicious'].sum()"
   ]
  },
  {
   "cell_type": "code",
   "execution_count": 8,
   "id": "20eab178-4a64-4423-8880-614a4c4cadf4",
   "metadata": {},
   "outputs": [
    {
     "data": {
      "text/plain": [
       "(63662, 11)"
      ]
     },
     "execution_count": 8,
     "metadata": {},
     "output_type": "execute_result"
    }
   ],
   "source": [
    "df.shape"
   ]
  },
  {
   "cell_type": "code",
   "execution_count": 9,
   "id": "bc12fa98-ec31-49d7-b730-ad6f01fb42ff",
   "metadata": {
    "tags": []
   },
   "outputs": [],
   "source": [
    "df.to_csv(\"yg_virustotal_dat.csv\", index = False)"
   ]
  },
  {
   "cell_type": "code",
   "execution_count": null,
   "id": "68fc42c5-9e2a-4ff2-a93b-500596b542a9",
   "metadata": {},
   "outputs": [],
   "source": []
  }
 ],
 "metadata": {
  "kernelspec": {
   "display_name": "Python 3 (ipykernel)",
   "language": "python",
   "name": "python3"
  },
  "language_info": {
   "codemirror_mode": {
    "name": "ipython",
    "version": 3
   },
   "file_extension": ".py",
   "mimetype": "text/x-python",
   "name": "python",
   "nbconvert_exporter": "python",
   "pygments_lexer": "ipython3",
   "version": "3.8.10"
  }
 },
 "nbformat": 4,
 "nbformat_minor": 5
}
