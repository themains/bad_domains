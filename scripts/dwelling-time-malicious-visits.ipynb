{
 "cells": [
  {
   "cell_type": "code",
   "execution_count": 1,
   "id": "1249021c",
   "metadata": {
    "ExecuteTime": {
     "end_time": "2024-11-11T11:50:14.344491Z",
     "start_time": "2024-11-11T11:50:13.513181Z"
    }
   },
   "outputs": [],
   "source": [
    "import pandas as pd\n",
    "import janitor\n",
    "from IPython.display import display\n",
    "\n",
    "import warnings\n",
    "\n",
    "warnings.filterwarnings(\"ignore\")\n",
    "\n",
    "import numpy as np\n",
    "from scipy.stats import percentileofscore\n",
    "\n",
    "import matplotlib.pyplot as plt\n",
    "import seaborn as sns\n",
    "\n",
    "sns.set_theme(context=\"notebook\", font_scale=1.35, style=\"whitegrid\", palette=\"dark\")\n",
    "\n",
    "from utilities import save_mpl_fig\n",
    "from matplotlib.lines import Line2D"
   ]
  },
  {
   "cell_type": "markdown",
   "id": "af6db73d",
   "metadata": {},
   "source": [
    "## Prep"
   ]
  },
  {
   "cell_type": "code",
   "execution_count": 2,
   "id": "cba9f9ed",
   "metadata": {
    "ExecuteTime": {
     "end_time": "2024-11-11T11:50:27.673618Z",
     "start_time": "2024-11-11T11:50:14.347689Z"
    },
    "code_folding": [],
    "scrolled": true
   },
   "outputs": [
    {
     "data": {
      "text/html": [
       "<div>\n",
       "<style scoped>\n",
       "    .dataframe tbody tr th:only-of-type {\n",
       "        vertical-align: middle;\n",
       "    }\n",
       "\n",
       "    .dataframe tbody tr th {\n",
       "        vertical-align: top;\n",
       "    }\n",
       "\n",
       "    .dataframe thead th {\n",
       "        text-align: right;\n",
       "    }\n",
       "</style>\n",
       "<table border=\"1\" class=\"dataframe\">\n",
       "  <thead>\n",
       "    <tr style=\"text-align: right;\">\n",
       "      <th></th>\n",
       "      <th>caseid</th>\n",
       "      <th>private_domain</th>\n",
       "      <th>category</th>\n",
       "      <th>visit_time_local</th>\n",
       "      <th>duration</th>\n",
       "      <th>duration_min</th>\n",
       "      <th>duration_hr</th>\n",
       "      <th>filename</th>\n",
       "      <th>harmless</th>\n",
       "      <th>malicious</th>\n",
       "      <th>...</th>\n",
       "      <th>educ</th>\n",
       "      <th>pid3</th>\n",
       "      <th>pid7</th>\n",
       "      <th>presvote20post</th>\n",
       "      <th>inputstate</th>\n",
       "      <th>region</th>\n",
       "      <th>gender_lab</th>\n",
       "      <th>race_lab</th>\n",
       "      <th>educ_lab</th>\n",
       "      <th>agegroup_lab</th>\n",
       "    </tr>\n",
       "  </thead>\n",
       "  <tbody>\n",
       "    <tr>\n",
       "      <th>0</th>\n",
       "      <td>205323077</td>\n",
       "      <td>google.com</td>\n",
       "      <td>Search Engines and Portals</td>\n",
       "      <td>2022-05-31 23:52:37</td>\n",
       "      <td>2</td>\n",
       "      <td>0.033333</td>\n",
       "      <td>0.000556</td>\n",
       "      <td>google.com</td>\n",
       "      <td>70.0</td>\n",
       "      <td>0.0</td>\n",
       "      <td>...</td>\n",
       "      <td>3</td>\n",
       "      <td>2</td>\n",
       "      <td>7</td>\n",
       "      <td>2</td>\n",
       "      <td>45</td>\n",
       "      <td>3</td>\n",
       "      <td>Male</td>\n",
       "      <td>White</td>\n",
       "      <td>Some college</td>\n",
       "      <td>50--65</td>\n",
       "    </tr>\n",
       "    <tr>\n",
       "      <th>1</th>\n",
       "      <td>205323077</td>\n",
       "      <td>coupons.com</td>\n",
       "      <td>Business, Shopping</td>\n",
       "      <td>2022-06-01 01:07:35</td>\n",
       "      <td>457</td>\n",
       "      <td>7.616667</td>\n",
       "      <td>0.126944</td>\n",
       "      <td>coupons.com</td>\n",
       "      <td>68.0</td>\n",
       "      <td>0.0</td>\n",
       "      <td>...</td>\n",
       "      <td>3</td>\n",
       "      <td>2</td>\n",
       "      <td>7</td>\n",
       "      <td>2</td>\n",
       "      <td>45</td>\n",
       "      <td>3</td>\n",
       "      <td>Male</td>\n",
       "      <td>White</td>\n",
       "      <td>Some college</td>\n",
       "      <td>50--65</td>\n",
       "    </tr>\n",
       "    <tr>\n",
       "      <th>2</th>\n",
       "      <td>205323077</td>\n",
       "      <td>google.com</td>\n",
       "      <td>Business</td>\n",
       "      <td>2022-06-01 01:15:12</td>\n",
       "      <td>55</td>\n",
       "      <td>0.916667</td>\n",
       "      <td>0.015278</td>\n",
       "      <td>google.com</td>\n",
       "      <td>70.0</td>\n",
       "      <td>0.0</td>\n",
       "      <td>...</td>\n",
       "      <td>3</td>\n",
       "      <td>2</td>\n",
       "      <td>7</td>\n",
       "      <td>2</td>\n",
       "      <td>45</td>\n",
       "      <td>3</td>\n",
       "      <td>Male</td>\n",
       "      <td>White</td>\n",
       "      <td>Some college</td>\n",
       "      <td>50--65</td>\n",
       "    </tr>\n",
       "    <tr>\n",
       "      <th>3</th>\n",
       "      <td>205323077</td>\n",
       "      <td>coupons.com</td>\n",
       "      <td>Business, Shopping</td>\n",
       "      <td>2022-06-01 01:16:07</td>\n",
       "      <td>2225</td>\n",
       "      <td>37.083333</td>\n",
       "      <td>0.618056</td>\n",
       "      <td>coupons.com</td>\n",
       "      <td>68.0</td>\n",
       "      <td>0.0</td>\n",
       "      <td>...</td>\n",
       "      <td>3</td>\n",
       "      <td>2</td>\n",
       "      <td>7</td>\n",
       "      <td>2</td>\n",
       "      <td>45</td>\n",
       "      <td>3</td>\n",
       "      <td>Male</td>\n",
       "      <td>White</td>\n",
       "      <td>Some college</td>\n",
       "      <td>50--65</td>\n",
       "    </tr>\n",
       "    <tr>\n",
       "      <th>4</th>\n",
       "      <td>205323077</td>\n",
       "      <td>google.com</td>\n",
       "      <td>Search Engines and Portals</td>\n",
       "      <td>2022-06-01 04:38:10</td>\n",
       "      <td>10</td>\n",
       "      <td>0.166667</td>\n",
       "      <td>0.002778</td>\n",
       "      <td>google.com</td>\n",
       "      <td>70.0</td>\n",
       "      <td>0.0</td>\n",
       "      <td>...</td>\n",
       "      <td>3</td>\n",
       "      <td>2</td>\n",
       "      <td>7</td>\n",
       "      <td>2</td>\n",
       "      <td>45</td>\n",
       "      <td>3</td>\n",
       "      <td>Male</td>\n",
       "      <td>White</td>\n",
       "      <td>Some college</td>\n",
       "      <td>50--65</td>\n",
       "    </tr>\n",
       "  </tbody>\n",
       "</table>\n",
       "<p>5 rows × 35 columns</p>\n",
       "</div>"
      ],
      "text/plain": [
       "      caseid private_domain                    category     visit_time_local  \\\n",
       "0  205323077     google.com  Search Engines and Portals  2022-05-31 23:52:37   \n",
       "1  205323077    coupons.com          Business, Shopping  2022-06-01 01:07:35   \n",
       "2  205323077     google.com                    Business  2022-06-01 01:15:12   \n",
       "3  205323077    coupons.com          Business, Shopping  2022-06-01 01:16:07   \n",
       "4  205323077     google.com  Search Engines and Portals  2022-06-01 04:38:10   \n",
       "\n",
       "   duration  duration_min  duration_hr     filename  harmless  malicious  ...  \\\n",
       "0         2      0.033333     0.000556   google.com      70.0        0.0  ...   \n",
       "1       457      7.616667     0.126944  coupons.com      68.0        0.0  ...   \n",
       "2        55      0.916667     0.015278   google.com      70.0        0.0  ...   \n",
       "3      2225     37.083333     0.618056  coupons.com      68.0        0.0  ...   \n",
       "4        10      0.166667     0.002778   google.com      70.0        0.0  ...   \n",
       "\n",
       "   educ  pid3  pid7 presvote20post inputstate region gender_lab race_lab  \\\n",
       "0     3     2     7              2         45      3       Male    White   \n",
       "1     3     2     7              2         45      3       Male    White   \n",
       "2     3     2     7              2         45      3       Male    White   \n",
       "3     3     2     7              2         45      3       Male    White   \n",
       "4     3     2     7              2         45      3       Male    White   \n",
       "\n",
       "       educ_lab  agegroup_lab  \n",
       "0  Some college        50--65  \n",
       "1  Some college        50--65  \n",
       "2  Some college        50--65  \n",
       "3  Some college        50--65  \n",
       "4  Some college        50--65  \n",
       "\n",
       "[5 rows x 35 columns]"
      ]
     },
     "metadata": {},
     "output_type": "display_data"
    },
    {
     "name": "stdout",
     "output_type": "stream",
     "text": [
      "<class 'pandas.core.frame.DataFrame'>\n",
      "Int64Index: 6297382 entries, 0 to 6297381\n",
      "Data columns (total 35 columns):\n",
      " #   Column            Dtype   \n",
      "---  ------            -----   \n",
      " 0   caseid            int64   \n",
      " 1   private_domain    object  \n",
      " 2   category          object  \n",
      " 3   visit_time_local  object  \n",
      " 4   duration          int64   \n",
      " 5   duration_min      float64 \n",
      " 6   duration_hr       float64 \n",
      " 7   filename          object  \n",
      " 8   harmless          float64 \n",
      " 9   malicious         float64 \n",
      " 10  suspicious        float64 \n",
      " 11  undetected        float64 \n",
      " 12  timeout           float64 \n",
      " 13  forcepoint        object  \n",
      " 14  sophos            object  \n",
      " 15  bitdefender       object  \n",
      " 16  comodo            object  \n",
      " 17  alphamnt          object  \n",
      " 18  malicious_bool    bool    \n",
      " 19  malicious_min     float64 \n",
      " 20  malicious_hr      float64 \n",
      " 21  suspicious_bool   bool    \n",
      " 22  birthyr           float64 \n",
      " 23  gender            int64   \n",
      " 24  race              int64   \n",
      " 25  educ              int64   \n",
      " 26  pid3              int64   \n",
      " 27  pid7              int64   \n",
      " 28  presvote20post    int64   \n",
      " 29  inputstate        int64   \n",
      " 30  region            int64   \n",
      " 31  gender_lab        object  \n",
      " 32  race_lab          object  \n",
      " 33  educ_lab          object  \n",
      " 34  agegroup_lab      category\n",
      "dtypes: bool(2), category(1), float64(10), int64(10), object(12)\n",
      "memory usage: 1.6+ GB\n"
     ]
    }
   ],
   "source": [
    "df = (\n",
    "    pd.read_csv(\"../data/6.3m-ind-domain-data.csv.gz\")\n",
    "    .rename_column(\"visit_duration\", \"duration\")\n",
    "    .assign(\n",
    "        duration_min=lambda df_: df_[\"duration\"] / 60,\n",
    "        duration_hr=lambda df_: df_[\"duration\"] / 3600,\n",
    "    )\n",
    "    # ==================================================\n",
    "    # Merge to VT\n",
    "    .merge(\n",
    "        (pd.read_csv(\"../data/yg_virustotal_dat.csv\")),\n",
    "        how=\"left\",\n",
    "        left_on=\"private_domain\",\n",
    "        right_on=\"filename\",\n",
    "        validate=\"m:1\",\n",
    "    )\n",
    "    .assign(\n",
    "        malicious_bool=lambda df_: np.where(df_[\"malicious\"] >= 2, True, False),\n",
    "        malicious_min=lambda df_: df_[\"malicious_bool\"] * df_[\"duration_min\"],\n",
    "        malicious_hr=lambda df_: df_[\"malicious_bool\"] * df_[\"duration_hr\"],\n",
    "        suspicious_bool=lambda df_: df_[\"suspicious\"].astype(\"bool\"),\n",
    "    )\n",
    "    # ==================================================\n",
    "    # Merge to ind demo (n = 1200)\n",
    "    .merge(\n",
    "        (\n",
    "            pd.read_csv(\"../data/profile.csv\").assign(\n",
    "                # https://github.com/themains/bad_domains/blob/main/data/codebook.pdf\n",
    "                gender_lab=lambda df_: df_[\"gender\"].replace({1: \"Male\", 2: \"Female\"}),\n",
    "                race_lab=lambda df_: df_[\"race\"].replace(\n",
    "                    {\n",
    "                        1: \"White\",\n",
    "                        2: \"Black\",\n",
    "                        3: \"Hispanic\",\n",
    "                        4: \"Asian\",\n",
    "                        5: \"Other\",\n",
    "                        6: \"Other\",\n",
    "                        7: \"Other\",\n",
    "                        8: \"Other\",\n",
    "                    }\n",
    "                ),\n",
    "                educ_lab=lambda df_: df_[\"educ\"].replace(\n",
    "                    {\n",
    "                        1: \"HS or Below\",\n",
    "                        2: \"HS or Below\",\n",
    "                        3: \"Some college\",\n",
    "                        4: \"Some college\",\n",
    "                        5: \"College\",\n",
    "                        6: \"Postgrad\",\n",
    "                    }\n",
    "                ),\n",
    "                agegroup_lab=lambda df_: pd.cut(\n",
    "                    df_[\"birthyr\"],\n",
    "                    bins=[1930, 1957, 1972, 1997, 2022],\n",
    "                    labels=[\"65+\", \"50--65\", \"25--50\", \"<25\"],\n",
    "                ),\n",
    "            )\n",
    "        ),\n",
    "        how=\"left\",\n",
    "        on=\"caseid\",\n",
    "        validate=\"m:1\",\n",
    "    )\n",
    ")\n",
    "display(df.head())\n",
    "df.info()"
   ]
  },
  {
   "cell_type": "code",
   "execution_count": 3,
   "id": "acaad1a2",
   "metadata": {
    "ExecuteTime": {
     "end_time": "2024-11-11T11:50:29.515340Z",
     "start_time": "2024-11-11T11:50:27.675462Z"
    }
   },
   "outputs": [
    {
     "data": {
      "text/html": [
       "<div>\n",
       "<style scoped>\n",
       "    .dataframe tbody tr th:only-of-type {\n",
       "        vertical-align: middle;\n",
       "    }\n",
       "\n",
       "    .dataframe tbody tr th {\n",
       "        vertical-align: top;\n",
       "    }\n",
       "\n",
       "    .dataframe thead th {\n",
       "        text-align: right;\n",
       "    }\n",
       "</style>\n",
       "<table border=\"1\" class=\"dataframe\">\n",
       "  <thead>\n",
       "    <tr style=\"text-align: right;\">\n",
       "      <th></th>\n",
       "      <th>caseid</th>\n",
       "      <th>private_domain</th>\n",
       "      <th>category</th>\n",
       "      <th>visit_time_local</th>\n",
       "      <th>duration</th>\n",
       "      <th>duration_min</th>\n",
       "      <th>duration_hr</th>\n",
       "      <th>filename</th>\n",
       "      <th>harmless</th>\n",
       "      <th>malicious</th>\n",
       "      <th>...</th>\n",
       "      <th>educ</th>\n",
       "      <th>pid3</th>\n",
       "      <th>pid7</th>\n",
       "      <th>presvote20post</th>\n",
       "      <th>inputstate</th>\n",
       "      <th>region</th>\n",
       "      <th>gender_lab</th>\n",
       "      <th>race_lab</th>\n",
       "      <th>educ_lab</th>\n",
       "      <th>agegroup_lab</th>\n",
       "    </tr>\n",
       "  </thead>\n",
       "  <tbody>\n",
       "    <tr>\n",
       "      <th>0</th>\n",
       "      <td>205323077</td>\n",
       "      <td>promogiveawayus.com</td>\n",
       "      <td>NaN</td>\n",
       "      <td>2022-06-15 02:28:02</td>\n",
       "      <td>46</td>\n",
       "      <td>0.766667</td>\n",
       "      <td>0.012778</td>\n",
       "      <td>promogiveawayus.com</td>\n",
       "      <td>57.0</td>\n",
       "      <td>10.0</td>\n",
       "      <td>...</td>\n",
       "      <td>3</td>\n",
       "      <td>2</td>\n",
       "      <td>7</td>\n",
       "      <td>2</td>\n",
       "      <td>45</td>\n",
       "      <td>3</td>\n",
       "      <td>Male</td>\n",
       "      <td>White</td>\n",
       "      <td>Some college</td>\n",
       "      <td>50--65</td>\n",
       "    </tr>\n",
       "    <tr>\n",
       "      <th>1</th>\n",
       "      <td>205323077</td>\n",
       "      <td>xanderpath.com</td>\n",
       "      <td>Parked</td>\n",
       "      <td>2022-06-15 14:39:30</td>\n",
       "      <td>3</td>\n",
       "      <td>0.050000</td>\n",
       "      <td>0.000833</td>\n",
       "      <td>xanderpath.com</td>\n",
       "      <td>64.0</td>\n",
       "      <td>2.0</td>\n",
       "      <td>...</td>\n",
       "      <td>3</td>\n",
       "      <td>2</td>\n",
       "      <td>7</td>\n",
       "      <td>2</td>\n",
       "      <td>45</td>\n",
       "      <td>3</td>\n",
       "      <td>Male</td>\n",
       "      <td>White</td>\n",
       "      <td>Some college</td>\n",
       "      <td>50--65</td>\n",
       "    </tr>\n",
       "    <tr>\n",
       "      <th>2</th>\n",
       "      <td>205323077</td>\n",
       "      <td>only-goodthings.com</td>\n",
       "      <td>Parked</td>\n",
       "      <td>2022-06-15 14:48:21</td>\n",
       "      <td>34</td>\n",
       "      <td>0.566667</td>\n",
       "      <td>0.009444</td>\n",
       "      <td>only-goodthings.com</td>\n",
       "      <td>60.0</td>\n",
       "      <td>6.0</td>\n",
       "      <td>...</td>\n",
       "      <td>3</td>\n",
       "      <td>2</td>\n",
       "      <td>7</td>\n",
       "      <td>2</td>\n",
       "      <td>45</td>\n",
       "      <td>3</td>\n",
       "      <td>Male</td>\n",
       "      <td>White</td>\n",
       "      <td>Some college</td>\n",
       "      <td>50--65</td>\n",
       "    </tr>\n",
       "  </tbody>\n",
       "</table>\n",
       "<p>3 rows × 35 columns</p>\n",
       "</div>"
      ],
      "text/plain": [
       "      caseid       private_domain category     visit_time_local  duration  \\\n",
       "0  205323077  promogiveawayus.com      NaN  2022-06-15 02:28:02        46   \n",
       "1  205323077       xanderpath.com   Parked  2022-06-15 14:39:30         3   \n",
       "2  205323077  only-goodthings.com   Parked  2022-06-15 14:48:21        34   \n",
       "\n",
       "   duration_min  duration_hr             filename  harmless  malicious  ...  \\\n",
       "0      0.766667     0.012778  promogiveawayus.com      57.0       10.0  ...   \n",
       "1      0.050000     0.000833       xanderpath.com      64.0        2.0  ...   \n",
       "2      0.566667     0.009444  only-goodthings.com      60.0        6.0  ...   \n",
       "\n",
       "   educ  pid3  pid7 presvote20post inputstate region gender_lab race_lab  \\\n",
       "0     3     2     7              2         45      3       Male    White   \n",
       "1     3     2     7              2         45      3       Male    White   \n",
       "2     3     2     7              2         45      3       Male    White   \n",
       "\n",
       "       educ_lab  agegroup_lab  \n",
       "0  Some college        50--65  \n",
       "1  Some college        50--65  \n",
       "2  Some college        50--65  \n",
       "\n",
       "[3 rows x 35 columns]"
      ]
     },
     "metadata": {},
     "output_type": "display_data"
    },
    {
     "name": "stdout",
     "output_type": "stream",
     "text": [
      "<class 'pandas.core.frame.DataFrame'>\n",
      "RangeIndex: 23677 entries, 0 to 23676\n",
      "Data columns (total 35 columns):\n",
      " #   Column            Non-Null Count  Dtype   \n",
      "---  ------            --------------  -----   \n",
      " 0   caseid            23677 non-null  int64   \n",
      " 1   private_domain    23677 non-null  object  \n",
      " 2   category          10846 non-null  object  \n",
      " 3   visit_time_local  23677 non-null  object  \n",
      " 4   duration          23677 non-null  int64   \n",
      " 5   duration_min      23677 non-null  float64 \n",
      " 6   duration_hr       23677 non-null  float64 \n",
      " 7   filename          23677 non-null  object  \n",
      " 8   harmless          23677 non-null  float64 \n",
      " 9   malicious         23677 non-null  float64 \n",
      " 10  suspicious        23677 non-null  float64 \n",
      " 11  undetected        23677 non-null  float64 \n",
      " 12  timeout           23677 non-null  float64 \n",
      " 13  forcepoint        19733 non-null  object  \n",
      " 14  sophos            16694 non-null  object  \n",
      " 15  bitdefender       14478 non-null  object  \n",
      " 16  comodo            545 non-null    object  \n",
      " 17  alphamnt          18256 non-null  object  \n",
      " 18  malicious_bool    23677 non-null  bool    \n",
      " 19  malicious_min     23677 non-null  float64 \n",
      " 20  malicious_hr      23677 non-null  float64 \n",
      " 21  suspicious_bool   23677 non-null  bool    \n",
      " 22  birthyr           23677 non-null  float64 \n",
      " 23  gender            23677 non-null  int64   \n",
      " 24  race              23677 non-null  int64   \n",
      " 25  educ              23677 non-null  int64   \n",
      " 26  pid3              23677 non-null  int64   \n",
      " 27  pid7              23677 non-null  int64   \n",
      " 28  presvote20post    23677 non-null  int64   \n",
      " 29  inputstate        23677 non-null  int64   \n",
      " 30  region            23677 non-null  int64   \n",
      " 31  gender_lab        23677 non-null  object  \n",
      " 32  race_lab          23677 non-null  object  \n",
      " 33  educ_lab          23677 non-null  object  \n",
      " 34  agegroup_lab      23677 non-null  category\n",
      "dtypes: bool(2), category(1), float64(10), int64(10), object(12)\n",
      "memory usage: 5.8+ MB\n"
     ]
    }
   ],
   "source": [
    "df_mal_visits = df.query(\"malicious_bool==1\").reset_index(drop=True)\n",
    "assert (df_mal_visits[\"duration_min\"] == df_mal_visits[\"malicious_min\"]).all()\n",
    "display(df_mal_visits.head(3))\n",
    "df_mal_visits.info()"
   ]
  },
  {
   "cell_type": "code",
   "execution_count": 4,
   "id": "096eaac4",
   "metadata": {
    "ExecuteTime": {
     "end_time": "2024-11-11T11:50:32.008424Z",
     "start_time": "2024-11-11T11:50:29.519633Z"
    }
   },
   "outputs": [
    {
     "data": {
      "text/html": [
       "<div>\n",
       "<style scoped>\n",
       "    .dataframe tbody tr th:only-of-type {\n",
       "        vertical-align: middle;\n",
       "    }\n",
       "\n",
       "    .dataframe tbody tr th {\n",
       "        vertical-align: top;\n",
       "    }\n",
       "\n",
       "    .dataframe thead th {\n",
       "        text-align: right;\n",
       "    }\n",
       "</style>\n",
       "<table border=\"1\" class=\"dataframe\">\n",
       "  <thead>\n",
       "    <tr style=\"text-align: right;\">\n",
       "      <th></th>\n",
       "      <th>caseid</th>\n",
       "      <th>private_domain</th>\n",
       "      <th>category</th>\n",
       "      <th>visit_time_local</th>\n",
       "      <th>duration</th>\n",
       "      <th>duration_min</th>\n",
       "      <th>duration_hr</th>\n",
       "      <th>filename</th>\n",
       "      <th>harmless</th>\n",
       "      <th>malicious</th>\n",
       "      <th>...</th>\n",
       "      <th>educ</th>\n",
       "      <th>pid3</th>\n",
       "      <th>pid7</th>\n",
       "      <th>presvote20post</th>\n",
       "      <th>inputstate</th>\n",
       "      <th>region</th>\n",
       "      <th>gender_lab</th>\n",
       "      <th>race_lab</th>\n",
       "      <th>educ_lab</th>\n",
       "      <th>agegroup_lab</th>\n",
       "    </tr>\n",
       "  </thead>\n",
       "  <tbody>\n",
       "    <tr>\n",
       "      <th>0</th>\n",
       "      <td>205323077</td>\n",
       "      <td>google.com</td>\n",
       "      <td>Search Engines and Portals</td>\n",
       "      <td>2022-05-31 23:52:37</td>\n",
       "      <td>2</td>\n",
       "      <td>0.033333</td>\n",
       "      <td>0.000556</td>\n",
       "      <td>google.com</td>\n",
       "      <td>70.0</td>\n",
       "      <td>0.0</td>\n",
       "      <td>...</td>\n",
       "      <td>3</td>\n",
       "      <td>2</td>\n",
       "      <td>7</td>\n",
       "      <td>2</td>\n",
       "      <td>45</td>\n",
       "      <td>3</td>\n",
       "      <td>Male</td>\n",
       "      <td>White</td>\n",
       "      <td>Some college</td>\n",
       "      <td>50--65</td>\n",
       "    </tr>\n",
       "    <tr>\n",
       "      <th>1</th>\n",
       "      <td>205323077</td>\n",
       "      <td>coupons.com</td>\n",
       "      <td>Business, Shopping</td>\n",
       "      <td>2022-06-01 01:07:35</td>\n",
       "      <td>457</td>\n",
       "      <td>7.616667</td>\n",
       "      <td>0.126944</td>\n",
       "      <td>coupons.com</td>\n",
       "      <td>68.0</td>\n",
       "      <td>0.0</td>\n",
       "      <td>...</td>\n",
       "      <td>3</td>\n",
       "      <td>2</td>\n",
       "      <td>7</td>\n",
       "      <td>2</td>\n",
       "      <td>45</td>\n",
       "      <td>3</td>\n",
       "      <td>Male</td>\n",
       "      <td>White</td>\n",
       "      <td>Some college</td>\n",
       "      <td>50--65</td>\n",
       "    </tr>\n",
       "    <tr>\n",
       "      <th>2</th>\n",
       "      <td>205323077</td>\n",
       "      <td>google.com</td>\n",
       "      <td>Business</td>\n",
       "      <td>2022-06-01 01:15:12</td>\n",
       "      <td>55</td>\n",
       "      <td>0.916667</td>\n",
       "      <td>0.015278</td>\n",
       "      <td>google.com</td>\n",
       "      <td>70.0</td>\n",
       "      <td>0.0</td>\n",
       "      <td>...</td>\n",
       "      <td>3</td>\n",
       "      <td>2</td>\n",
       "      <td>7</td>\n",
       "      <td>2</td>\n",
       "      <td>45</td>\n",
       "      <td>3</td>\n",
       "      <td>Male</td>\n",
       "      <td>White</td>\n",
       "      <td>Some college</td>\n",
       "      <td>50--65</td>\n",
       "    </tr>\n",
       "  </tbody>\n",
       "</table>\n",
       "<p>3 rows × 35 columns</p>\n",
       "</div>"
      ],
      "text/plain": [
       "      caseid private_domain                    category     visit_time_local  \\\n",
       "0  205323077     google.com  Search Engines and Portals  2022-05-31 23:52:37   \n",
       "1  205323077    coupons.com          Business, Shopping  2022-06-01 01:07:35   \n",
       "2  205323077     google.com                    Business  2022-06-01 01:15:12   \n",
       "\n",
       "   duration  duration_min  duration_hr     filename  harmless  malicious  ...  \\\n",
       "0         2      0.033333     0.000556   google.com      70.0        0.0  ...   \n",
       "1       457      7.616667     0.126944  coupons.com      68.0        0.0  ...   \n",
       "2        55      0.916667     0.015278   google.com      70.0        0.0  ...   \n",
       "\n",
       "   educ  pid3  pid7 presvote20post inputstate region gender_lab race_lab  \\\n",
       "0     3     2     7              2         45      3       Male    White   \n",
       "1     3     2     7              2         45      3       Male    White   \n",
       "2     3     2     7              2         45      3       Male    White   \n",
       "\n",
       "       educ_lab  agegroup_lab  \n",
       "0  Some college        50--65  \n",
       "1  Some college        50--65  \n",
       "2  Some college        50--65  \n",
       "\n",
       "[3 rows x 35 columns]"
      ]
     },
     "metadata": {},
     "output_type": "display_data"
    },
    {
     "name": "stdout",
     "output_type": "stream",
     "text": [
      "<class 'pandas.core.frame.DataFrame'>\n",
      "RangeIndex: 6002879 entries, 0 to 6002878\n",
      "Data columns (total 35 columns):\n",
      " #   Column            Dtype   \n",
      "---  ------            -----   \n",
      " 0   caseid            int64   \n",
      " 1   private_domain    object  \n",
      " 2   category          object  \n",
      " 3   visit_time_local  object  \n",
      " 4   duration          int64   \n",
      " 5   duration_min      float64 \n",
      " 6   duration_hr       float64 \n",
      " 7   filename          object  \n",
      " 8   harmless          float64 \n",
      " 9   malicious         float64 \n",
      " 10  suspicious        float64 \n",
      " 11  undetected        float64 \n",
      " 12  timeout           float64 \n",
      " 13  forcepoint        object  \n",
      " 14  sophos            object  \n",
      " 15  bitdefender       object  \n",
      " 16  comodo            object  \n",
      " 17  alphamnt          object  \n",
      " 18  malicious_bool    bool    \n",
      " 19  malicious_min     float64 \n",
      " 20  malicious_hr      float64 \n",
      " 21  suspicious_bool   bool    \n",
      " 22  birthyr           float64 \n",
      " 23  gender            int64   \n",
      " 24  race              int64   \n",
      " 25  educ              int64   \n",
      " 26  pid3              int64   \n",
      " 27  pid7              int64   \n",
      " 28  presvote20post    int64   \n",
      " 29  inputstate        int64   \n",
      " 30  region            int64   \n",
      " 31  gender_lab        object  \n",
      " 32  race_lab          object  \n",
      " 33  educ_lab          object  \n",
      " 34  agegroup_lab      category\n",
      "dtypes: bool(2), category(1), float64(10), int64(10), object(12)\n",
      "memory usage: 1.4+ GB\n"
     ]
    }
   ],
   "source": [
    "df_nonmal_visits = (\n",
    "    df\n",
    "    .query(\"malicious==0\")\n",
    "    .query(\"suspicious==0\")\n",
    "    .reset_index(drop=True)\n",
    ")\n",
    "display(df_nonmal_visits.head(3))\n",
    "df_nonmal_visits.info()"
   ]
  },
  {
   "cell_type": "markdown",
   "id": "de1572e1",
   "metadata": {},
   "source": [
    "## Malicious"
   ]
  },
  {
   "cell_type": "markdown",
   "id": "6edb2705",
   "metadata": {},
   "source": [
    "### Summarize"
   ]
  },
  {
   "cell_type": "code",
   "execution_count": 5,
   "id": "302160ee",
   "metadata": {
    "ExecuteTime": {
     "end_time": "2024-11-11T11:50:32.016095Z",
     "start_time": "2024-11-11T11:50:32.010287Z"
    }
   },
   "outputs": [
    {
     "data": {
      "text/plain": [
       "0.37598163808388946"
      ]
     },
     "execution_count": 5,
     "metadata": {},
     "output_type": "execute_result"
    }
   ],
   "source": [
    "100 * (len(df_mal_visits) / len(df))"
   ]
  },
  {
   "cell_type": "code",
   "execution_count": 6,
   "id": "d550428c",
   "metadata": {
    "ExecuteTime": {
     "end_time": "2024-11-11T11:50:32.046044Z",
     "start_time": "2024-11-11T11:50:32.018676Z"
    },
    "scrolled": true
   },
   "outputs": [
    {
     "data": {
      "text/html": [
       "<div>\n",
       "<style scoped>\n",
       "    .dataframe tbody tr th:only-of-type {\n",
       "        vertical-align: middle;\n",
       "    }\n",
       "\n",
       "    .dataframe tbody tr th {\n",
       "        vertical-align: top;\n",
       "    }\n",
       "\n",
       "    .dataframe thead th {\n",
       "        text-align: right;\n",
       "    }\n",
       "</style>\n",
       "<table border=\"1\" class=\"dataframe\">\n",
       "  <thead>\n",
       "    <tr style=\"text-align: right;\">\n",
       "      <th></th>\n",
       "      <th>var</th>\n",
       "      <th>mean</th>\n",
       "      <th>std</th>\n",
       "      <th>min</th>\n",
       "      <th>5%</th>\n",
       "      <th>10%</th>\n",
       "      <th>25%</th>\n",
       "      <th>50%</th>\n",
       "      <th>75%</th>\n",
       "      <th>90%</th>\n",
       "      <th>95%</th>\n",
       "      <th>99%</th>\n",
       "      <th>max</th>\n",
       "    </tr>\n",
       "  </thead>\n",
       "  <tbody>\n",
       "    <tr>\n",
       "      <th>0</th>\n",
       "      <td>duration</td>\n",
       "      <td>39</td>\n",
       "      <td>339</td>\n",
       "      <td>0</td>\n",
       "      <td>0</td>\n",
       "      <td>1</td>\n",
       "      <td>1</td>\n",
       "      <td>4</td>\n",
       "      <td>17</td>\n",
       "      <td>51</td>\n",
       "      <td>109</td>\n",
       "      <td>439</td>\n",
       "      <td>21,601</td>\n",
       "    </tr>\n",
       "  </tbody>\n",
       "</table>\n",
       "</div>"
      ],
      "text/plain": [
       "        var mean  std min 5% 10% 25% 50% 75% 90%  95%  99%     max\n",
       "0  duration   39  339   0  0   1   1   4  17  51  109  439  21,601"
      ]
     },
     "execution_count": 6,
     "metadata": {},
     "output_type": "execute_result"
    }
   ],
   "source": [
    "percentiles = [5, 10, 25, 50, 75, 90, 95, 99]\n",
    "df_summ = (\n",
    "    df_mal_visits[[\"duration\"]]\n",
    "    .describe(percentiles=[p / 100 for p in percentiles])\n",
    "    .astype(int)\n",
    "    .T.drop(columns=\"count\")\n",
    "    .applymap(lambda x: f\"{x:,}\")\n",
    "    .reset_index(names=\"var\")\n",
    "    #     .assign(\n",
    "    #         var=lambda df: df[\"var\"].replace(\n",
    "    #             {\n",
    "    #                 \"malicious_bool\": \"\\\\# unique malicious sites\",\n",
    "    #                 \"malicious_visits\": \"\\\\# visits to malicious sites\",\n",
    "    #                 \"malicious_min\": \"\\\\# minutes spent on malicious sites\",\n",
    "    #                 \"suspicious_bool\": \"\\# unique suspicious sites\",\n",
    "    #             }\n",
    "    #         )\n",
    "    #     )\n",
    ")\n",
    "df_summ"
   ]
  },
  {
   "cell_type": "code",
   "execution_count": 7,
   "id": "3374f43b",
   "metadata": {
    "ExecuteTime": {
     "end_time": "2024-11-11T11:50:32.053901Z",
     "start_time": "2024-11-11T11:50:32.048425Z"
    },
    "scrolled": true
   },
   "outputs": [
    {
     "data": {
      "text/plain": [
       "29.784178738860497"
      ]
     },
     "execution_count": 7,
     "metadata": {},
     "output_type": "execute_result"
    }
   ],
   "source": [
    "# 1 second is the 17th percentile\n",
    "# `weak' This kind corresponds to the definition of a cumulative distribution function.\n",
    "# A percentileofscore of 80% means that 80%of values are less than or equal to the provided score.\n",
    "percentileofscore(df_mal_visits[\"duration\"], 1, kind=\"weak\")"
   ]
  },
  {
   "cell_type": "code",
   "execution_count": 8,
   "id": "de43a586",
   "metadata": {
    "ExecuteTime": {
     "end_time": "2024-11-11T11:50:32.066080Z",
     "start_time": "2024-11-11T11:50:32.056405Z"
    }
   },
   "outputs": [
    {
     "data": {
      "text/plain": [
       "7052"
      ]
     },
     "execution_count": 8,
     "metadata": {},
     "output_type": "execute_result"
    }
   ],
   "source": [
    "# 7000 visits are 1 second or less\n",
    "len(df_mal_visits.query(\"duration<=1\"))"
   ]
  },
  {
   "cell_type": "code",
   "execution_count": 9,
   "id": "cb834f6a",
   "metadata": {
    "ExecuteTime": {
     "end_time": "2024-11-11T11:50:32.107088Z",
     "start_time": "2024-11-11T11:50:32.068599Z"
    }
   },
   "outputs": [
    {
     "name": "stdout",
     "output_type": "stream",
     "text": [
      "29.78% of visits are 1 seconds or less\n",
      "39.49% of visits are 2 seconds or less\n",
      "45.51% of visits are 3 seconds or less\n",
      "50.25% of visits are 4 seconds or less\n",
      "54.30% of visits are 5 seconds or less\n",
      "57.52% of visits are 6 seconds or less\n",
      "60.32% of visits are 7 seconds or less\n",
      "62.81% of visits are 8 seconds or less\n",
      "65.03% of visits are 9 seconds or less\n"
     ]
    },
    {
     "data": {
      "text/plain": [
       "{1: 29.784178738860497,\n",
       " 2: 39.48557672002365,\n",
       " 3: 45.51252270135575,\n",
       " 4: 50.25129872872408,\n",
       " 5: 54.29741943658403,\n",
       " 6: 57.519956075516326,\n",
       " 7: 60.32436541791612,\n",
       " 8: 62.80778814883642,\n",
       " 9: 65.0293533809182}"
      ]
     },
     "execution_count": 9,
     "metadata": {},
     "output_type": "execute_result"
    }
   ],
   "source": [
    "# How many % are x seconds or less\n",
    "thresholds = range(1, 10)  # Adjust this range as needed\n",
    "\n",
    "# Calculate and store results in a dictionary\n",
    "cumulative_percentages = {}\n",
    "for t in thresholds:\n",
    "    percentage = 100 * len(df_mal_visits.query(f\"duration <= {t}\")) / len(df_mal_visits)\n",
    "    cumulative_percentages[t] = percentage\n",
    "    print(f\"{percentage:.2f}% of visits are {t} seconds or less\")\n",
    "\n",
    "cumulative_percentages"
   ]
  },
  {
   "cell_type": "markdown",
   "id": "0f528452",
   "metadata": {},
   "source": [
    "### Plot"
   ]
  },
  {
   "cell_type": "code",
   "execution_count": 10,
   "id": "77ac0cdc",
   "metadata": {
    "ExecuteTime": {
     "end_time": "2024-11-11T11:50:33.080985Z",
     "start_time": "2024-11-11T11:50:32.109888Z"
    },
    "code_folding": [
     0
    ]
   },
   "outputs": [
    {
     "data": {
      "image/png": "[encoded data removed]",
      "text/plain": [
       "<Figure size 691.2x518.4 with 1 Axes>"
      ]
     },
     "metadata": {
      "needs_background": "light"
     },
     "output_type": "display_data"
    }
   ],
   "source": [
    "# plot\n",
    "_scale = 0.8\n",
    "_aspect_ratio = (12, 9)\n",
    "figsize = tuple(k * _scale for k in _aspect_ratio)\n",
    "_, ax = plt.subplots(figsize=figsize)\n",
    "\n",
    "sns.histplot(\n",
    "    df_mal_visits.query(\"duration < 100\")[\"duration\"],\n",
    "    color=\".5\",\n",
    "    stat=\"density\",\n",
    "    alpha=0.7,\n",
    "    discrete=True,\n",
    "    ax=ax,\n",
    ")\n",
    "\n",
    "plt.xlabel(\"Dwelling time (seconds) on malicious websites\", fontsize=16)\n",
    "plt.ylabel(\"Density\", fontsize=16)\n",
    "plt.xticks(np.arange(0, 100, 15))\n",
    "plt.yticks([])\n",
    "plt.grid(True, linestyle=\"--\", alpha=0.2)\n",
    "plt.tight_layout()\n",
    "\n",
    "save_mpl_fig(\"../figs/dwelling-time-malicious-visits\")\n",
    "\n",
    "# ====================================================================\n",
    "# Annotate\n",
    "# Annotate 1 second\n",
    "_secs = 1\n",
    "_x = 100 * len(df_mal_visits.query(f\"duration<={_secs}\")) / len(df_mal_visits)\n",
    "ax.axvline(_secs + 0.5, color=\"#032f30\", linestyle=\"--\", linewidth=1.2)\n",
    "ax.text(\n",
    "    _secs + 1.5,  # x position\n",
    "    ax.get_ylim()[1] * 0.9,  # Y position, slightly below the top\n",
    "    f\"{_x:.1f}% $\\\\leq$ {_secs} second dwelling time\",\n",
    "    color=\".2\",\n",
    "    fontsize=12,\n",
    "    ha=\"left\",  # Align text to the right of the line\n",
    ")\n",
    "# Annotate 5 seconds\n",
    "_secs = 5\n",
    "_x = 100 * len(df_mal_visits.query(f\"duration<={_secs}\")) / len(df_mal_visits)\n",
    "ax.axvline(_secs + 0.5, color=\"#032f30\", linestyle=\"--\", linewidth=1.2)\n",
    "ax.text(\n",
    "    _secs + 1.5,  # x position\n",
    "    ax.get_ylim()[1] * 0.8,  # Y position, slightly below the top\n",
    "    f\"{_x:.1f}% $\\\\leq$ {_secs} second dwelling time\",\n",
    "    color=\".2\",\n",
    "    fontsize=12,\n",
    "    ha=\"left\",  # Align text to the right of the line\n",
    ")\n",
    "\n",
    "# Annotate 30 seconds\n",
    "_secs = 30\n",
    "_x = 100 * len(df_mal_visits.query(f\"duration<={_secs}\")) / len(df_mal_visits)\n",
    "ax.axvline(_secs + 0.5, color=\"#032f30\", linestyle=\"--\", linewidth=1.2)\n",
    "ax.text(\n",
    "    _secs + 1.5,  # x position\n",
    "    ax.get_ylim()[1] * 0.7,  # Y position, slightly below the top\n",
    "    f\"{_x:.1f}% $\\\\leq$ {_secs} second dwelling time\",\n",
    "    color=\".2\",\n",
    "    fontsize=12,\n",
    "    ha=\"left\",  # Align text to the right of the line\n",
    ")\n",
    "\n",
    "save_mpl_fig(\"../figs/dwelling-time-malicious-visits-annotated\")"
   ]
  },
  {
   "cell_type": "code",
   "execution_count": 11,
   "id": "73795fe0",
   "metadata": {
    "ExecuteTime": {
     "end_time": "2024-11-11T11:50:33.875092Z",
     "start_time": "2024-11-11T11:50:33.083183Z"
    },
    "code_folding": [
     0
    ]
   },
   "outputs": [
    {
     "data": {
      "image/png": "[encoded data removed]",
      "text/plain": [
       "<Figure size 691.2x518.4 with 1 Axes>"
      ]
     },
     "metadata": {
      "needs_background": "light"
     },
     "output_type": "display_data"
    }
   ],
   "source": [
    "# Plot\n",
    "_scale = 0.8\n",
    "_aspect_ratio = (12, 9)\n",
    "figsize = tuple(k * _scale for k in _aspect_ratio)\n",
    "_, ax = plt.subplots(figsize=figsize)\n",
    "\n",
    "# Plot the CDF using Seaborn's ecdfplot\n",
    "sns.ecdfplot(data=df_mal_visits, x=\"duration\", color=\".3\", ax=ax)\n",
    "ax.set_xlim(-3, 101)\n",
    "\n",
    "plt.xlabel(\"Dwelling time (seconds) on malicious websites\", fontsize=16)\n",
    "plt.ylabel(\"Cumulative Probability\", fontsize=16)\n",
    "plt.xticks(np.arange(0, 100, 15))\n",
    "plt.grid(True, linestyle=\"--\", alpha=0.2)\n",
    "plt.tight_layout()\n",
    "\n",
    "# legend\n",
    "custom_legend = [\n",
    "    Line2D([0], [0], color=\".3\", lw=2, label=\"CDF\"),\n",
    "]\n",
    "\n",
    "ax.legend(\n",
    "    handles=custom_legend, loc=\"lower right\", fontsize=16, frameon=True, fancybox=False\n",
    ")\n",
    "\n",
    "save_mpl_fig(\"../figs/dwelling-time-malicious-visits-CDF\")\n",
    "\n",
    "# ====================================================\n",
    "# Annotate\n",
    "# Find the duration at 50% cumulative probability\n",
    "_cum_p = 50\n",
    "_duration_cum_p = np.percentile(df_mal_visits[\"duration\"], _cum_p)\n",
    "\n",
    "ax.axvline(_duration_cum_p, color=\"#032f30\", linestyle=\"--\", alpha=0.8, linewidth=1.5)\n",
    "ax.text(\n",
    "    _duration_cum_p + 1.5,\n",
    "    _cum_p / 100,  # Y position at 50% cumulative probability\n",
    "    f\"{_cum_p}p: {int(_duration_cum_p)} seconds\",  # Format as integer\n",
    "    color=\".2\",\n",
    "    fontsize=12,\n",
    "    ha=\"left\",\n",
    ")\n",
    "\n",
    "# Find the duration at 80% cumulative probability\n",
    "_cum_p = 80\n",
    "_duration_cum_p = np.percentile(df_mal_visits[\"duration\"], _cum_p)\n",
    "\n",
    "ax.axvline(_duration_cum_p, color=\"#032f30\", linestyle=\"--\", alpha=0.8, linewidth=1.5)\n",
    "ax.text(\n",
    "    _duration_cum_p + 0.5,\n",
    "    _cum_p / 100,  # Y position at 50% cumulative probability\n",
    "    f\"{_cum_p}p: {int(_duration_cum_p)} seconds\",  # Format as integer\n",
    "    color=\".2\",\n",
    "    fontsize=12,\n",
    "    ha=\"left\",\n",
    "    va=\"top\",\n",
    ")\n",
    "\n",
    "# Find the duration at 90% cumulative probability\n",
    "_cum_p = 90\n",
    "_duration_cum_p = np.percentile(df_mal_visits[\"duration\"], _cum_p)\n",
    "\n",
    "ax.axvline(_duration_cum_p, color=\"#032f30\", linestyle=\"--\", alpha=0.8, linewidth=1.5)\n",
    "ax.text(\n",
    "    _duration_cum_p + 0.5,\n",
    "    _cum_p / 100,  # Y position at 50% cumulative probability\n",
    "    f\"{_cum_p}p: {int(_duration_cum_p)} seconds\",  # Format as integer\n",
    "    color=\".2\",\n",
    "    fontsize=12,\n",
    "    ha=\"left\",\n",
    "    va=\"top\",\n",
    ")\n",
    "\n",
    "save_mpl_fig(\"../figs/dwelling-time-malicious-visits-CDF-annotated\")"
   ]
  },
  {
   "cell_type": "markdown",
   "id": "01bb48bf",
   "metadata": {},
   "source": [
    "## Non-malicious (flags = 0)"
   ]
  },
  {
   "cell_type": "markdown",
   "id": "1f17fe56",
   "metadata": {},
   "source": [
    "### Summarize"
   ]
  },
  {
   "cell_type": "code",
   "execution_count": 12,
   "id": "cac82614",
   "metadata": {
    "ExecuteTime": {
     "end_time": "2024-11-11T11:50:33.881945Z",
     "start_time": "2024-11-11T11:50:33.877034Z"
    }
   },
   "outputs": [
    {
     "data": {
      "text/plain": [
       "95.32340582165732"
      ]
     },
     "execution_count": 12,
     "metadata": {},
     "output_type": "execute_result"
    }
   ],
   "source": [
    "100 * (len(df_nonmal_visits) / len(df))"
   ]
  },
  {
   "cell_type": "code",
   "execution_count": 13,
   "id": "73222d8f",
   "metadata": {
    "ExecuteTime": {
     "end_time": "2024-11-11T11:50:34.102448Z",
     "start_time": "2024-11-11T11:50:33.884221Z"
    },
    "scrolled": true
   },
   "outputs": [
    {
     "data": {
      "text/html": [
       "<div>\n",
       "<style scoped>\n",
       "    .dataframe tbody tr th:only-of-type {\n",
       "        vertical-align: middle;\n",
       "    }\n",
       "\n",
       "    .dataframe tbody tr th {\n",
       "        vertical-align: top;\n",
       "    }\n",
       "\n",
       "    .dataframe thead th {\n",
       "        text-align: right;\n",
       "    }\n",
       "</style>\n",
       "<table border=\"1\" class=\"dataframe\">\n",
       "  <thead>\n",
       "    <tr style=\"text-align: right;\">\n",
       "      <th></th>\n",
       "      <th>var</th>\n",
       "      <th>mean</th>\n",
       "      <th>std</th>\n",
       "      <th>min</th>\n",
       "      <th>5%</th>\n",
       "      <th>10%</th>\n",
       "      <th>25%</th>\n",
       "      <th>50%</th>\n",
       "      <th>75%</th>\n",
       "      <th>90%</th>\n",
       "      <th>95%</th>\n",
       "      <th>99%</th>\n",
       "      <th>max</th>\n",
       "    </tr>\n",
       "  </thead>\n",
       "  <tbody>\n",
       "    <tr>\n",
       "      <th>0</th>\n",
       "      <td>duration</td>\n",
       "      <td>37</td>\n",
       "      <td>264</td>\n",
       "      <td>0</td>\n",
       "      <td>0</td>\n",
       "      <td>1</td>\n",
       "      <td>2</td>\n",
       "      <td>7</td>\n",
       "      <td>23</td>\n",
       "      <td>67</td>\n",
       "      <td>125</td>\n",
       "      <td>445</td>\n",
       "      <td>86,258</td>\n",
       "    </tr>\n",
       "  </tbody>\n",
       "</table>\n",
       "</div>"
      ],
      "text/plain": [
       "        var mean  std min 5% 10% 25% 50% 75% 90%  95%  99%     max\n",
       "0  duration   37  264   0  0   1   2   7  23  67  125  445  86,258"
      ]
     },
     "execution_count": 13,
     "metadata": {},
     "output_type": "execute_result"
    }
   ],
   "source": [
    "percentiles = [5, 10, 25, 50, 75, 90, 95, 99]\n",
    "df_summ = (\n",
    "    df_nonmal_visits[[\"duration\"]]\n",
    "    .describe(percentiles=[p / 100 for p in percentiles])\n",
    "    .astype(int)\n",
    "    .T.drop(columns=\"count\")\n",
    "    .applymap(lambda x: f\"{x:,}\")\n",
    "    .reset_index(names=\"var\")\n",
    "    #     .assign(\n",
    "    #         var=lambda df: df[\"var\"].replace(\n",
    "    #             {\n",
    "    #                 \"malicious_bool\": \"\\\\# unique malicious sites\",\n",
    "    #                 \"malicious_visits\": \"\\\\# visits to malicious sites\",\n",
    "    #                 \"malicious_min\": \"\\\\# minutes spent on malicious sites\",\n",
    "    #                 \"suspicious_bool\": \"\\# unique suspicious sites\",\n",
    "    #             }\n",
    "    #         )\n",
    "    #     )\n",
    ")\n",
    "df_summ"
   ]
  },
  {
   "cell_type": "code",
   "execution_count": 14,
   "id": "c2bec6f8",
   "metadata": {
    "ExecuteTime": {
     "end_time": "2024-11-11T11:50:34.118712Z",
     "start_time": "2024-11-11T11:50:34.105592Z"
    },
    "scrolled": true
   },
   "outputs": [
    {
     "data": {
      "text/plain": [
       "18.34178233477636"
      ]
     },
     "execution_count": 14,
     "metadata": {},
     "output_type": "execute_result"
    }
   ],
   "source": [
    "# 1 second is the 17th percentile\n",
    "# `weak' This kind corresponds to the definition of a cumulative distribution function.\n",
    "# A percentileofscore of 80% means that 80%of values are less than or equal to the provided score.\n",
    "percentileofscore(df_nonmal_visits[\"duration\"], 1, kind=\"weak\")"
   ]
  },
  {
   "cell_type": "code",
   "execution_count": 15,
   "id": "aeb58ae4",
   "metadata": {
    "ExecuteTime": {
     "end_time": "2024-11-11T11:50:34.506731Z",
     "start_time": "2024-11-11T11:50:34.121641Z"
    }
   },
   "outputs": [
    {
     "data": {
      "text/plain": [
       "1101035"
      ]
     },
     "execution_count": 15,
     "metadata": {},
     "output_type": "execute_result"
    }
   ],
   "source": [
    "# 7000 visits are 1 second or less\n",
    "len(df_nonmal_visits.query(\"duration<=1\"))"
   ]
  },
  {
   "cell_type": "code",
   "execution_count": 16,
   "id": "5b27181d",
   "metadata": {
    "ExecuteTime": {
     "end_time": "2024-11-11T11:50:38.716922Z",
     "start_time": "2024-11-11T11:50:34.508508Z"
    }
   },
   "outputs": [
    {
     "name": "stdout",
     "output_type": "stream",
     "text": [
      "18.34% of visits are 1 seconds or less\n",
      "26.84% of visits are 2 seconds or less\n",
      "33.47% of visits are 3 seconds or less\n",
      "38.93% of visits are 4 seconds or less\n",
      "43.52% of visits are 5 seconds or less\n",
      "47.47% of visits are 6 seconds or less\n",
      "50.87% of visits are 7 seconds or less\n",
      "53.91% of visits are 8 seconds or less\n",
      "56.61% of visits are 9 seconds or less\n"
     ]
    },
    {
     "data": {
      "text/plain": [
       "{1: 18.34178233477636,\n",
       " 2: 26.841720447805127,\n",
       " 3: 33.470956186189994,\n",
       " 4: 38.92622190119108,\n",
       " 5: 43.52028418363922,\n",
       " 6: 47.46629075815122,\n",
       " 7: 50.87372242552282,\n",
       " 8: 53.90909928386029,\n",
       " 9: 56.60793762459647}"
      ]
     },
     "execution_count": 16,
     "metadata": {},
     "output_type": "execute_result"
    }
   ],
   "source": [
    "# How many % are x seconds or less\n",
    "thresholds = range(1, 10)  # Adjust this range as needed\n",
    "\n",
    "# Calculate and store results in a dictionary\n",
    "cumulative_percentages = {}\n",
    "for t in thresholds:\n",
    "    percentage = 100 * len(df_nonmal_visits.query(f\"duration <= {t}\")) / len(df_nonmal_visits)\n",
    "    cumulative_percentages[t] = percentage\n",
    "    print(f\"{percentage:.2f}% of visits are {t} seconds or less\")\n",
    "\n",
    "cumulative_percentages"
   ]
  },
  {
   "cell_type": "markdown",
   "id": "13715b48",
   "metadata": {},
   "source": [
    "### Plot"
   ]
  },
  {
   "cell_type": "code",
   "execution_count": 17,
   "id": "ff84dd8d",
   "metadata": {
    "ExecuteTime": {
     "end_time": "2024-11-11T11:50:44.368106Z",
     "start_time": "2024-11-11T11:50:38.718995Z"
    },
    "code_folding": [
     0
    ]
   },
   "outputs": [
    {
     "data": {
      "image/png": "[encoded data removed]",
      "text/plain": [
       "<Figure size 691.2x518.4 with 1 Axes>"
      ]
     },
     "metadata": {
      "needs_background": "light"
     },
     "output_type": "display_data"
    }
   ],
   "source": [
    "# plot\n",
    "_scale = 0.8\n",
    "_aspect_ratio = (12, 9)\n",
    "figsize = tuple(k * _scale for k in _aspect_ratio)\n",
    "_, ax = plt.subplots(figsize=figsize)\n",
    "\n",
    "sns.histplot(\n",
    "    df_nonmal_visits.query(\"duration < 100\")[\"duration\"],\n",
    "    color=\".5\",\n",
    "    stat=\"density\",\n",
    "    alpha=0.7,\n",
    "    discrete=True,\n",
    "    ax=ax,\n",
    ")\n",
    "\n",
    "plt.xlabel(\"Dwelling time (seconds) on non-malicious websites\", fontsize=16)\n",
    "plt.ylabel(\"Density\", fontsize=16)\n",
    "plt.xticks(np.arange(0, 100, 15))\n",
    "plt.yticks([])\n",
    "plt.grid(True, linestyle=\"--\", alpha=0.2)\n",
    "plt.tight_layout()\n",
    "\n",
    "save_mpl_fig(\"../figs/dwelling-time-nonmalicious-visits\")\n",
    "\n",
    "# ====================================================================\n",
    "# Annotate\n",
    "# Annotate 1 second\n",
    "_secs = 1\n",
    "_x = 100 * len(df_nonmal_visits.query(f\"duration<={_secs}\")) / len(df_nonmal_visits)\n",
    "ax.axvline(_secs + 0.5, color=\"#032f30\", linestyle=\"--\", linewidth=1.2)\n",
    "ax.text(\n",
    "    _secs + 1.5,  # x position\n",
    "    ax.get_ylim()[1] * 0.9,  # Y position, slightly below the top\n",
    "    f\"{_x:.1f}% $\\\\leq$ {_secs} second dwelling time\",\n",
    "    color=\".2\",\n",
    "    fontsize=12,\n",
    "    ha=\"left\",  # Align text to the right of the line\n",
    ")\n",
    "# Annotate 5 seconds\n",
    "_secs = 5\n",
    "_x = 100 * len(df_nonmal_visits.query(f\"duration<={_secs}\")) / len(df_nonmal_visits)\n",
    "ax.axvline(_secs + 0.5, color=\"#032f30\", linestyle=\"--\", linewidth=1.2)\n",
    "ax.text(\n",
    "    _secs + 1.5,  # x position\n",
    "    ax.get_ylim()[1] * 0.8,  # Y position, slightly below the top\n",
    "    f\"{_x:.1f}% $\\\\leq$ {_secs} second dwelling time\",\n",
    "    color=\".2\",\n",
    "    fontsize=12,\n",
    "    ha=\"left\",  # Align text to the right of the line\n",
    ")\n",
    "\n",
    "# Annotate 30 seconds\n",
    "_secs = 30\n",
    "_x = 100 * len(df_nonmal_visits.query(f\"duration<={_secs}\")) / len(df_nonmal_visits)\n",
    "ax.axvline(_secs + 0.5, color=\"#032f30\", linestyle=\"--\", linewidth=1.2)\n",
    "ax.text(\n",
    "    _secs + 1.5,  # x position\n",
    "    ax.get_ylim()[1] * 0.7,  # Y position, slightly below the top\n",
    "    f\"{_x:.1f}% $\\\\leq$ {_secs} second dwelling time\",\n",
    "    color=\".2\",\n",
    "    fontsize=12,\n",
    "    ha=\"left\",  # Align text to the right of the line\n",
    ")\n",
    "\n",
    "save_mpl_fig(\"../figs/dwelling-time-nonmalicious-visits-annotated\")"
   ]
  },
  {
   "cell_type": "code",
   "execution_count": 18,
   "id": "676132b5",
   "metadata": {
    "ExecuteTime": {
     "end_time": "2024-11-11T11:50:50.774020Z",
     "start_time": "2024-11-11T11:50:44.369956Z"
    },
    "code_folding": [
     0
    ]
   },
   "outputs": [
    {
     "data": {
      "image/png": "[encoded data removed]",
      "text/plain": [
       "<Figure size 691.2x518.4 with 1 Axes>"
      ]
     },
     "metadata": {
      "needs_background": "light"
     },
     "output_type": "display_data"
    }
   ],
   "source": [
    "# Plot\n",
    "_scale = 0.8\n",
    "_aspect_ratio = (12, 9)\n",
    "figsize = tuple(k * _scale for k in _aspect_ratio)\n",
    "_, ax = plt.subplots(figsize=figsize)\n",
    "\n",
    "# Plot the CDF using Seaborn's ecdfplot\n",
    "sns.ecdfplot(data=df_nonmal_visits, x=\"duration\", color=\".3\", ax=ax)\n",
    "ax.set_xlim(-3, 101)\n",
    "\n",
    "plt.xlabel(\"Dwelling time (seconds) on malicious websites\", fontsize=16)\n",
    "plt.ylabel(\"Cumulative Probability\", fontsize=16)\n",
    "plt.xticks(np.arange(0, 100, 15))\n",
    "plt.grid(True, linestyle=\"--\", alpha=0.2)\n",
    "plt.tight_layout()\n",
    "\n",
    "# legend\n",
    "custom_legend = [\n",
    "    Line2D([0], [0], color=\".3\", lw=2, label=\"CDF\"),\n",
    "]\n",
    "\n",
    "ax.legend(\n",
    "    handles=custom_legend, loc=\"lower right\", fontsize=16, frameon=True, fancybox=False\n",
    ")\n",
    "\n",
    "save_mpl_fig(\"../figs/dwelling-time-nonmalicious-visits-CDF\")\n",
    "\n",
    "# ====================================================\n",
    "# Annotate\n",
    "# Find the duration at 50% cumulative probability\n",
    "_cum_p = 50\n",
    "_duration_cum_p = np.percentile(df_nonmal_visits[\"duration\"], _cum_p)\n",
    "\n",
    "ax.axvline(_duration_cum_p, color=\"#032f30\", linestyle=\"--\", alpha=0.8, linewidth=1.5)\n",
    "ax.text(\n",
    "    _duration_cum_p + 1.5,\n",
    "    _cum_p / 100,  # Y position at 50% cumulative probability\n",
    "    f\"{_cum_p}p: {int(_duration_cum_p)} seconds\",  # Format as integer\n",
    "    color=\".2\",\n",
    "    fontsize=12,\n",
    "    ha=\"left\",\n",
    ")\n",
    "\n",
    "# Find the duration at 80% cumulative probability\n",
    "_cum_p = 80\n",
    "_duration_cum_p = np.percentile(df_nonmal_visits[\"duration\"], _cum_p)\n",
    "\n",
    "ax.axvline(_duration_cum_p, color=\"#032f30\", linestyle=\"--\", alpha=0.8, linewidth=1.5)\n",
    "ax.text(\n",
    "    _duration_cum_p + 0.5,\n",
    "    _cum_p / 100,  # Y position at 50% cumulative probability\n",
    "    f\"{_cum_p}p: {int(_duration_cum_p)} seconds\",  # Format as integer\n",
    "    color=\".2\",\n",
    "    fontsize=12,\n",
    "    ha=\"left\",\n",
    "    va=\"top\",\n",
    ")\n",
    "\n",
    "# Find the duration at 90% cumulative probability\n",
    "_cum_p = 90\n",
    "_duration_cum_p = np.percentile(df_nonmal_visits[\"duration\"], _cum_p)\n",
    "\n",
    "ax.axvline(_duration_cum_p, color=\"#032f30\", linestyle=\"--\", alpha=0.8, linewidth=1.5)\n",
    "ax.text(\n",
    "    _duration_cum_p + 0.5,\n",
    "    _cum_p / 100,  # Y position at 50% cumulative probability\n",
    "    f\"{_cum_p}p: {int(_duration_cum_p)} seconds\",  # Format as integer\n",
    "    color=\".2\",\n",
    "    fontsize=12,\n",
    "    ha=\"left\",\n",
    "    va=\"top\",\n",
    ")\n",
    "\n",
    "save_mpl_fig(\"../figs/dwelling-time-nonmalicious-visits-CDF-annotated\")"
   ]
  },
  {
   "cell_type": "code",
   "execution_count": null,
   "id": "86ea41c7",
   "metadata": {},
   "outputs": [],
   "source": []
  }
 ],
 "metadata": {
  "kernelspec": {
   "display_name": "Python 3 (ipykernel)",
   "language": "python",
   "name": "python3"
  },
  "language_info": {
   "codemirror_mode": {
    "name": "ipython",
    "version": 3
   },
   "file_extension": ".py",
   "mimetype": "text/x-python",
   "name": "python",
   "nbconvert_exporter": "python",
   "pygments_lexer": "ipython3",
   "version": "3.10.11"
  },
  "toc": {
   "base_numbering": 1,
   "nav_menu": {},
   "number_sections": true,
   "sideBar": true,
   "skip_h1_title": false,
   "title_cell": "Table of Contents",
   "title_sidebar": "Contents",
   "toc_cell": false,
   "toc_position": {
    "height": "calc(100% - 180px)",
    "left": "10px",
    "top": "150px",
    "width": "255.865px"
   },
   "toc_section_display": true,
   "toc_window_display": true
  }
 },
 "nbformat": 4,
 "nbformat_minor": 5
}
